{
 "cells": [
  {
   "cell_type": "code",
   "execution_count": 16,
   "id": "0069dff5-c5a9-426c-8176-54ffa58fe1d5",
   "metadata": {},
   "outputs": [],
   "source": [
    "import torch\n",
    "import argparse\n",
    "import random\n",
    "import math\n",
    "from torch.utils import data\n",
    "from torchvision import datasets, transforms\n",
    "\n",
    "from J_Model import PCModel\n",
    "import J_optim as optim\n",
    "import J_utils as utils\n",
    "\n",
    "from PIL import Image\n",
    "import numpy as np\n",
    "from torch.utils.data import TensorDataset, DataLoader\n",
    "import matplotlib.pyplot as plt\n",
    "import pickle\n",
    "from copy import copy\n",
    "from time import perf_counter\n",
    "from scipy.stats import ttest_ind, bootstrap\n",
    "import seaborn as sns\n",
    "import pandas as pd\n",
    "\n",
    "from stimuli_data import *\n",
    "from image_net_data import *\n",
    "from output_embedding import *"
   ]
  },
  {
   "cell_type": "code",
   "execution_count": 17,
   "id": "38cdce31-6244-4d8b-aaa2-80a517b3176b",
   "metadata": {},
   "outputs": [],
   "source": [
    "import warnings\n",
    "warnings.simplefilter(action='ignore', category=FutureWarning)"
   ]
  },
  {
   "cell_type": "code",
   "execution_count": 18,
   "id": "c55d7a9d-f92e-4de4-97c2-4f57ff9d4dc1",
   "metadata": {},
   "outputs": [],
   "source": [
    "default_font_size = 18\n",
    "plt.rcParams.update({'font.size': default_font_size})"
   ]
  },
  {
   "cell_type": "code",
   "execution_count": 19,
   "id": "98974886-fc34-405f-b7ce-75099966b202",
   "metadata": {},
   "outputs": [],
   "source": [
    "output_vec_dic = load_vector()"
   ]
  },
  {
   "cell_type": "code",
   "execution_count": 20,
   "id": "670047fe-3658-40f2-8723-4287aa156148",
   "metadata": {},
   "outputs": [
    {
     "data": {
      "text/plain": [
       "<torch._C.Generator at 0x5908cbca030>"
      ]
     },
     "execution_count": 20,
     "metadata": {},
     "output_type": "execute_result"
    }
   ],
   "source": [
    "# ====================================================================================\n",
    "#\n",
    "# Global Parameters and Settings\n",
    "#\n",
    "# ====================================================================================\n",
    "parser = argparse.ArgumentParser(description='Predictive Coding')\n",
    "\n",
    "# dataset params\n",
    "parser.add_argument('--batch-size', type=int, default=64,\n",
    "                    help='input batch size for training (default: 64)')\n",
    "parser.add_argument('--test-batch-size', type=int, default=1000,\n",
    "                    help='input batch size for testing (default: 1000)')\n",
    "\n",
    "# optim params\n",
    "parser.add_argument('--lr', type=float, default=1e-4, help='learning rate')\n",
    "parser.add_argument('--epoch', type=int, default=10, help='epochs for training') #12\n",
    "\n",
    "# inference params\n",
    "parser.add_argument('--infer-lr', type=float, default=0.005, help='Inference learning rate')\n",
    "parser.add_argument('--infer-iter', type=int, default=1000, help='Iteration for inference') #500\n",
    "parser.add_argument('--test-iter', type=int, default=1000, help='Iteration for testing') #2000\n",
    "parser.add_argument('--test-infer-iter', type=int, default=1000, help='Iteration for testing') #20000\n",
    "parser.add_argument('--test-lr', type=int, default=0.005, help='Iteration for testing')\n",
    "\n",
    "# convergence tolerance\n",
    "parser.add_argument('--train-convergence-norm', type=str, default=\"Activity\", help=\"Norm for measuring convergence\")\n",
    "parser.add_argument('--train-convergence-tolerance', type=float, default=1e-10, help=\"Tolerance for measuring convergence\")\n",
    "parser.add_argument('--test-convergence-norm', type=str, default=\"Activity\", help=\"Norm for measuring convergence\")\n",
    "parser.add_argument('--test-convergence-tolerance', type=float, default=1, help=\"Tolerance for measuring convergence\")\n",
    "parser.add_argument('--output-vec-dic', type=float, default=output_vec_dic, help=\"Output vector embedding\")\n",
    "\n",
    "# experiment params\n",
    "parser.add_argument('--seed', type=int, default=1, help='random seed (default: 1)')\n",
    "parser.add_argument('--test-every', type=int, default=1, help='Test Cycle regards to Epoch ')\n",
    "parser.add_argument('--no-cuda', action='store_true', default=False,\n",
    "                    help='disables CUDA training')\n",
    "\n",
    "# args = parser.parse_args()\n",
    "args, unknown = parser.parse_known_args()\n",
    "\n",
    "# Gpu Setting\n",
    "use_cuda = not args.no_cuda and torch.cuda.is_available()\n",
    "device = torch.device(\"cuda\" if use_cuda else \"cpu\")\n",
    "\n",
    "# Misc. Setting\n",
    "# torch.manual_seed(args.seed)\n",
    "torch.manual_seed(random.randint(0,1024))\n"
   ]
  },
  {
   "cell_type": "code",
   "execution_count": 21,
   "id": "2906509a-c7a4-4415-932e-ee4e2ac552a9",
   "metadata": {},
   "outputs": [],
   "source": [
    "load_models = True\n",
    "if load_models:\n",
    "    population_size = 45\n",
    "    networks = [PCModel(\n",
    "        nodes=[2, 100, 200, 300, 6800], #[2, 100, 200, 300, 6800]\n",
    "        mu_dt=args.infer_lr,\n",
    "        act_fn=utils.Tanh()) for i in range(population_size)]\n",
    "    for model_idx, model in enumerate(networks):\n",
    "        for i in range(len(model.layers)):\n",
    "            with open(f'Weights/model_{model_idx}_june_14_params_{i}.pickle', 'rb') as file:\n",
    "                networks[model_idx].layers[i].weights = pickle.load(file)"
   ]
  },
  {
   "cell_type": "code",
   "execution_count": 22,
   "id": "e04d6c0a-5241-41e8-a3c8-188f86532ecc",
   "metadata": {},
   "outputs": [],
   "source": [
    "model = networks[np.random.randint(0, len(networks))]"
   ]
  },
  {
   "cell_type": "code",
   "execution_count": 23,
   "id": "d9278729-43ea-498c-930b-2b5dda0e3d15",
   "metadata": {},
   "outputs": [],
   "source": [
    "img = model.generate_image(label_batch=torch.tensor([[0.4, 1]]), \n",
    "                     n_iters=50000, \n",
    "                     fixed_preds=False, \n",
    "                     mu_dt=0.005, \n",
    "                     error_dt=None)"
   ]
  },
  {
   "cell_type": "code",
   "execution_count": 24,
   "id": "a50ce09a-45ac-4741-8a45-0a1de5e05d95",
   "metadata": {},
   "outputs": [
    {
     "data": {
      "image/png": "[encoded data removed]",
      "text/plain": [
       "<Figure size 640x480 with 1 Axes>"
      ]
     },
     "metadata": {},
     "output_type": "display_data"
    }
   ],
   "source": [
    "plt.figure()\n",
    "plt.imshow(img.squeeze(0).reshape((100, 68)).cpu(), cmap=\"gray\")\n",
    "plt.show()"
   ]
  },
  {
   "cell_type": "code",
   "execution_count": null,
   "id": "19dbb22a-3689-4c7b-bdbd-b6c09cd01673",
   "metadata": {},
   "outputs": [],
   "source": []
  }
 ],
 "metadata": {
  "kernelspec": {
   "display_name": "Python 3 (ipykernel)",
   "language": "python",
   "name": "python3"
  },
  "language_info": {
   "codemirror_mode": {
    "name": "ipython",
    "version": 3
   },
   "file_extension": ".py",
   "mimetype": "text/x-python",
   "name": "python",
   "nbconvert_exporter": "python",
   "pygments_lexer": "ipython3",
   "version": "3.11.5"
  }
 },
 "nbformat": 4,
 "nbformat_minor": 5
}
