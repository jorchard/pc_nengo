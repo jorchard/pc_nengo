{
 "cells": [
  {
   "cell_type": "markdown",
   "id": "e1c306d8",
   "metadata": {},
   "source": [
    "# Predictive Coding"
   ]
  },
  {
   "cell_type": "code",
   "execution_count": 1,
   "id": "4bf8d1d8",
   "metadata": {},
   "outputs": [],
   "source": [
    "import numpy as np\n",
    "import nengo\n",
    "import matplotlib.pyplot as plt"
   ]
  },
  {
   "cell_type": "code",
   "execution_count": 11,
   "id": "c9659ff5",
   "metadata": {},
   "outputs": [],
   "source": [
    "class PCLayer(nengo.Network):\n",
    "    '''\n",
    "     l = PCLayer(n_nodes=10, tau=0.01)\n",
    "     \n",
    "     Creates a layer for a predictive-coding network.\n",
    "     This layer has an array of value nodes, and a corresponding array of error nodes.\n",
    "     \n",
    "     Inputs:\n",
    "      n_nodes  number of nodes in the layer\n",
    "      tau      synaptic time constant for internal error->value connections\n",
    "    '''\n",
    "    def __init__(self, n_nodes=10, tau=0.01):\n",
    "        tau = 0.01\n",
    "        self.label = 'PCLayer'\n",
    "        self.v = nengo.networks.EnsembleArray(n_neurons=50, n_ensembles=n_nodes, radius=1.5)\n",
    "        self.e = nengo.networks.EnsembleArray(n_neurons=50, n_ensembles=n_nodes, radius=1.5)\n",
    "        \n",
    "        nengo.Connection(self.v.output, self.v.input, transform=1)\n",
    "        nengo.Connection(self.e.output, self.v.input, transform=-1, synapse=tau)\n",
    "        nengo.Connection(self.v.output, self.e.input)"
   ]
  },
  {
   "cell_type": "code",
   "execution_count": 12,
   "id": "6bbb3fe3",
   "metadata": {},
   "outputs": [],
   "source": [
    "class PCConnection(nengo.Network):\n",
    "    '''\n",
    "     c = PCConnection(below, above, learn=False, symmetric=True)\n",
    "     \n",
    "     A network that connects two PC layers. It takes care of all the connections\n",
    "     between the two layers.\n",
    "     \n",
    "     Inputs:\n",
    "      below      PCLayer object below\n",
    "      above      PCLayer object above\n",
    "      learn      Boolean, whether to learn (default False)\n",
    "      symmetric  Boolean, whether the connection is symmetric\n",
    "                 ie. W = M.T (default True)\n",
    "    '''\n",
    "    def __init__(self, below, above, learn=False, symmetric=True, M=None):\n",
    "        self.below = below\n",
    "        self.above = above\n",
    "        self.learn = learn\n",
    "        self.tau = 10.    # learning time constant\n",
    "        self.symmetric = symmetric\n",
    "        self.n_e = self.below.e.n_ensembles\n",
    "        self.n_v = self.above.v.n_ensembles\n",
    "        #self.W = np.eye(self.above.v.n_ensembles)\n",
    "        if M is None:\n",
    "            self.M = np.random.normal(size=(self.n_v, self.n_e))/10.\n",
    "        else:\n",
    "            self.M = M\n",
    "        if self.symmetric:\n",
    "            self.W = self.M.T\n",
    "        else:\n",
    "            self.W = np.random.normal(size=(self.n_e, self.above.n_v))\n",
    "        \n",
    "        # Set up the node that applies the connection weights\n",
    "        dims = self.n_e + self.n_v\n",
    "        self.exchange = nengo.Node(self.update, size_in=dims, size_out=dims)\n",
    "        \n",
    "        n = self.n_e\n",
    "        nengo.Connection(self.below.e.output, self.exchange[:n])               # inp -> exchange\n",
    "        nengo.Connection(self.exchange[:n], self.below.e.input, transform=-1)  # inp <- con\n",
    "        nengo.Connection(self.above.v.output, self.exchange[n:], transform=1)  # con <- hid\n",
    "        nengo.Connection(self.exchange[n:], self.above.v.input)                # con -> hid\n",
    "        \n",
    "    def update(self, t, x):\n",
    "        e_in = x[:self.n_e]\n",
    "        v_in = x[self.n_e:]\n",
    "\n",
    "        err_out = self.W @ e_in\n",
    "        pred_out = self.M @ v_in\n",
    "\n",
    "        if self.learn:\n",
    "            dM = np.outer(e_in, v_in)\n",
    "            self.M += dM / self.tau\n",
    "            if not self.symmetric:\n",
    "                self.W += dM.T / self.tau\n",
    "\n",
    "        return np.concatenate((pred_out, err_out))\n"
   ]
  },
  {
   "cell_type": "code",
   "execution_count": 16,
   "id": "2403027c",
   "metadata": {
    "scrolled": false
   },
   "outputs": [],
   "source": [
    "# Using PCLayer class\n",
    "n = 1\n",
    "with nengo.Network() as net:\n",
    "    tau = 0.01\n",
    "    net.config[nengo.Ensemble].neuron_type = nengo.Direct()\n",
    "    net.config[nengo.Connection].synapse = tau\n",
    "    net.config[nengo.Probe].synapse = 0.05\n",
    "    \n",
    "    # Inputs\n",
    "    pred = nengo.Node([1.])  # percept\n",
    "    stim = nengo.Node([1])   # sensory\n",
    "    \n",
    "    # We need a node that computes the error between stim and the prediction from above.\n",
    "    stim_err = nengo.Node(lambda t,x: x[0]+x[1], size_in=2, size_out=1)  # sensory error\n",
    "    \n",
    "    \n",
    "    # PC layers\n",
    "    pc1 = PCLayer(n_nodes=1)\n",
    "    pc2 = PCLayer(n_nodes=1)\n",
    "    \n",
    "    \n",
    "    # Connections\n",
    "    nengo.Connection(stim, stim_err[0])                       # stim -> stim_err\n",
    "    nengo.Connection(stim_err, pc1.v.input)                   # stim_err -> pc1\n",
    "    nengo.Connection(pc1.v.output, stim_err[1], transform=-1) # stim_err <- pc1\n",
    "    \n",
    "    # Connect the two PC layers\n",
    "    pc_con1 = PCConnection(pc1, pc2, learn=False)\n",
    "    \n",
    "    # Connect top layer to predictions from on high\n",
    "    nengo.Connection(pred, pc2.e.input, transform=-1)         # pc2 <- pred\n",
    "    \n",
    "    \n",
    "    # Set up a bunch of probes\n",
    "    p_stim = nengo.Probe(stim)\n",
    "    p_pc1v = nengo.Probe(pc1.v.output)\n",
    "    p_pc1e = nengo.Probe(pc1.e.output)\n",
    "    p_pc2v = nengo.Probe(pc2.v.output)\n",
    "    p_pc2e = nengo.Probe(pc2.e.output)\n",
    "    p_pred = nengo.Probe(pred)"
   ]
  },
  {
   "cell_type": "code",
   "execution_count": 17,
   "id": "5dcc8f11",
   "metadata": {
    "scrolled": false
   },
   "outputs": [
    {
     "data": {
      "application/vdom.v1+json": {
       "attributes": {},
       "tagName": "div"
      },
      "text/html": [
       "\n",
       "                <script>\n",
       "                    if (Jupyter.version.split(\".\")[0] < 5) {\n",
       "                        var pb = document.getElementById(\"1c573d6f-5abb-4d28-bcdd-9ff44bd03a1f\");\n",
       "                        var text = document.createTextNode(\n",
       "                            \"HMTL progress bar requires Jupyter Notebook >= \" +\n",
       "                            \"5.0 or Jupyter Lab. Alternatively, you can use \" +\n",
       "                            \"TerminalProgressBar().\");\n",
       "                        pb.parentNode.insertBefore(text, pb);\n",
       "                    }\n",
       "                </script>\n",
       "                <div id=\"1c573d6f-5abb-4d28-bcdd-9ff44bd03a1f\" style=\"\n",
       "                    width: 100%;\n",
       "                    border: 1px solid #cfcfcf;\n",
       "                    border-radius: 4px;\n",
       "                    text-align: center;\n",
       "                    position: relative;\">\n",
       "                  <div class=\"pb-text\" style=\"\n",
       "                      position: absolute;\n",
       "                      width: 100%;\">\n",
       "                    0%\n",
       "                  </div>\n",
       "                  <div class=\"pb-fill\" style=\"\n",
       "                      background-color: #bdd2e6;\n",
       "                      width: 0%;\">\n",
       "                    <style type=\"text/css\" scoped=\"scoped\">\n",
       "                        @keyframes pb-fill-anim {\n",
       "                            0% { background-position: 0 0; }\n",
       "                            100% { background-position: 100px 0; }\n",
       "                        }\n",
       "                    </style>\n",
       "                    &nbsp;\n",
       "                  </div>\n",
       "                </div>"
      ],
      "text/plain": [
       "HtmlProgressBar cannot be displayed. Please use the TerminalProgressBar. It can be enabled with `nengo.rc['progress']['progress_bar'] = 'nengo.utils.progress.TerminalProgressBar'`."
      ]
     },
     "metadata": {},
     "output_type": "display_data"
    },
    {
     "data": {
      "application/vdom.v1+json": {
       "attributes": {
        "id": "0c9d7af7-e96e-4c83-a5fb-b6665c972328",
        "style": {
         "border": "1px solid #cfcfcf",
         "borderRadius": "4px",
         "boxSizing": "border-box",
         "position": "relative",
         "textAlign": "center",
         "width": "100%"
        }
       },
       "children": [
        {
         "attributes": {
          "class": "pb-text",
          "style": {
           "position": "absolute",
           "width": "100%"
          }
         },
         "children": [
          "Build finished in 0:00:01."
         ],
         "tagName": "div"
        },
        {
         "attributes": {
          "class": "pb-fill",
          "style": {
           "animation": "none",
           "backgroundColor": "#bdd2e6",
           "backgroundImage": "none",
           "backgroundSize": "100px 100%",
           "width": "100%"
          }
         },
         "children": [
          {
           "attributes": {
            "scoped": "scoped",
            "type": "text/css"
           },
           "children": [
            "\n                        @keyframes pb-fill-anim {\n                            0% { background-position: 0 0; }\n                            100% { background-position: 100px 0; }\n                        }}"
           ],
           "tagName": "style"
          },
          " "
         ],
         "tagName": "div"
        }
       ],
       "tagName": "div"
      },
      "text/html": [
       "<script>\n",
       "              (function () {\n",
       "                  var root = document.getElementById('1c573d6f-5abb-4d28-bcdd-9ff44bd03a1f');\n",
       "                  var text = root.getElementsByClassName('pb-text')[0];\n",
       "                  var fill = root.getElementsByClassName('pb-fill')[0];\n",
       "\n",
       "                  text.innerHTML = 'Build finished in 0:00:01.';\n",
       "                  \n",
       "            fill.style.width = '100%';\n",
       "            fill.style.animation = 'pb-fill-anim 2s linear infinite';\n",
       "            fill.style.backgroundSize = '100px 100%';\n",
       "            fill.style.backgroundImage = 'repeating-linear-gradient(' +\n",
       "                '90deg, #bdd2e6, #edf2f8 40%, #bdd2e6 80%, #bdd2e6)';\n",
       "        \n",
       "                  \n",
       "                fill.style.animation = 'none';\n",
       "                fill.style.backgroundImage = 'none';\n",
       "            \n",
       "              })();\n",
       "        </script>"
      ]
     },
     "metadata": {},
     "output_type": "display_data"
    }
   ],
   "source": [
    "sim = nengo.Simulator(net)"
   ]
  },
  {
   "cell_type": "code",
   "execution_count": 18,
   "id": "9f20709a",
   "metadata": {},
   "outputs": [
    {
     "data": {
      "application/vdom.v1+json": {
       "attributes": {},
       "tagName": "div"
      },
      "text/html": [
       "\n",
       "                <script>\n",
       "                    if (Jupyter.version.split(\".\")[0] < 5) {\n",
       "                        var pb = document.getElementById(\"1759a490-7d30-4350-94dc-3865f4931988\");\n",
       "                        var text = document.createTextNode(\n",
       "                            \"HMTL progress bar requires Jupyter Notebook >= \" +\n",
       "                            \"5.0 or Jupyter Lab. Alternatively, you can use \" +\n",
       "                            \"TerminalProgressBar().\");\n",
       "                        pb.parentNode.insertBefore(text, pb);\n",
       "                    }\n",
       "                </script>\n",
       "                <div id=\"1759a490-7d30-4350-94dc-3865f4931988\" style=\"\n",
       "                    width: 100%;\n",
       "                    border: 1px solid #cfcfcf;\n",
       "                    border-radius: 4px;\n",
       "                    text-align: center;\n",
       "                    position: relative;\">\n",
       "                  <div class=\"pb-text\" style=\"\n",
       "                      position: absolute;\n",
       "                      width: 100%;\">\n",
       "                    0%\n",
       "                  </div>\n",
       "                  <div class=\"pb-fill\" style=\"\n",
       "                      background-color: #bdd2e6;\n",
       "                      width: 0%;\">\n",
       "                    <style type=\"text/css\" scoped=\"scoped\">\n",
       "                        @keyframes pb-fill-anim {\n",
       "                            0% { background-position: 0 0; }\n",
       "                            100% { background-position: 100px 0; }\n",
       "                        }\n",
       "                    </style>\n",
       "                    &nbsp;\n",
       "                  </div>\n",
       "                </div>"
      ],
      "text/plain": [
       "HtmlProgressBar cannot be displayed. Please use the TerminalProgressBar. It can be enabled with `nengo.rc['progress']['progress_bar'] = 'nengo.utils.progress.TerminalProgressBar'`."
      ]
     },
     "metadata": {},
     "output_type": "display_data"
    },
    {
     "data": {
      "application/vdom.v1+json": {
       "attributes": {
        "id": "e757f75d-e6b2-4562-98d2-10d7d3692490",
        "style": {
         "border": "1px solid #cfcfcf",
         "borderRadius": "4px",
         "boxSizing": "border-box",
         "position": "relative",
         "textAlign": "center",
         "width": "100%"
        }
       },
       "children": [
        {
         "attributes": {
          "class": "pb-text",
          "style": {
           "position": "absolute",
           "width": "100%"
          }
         },
         "children": [
          "Simulation finished in 0:00:01."
         ],
         "tagName": "div"
        },
        {
         "attributes": {
          "class": "pb-fill",
          "style": {
           "animation": "none",
           "backgroundColor": "#bdd2e6",
           "backgroundImage": "none",
           "transition": "width 0.1s linear",
           "width": "100%"
          }
         },
         "children": [
          {
           "attributes": {
            "scoped": "scoped",
            "type": "text/css"
           },
           "children": [
            "\n                        @keyframes pb-fill-anim {\n                            0% { background-position: 0 0; }\n                            100% { background-position: 100px 0; }\n                        }}"
           ],
           "tagName": "style"
          },
          " "
         ],
         "tagName": "div"
        }
       ],
       "tagName": "div"
      },
      "text/html": [
       "<script>\n",
       "              (function () {\n",
       "                  var root = document.getElementById('1759a490-7d30-4350-94dc-3865f4931988');\n",
       "                  var text = root.getElementsByClassName('pb-text')[0];\n",
       "                  var fill = root.getElementsByClassName('pb-fill')[0];\n",
       "\n",
       "                  text.innerHTML = 'Simulation finished in 0:00:01.';\n",
       "                  \n",
       "            if (100.0 > 0.) {\n",
       "                fill.style.transition = 'width 0.1s linear';\n",
       "            } else {\n",
       "                fill.style.transition = 'none';\n",
       "            }\n",
       "\n",
       "            fill.style.width = '100.0%';\n",
       "            fill.style.animation = 'none';\n",
       "            fill.style.backgroundImage = 'none'\n",
       "        \n",
       "                  \n",
       "                fill.style.animation = 'none';\n",
       "                fill.style.backgroundImage = 'none';\n",
       "            \n",
       "              })();\n",
       "        </script>"
      ]
     },
     "metadata": {},
     "output_type": "display_data"
    }
   ],
   "source": [
    "sim.run(1.)"
   ]
  },
  {
   "cell_type": "code",
   "execution_count": 20,
   "id": "47b63caf",
   "metadata": {
    "scrolled": false
   },
   "outputs": [
    {
     "data": {
      "image/png": "[encoded data removed]",
      "text/plain": [
       "<Figure size 640x480 with 1 Axes>"
      ]
     },
     "metadata": {},
     "output_type": "display_data"
    }
   ],
   "source": [
    "plt.plot(sim.trange(), sim.data[p_pc1v]);\n",
    "plt.plot(sim.trange(), sim.data[p_pc1e]);\n",
    "plt.plot(sim.trange(), sim.data[p_pc2v]);\n",
    "plt.plot(sim.trange(), sim.data[p_pc2e]);\n",
    "plt.plot(sim.trange(), sim.data[p_stim], ':');\n",
    "plt.legend(['pc1_v', 'pc1_e', 'pc2_v', 'pc2_e', 'stim']);"
   ]
  },
  {
   "cell_type": "code",
   "execution_count": 21,
   "id": "9d1dcda3",
   "metadata": {},
   "outputs": [],
   "source": [
    "pc_con1.learn = True"
   ]
  },
  {
   "cell_type": "code",
   "execution_count": 22,
   "id": "0baaa5eb",
   "metadata": {},
   "outputs": [
    {
     "data": {
      "application/vdom.v1+json": {
       "attributes": {},
       "tagName": "div"
      },
      "text/html": [
       "\n",
       "                <script>\n",
       "                    if (Jupyter.version.split(\".\")[0] < 5) {\n",
       "                        var pb = document.getElementById(\"df7b5726-eab4-43b2-ac1d-042a987c32ec\");\n",
       "                        var text = document.createTextNode(\n",
       "                            \"HMTL progress bar requires Jupyter Notebook >= \" +\n",
       "                            \"5.0 or Jupyter Lab. Alternatively, you can use \" +\n",
       "                            \"TerminalProgressBar().\");\n",
       "                        pb.parentNode.insertBefore(text, pb);\n",
       "                    }\n",
       "                </script>\n",
       "                <div id=\"df7b5726-eab4-43b2-ac1d-042a987c32ec\" style=\"\n",
       "                    width: 100%;\n",
       "                    border: 1px solid #cfcfcf;\n",
       "                    border-radius: 4px;\n",
       "                    text-align: center;\n",
       "                    position: relative;\">\n",
       "                  <div class=\"pb-text\" style=\"\n",
       "                      position: absolute;\n",
       "                      width: 100%;\">\n",
       "                    0%\n",
       "                  </div>\n",
       "                  <div class=\"pb-fill\" style=\"\n",
       "                      background-color: #bdd2e6;\n",
       "                      width: 0%;\">\n",
       "                    <style type=\"text/css\" scoped=\"scoped\">\n",
       "                        @keyframes pb-fill-anim {\n",
       "                            0% { background-position: 0 0; }\n",
       "                            100% { background-position: 100px 0; }\n",
       "                        }\n",
       "                    </style>\n",
       "                    &nbsp;\n",
       "                  </div>\n",
       "                </div>"
      ],
      "text/plain": [
       "HtmlProgressBar cannot be displayed. Please use the TerminalProgressBar. It can be enabled with `nengo.rc['progress']['progress_bar'] = 'nengo.utils.progress.TerminalProgressBar'`."
      ]
     },
     "metadata": {},
     "output_type": "display_data"
    },
    {
     "data": {
      "application/vdom.v1+json": {
       "attributes": {
        "id": "b559dc38-0ebe-488e-8ad0-b58f45768167",
        "style": {
         "border": "1px solid #cfcfcf",
         "borderRadius": "4px",
         "boxSizing": "border-box",
         "position": "relative",
         "textAlign": "center",
         "width": "100%"
        }
       },
       "children": [
        {
         "attributes": {
          "class": "pb-text",
          "style": {
           "position": "absolute",
           "width": "100%"
          }
         },
         "children": [
          "Simulation finished in 0:00:01."
         ],
         "tagName": "div"
        },
        {
         "attributes": {
          "class": "pb-fill",
          "style": {
           "animation": "none",
           "backgroundColor": "#bdd2e6",
           "backgroundImage": "none",
           "transition": "width 0.1s linear",
           "width": "100%"
          }
         },
         "children": [
          {
           "attributes": {
            "scoped": "scoped",
            "type": "text/css"
           },
           "children": [
            "\n                        @keyframes pb-fill-anim {\n                            0% { background-position: 0 0; }\n                            100% { background-position: 100px 0; }\n                        }}"
           ],
           "tagName": "style"
          },
          " "
         ],
         "tagName": "div"
        }
       ],
       "tagName": "div"
      },
      "text/html": [
       "<script>\n",
       "              (function () {\n",
       "                  var root = document.getElementById('df7b5726-eab4-43b2-ac1d-042a987c32ec');\n",
       "                  var text = root.getElementsByClassName('pb-text')[0];\n",
       "                  var fill = root.getElementsByClassName('pb-fill')[0];\n",
       "\n",
       "                  text.innerHTML = 'Simulation finished in 0:00:01.';\n",
       "                  \n",
       "            if (100.0 > 0.) {\n",
       "                fill.style.transition = 'width 0.1s linear';\n",
       "            } else {\n",
       "                fill.style.transition = 'none';\n",
       "            }\n",
       "\n",
       "            fill.style.width = '100.0%';\n",
       "            fill.style.animation = 'none';\n",
       "            fill.style.backgroundImage = 'none'\n",
       "        \n",
       "                  \n",
       "                fill.style.animation = 'none';\n",
       "                fill.style.backgroundImage = 'none';\n",
       "            \n",
       "              })();\n",
       "        </script>"
      ]
     },
     "metadata": {},
     "output_type": "display_data"
    }
   ],
   "source": [
    "sim.run(1.)"
   ]
  },
  {
   "cell_type": "code",
   "execution_count": 23,
   "id": "902671af",
   "metadata": {
    "scrolled": false
   },
   "outputs": [
    {
     "data": {
      "image/png": "[encoded data removed]",
      "text/plain": [
       "<Figure size 640x480 with 1 Axes>"
      ]
     },
     "metadata": {},
     "output_type": "display_data"
    }
   ],
   "source": [
    "plt.plot(sim.trange(), sim.data[p_pc1v]);\n",
    "plt.plot(sim.trange(), sim.data[p_pc1e]);\n",
    "plt.plot(sim.trange(), sim.data[p_pc2v]);\n",
    "plt.plot(sim.trange(), sim.data[p_pc2e]);\n",
    "plt.plot(sim.trange(), sim.data[p_stim], ':');\n",
    "plt.legend(['pc1_v', 'pc1_e', 'pc2_v', 'pc2_e', 'stim']);"
   ]
  },
  {
   "cell_type": "code",
   "execution_count": null,
   "id": "54215ceb",
   "metadata": {},
   "outputs": [],
   "source": []
  }
 ],
 "metadata": {
  "kernelspec": {
   "display_name": "nengo_phasors",
   "language": "python",
   "name": "nengo_phasors"
  },
  "language_info": {
   "codemirror_mode": {
    "name": "ipython",
    "version": 3
   },
   "file_extension": ".py",
   "mimetype": "text/x-python",
   "name": "python",
   "nbconvert_exporter": "python",
   "pygments_lexer": "ipython3",
   "version": "3.9.6"
  },
  "varInspector": {
   "cols": {
    "lenName": 16,
    "lenType": 16,
    "lenVar": 40
   },
   "kernels_config": {
    "python": {
     "delete_cmd_postfix": "",
     "delete_cmd_prefix": "del ",
     "library": "var_list.py",
     "varRefreshCmd": "print(var_dic_list())"
    },
    "r": {
     "delete_cmd_postfix": ") ",
     "delete_cmd_prefix": "rm(",
     "library": "var_list.r",
     "varRefreshCmd": "cat(var_dic_list()) "
    }
   },
   "types_to_exclude": [
    "module",
    "function",
    "builtin_function_or_method",
    "instance",
    "_Feature"
   ],
   "window_display": false
  }
 },
 "nbformat": 4,
 "nbformat_minor": 5
}
