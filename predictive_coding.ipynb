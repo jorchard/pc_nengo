{
 "cells": [
  {
   "cell_type": "markdown",
   "id": "e1c306d8",
   "metadata": {},
   "source": [
    "# Predictive Coding"
   ]
  },
  {
   "cell_type": "code",
   "execution_count": 1,
   "id": "4bf8d1d8",
   "metadata": {},
   "outputs": [],
   "source": [
    "import numpy as np\n",
    "import nengo\n",
    "import matplotlib.pyplot as plt"
   ]
  },
  {
   "cell_type": "markdown",
   "id": "3f28966b",
   "metadata": {},
   "source": [
    "# `PCLayer` class\n",
    "This class models both the value nodes and error nodes of a single layer, as well as their interactions."
   ]
  },
  {
   "cell_type": "code",
   "execution_count": 2,
   "id": "c9659ff5",
   "metadata": {},
   "outputs": [],
   "source": [
    "class PCLayer(nengo.Network):\n",
    "    '''\n",
    "     l = PCLayer(n_nodes=10, tau=0.01)\n",
    "     \n",
    "     Creates a layer for a predictive-coding network.\n",
    "     This layer has an array of value nodes, and a corresponding array of error nodes.\n",
    "     \n",
    "     Inputs:\n",
    "      n_nodes  number of nodes in the layer\n",
    "      tau      synaptic time constant for internal error->value connections\n",
    "    '''\n",
    "    def __init__(self, n_nodes=10, tau=0.01):\n",
    "        self.label = 'PCLayer'\n",
    "        \n",
    "        # When the network is run in using the \"Direct\" neuron model, it treats\n",
    "        # each \"Ensemble\" as a single variable, and the decodings are done by\n",
    "        # the user-supplied decoding functions, not using decoding weights.\n",
    "        # In this case, the \"n_neurons\" argument is ignored.\n",
    "        \n",
    "        # An \"EnsembleArray\" can be thought of as a group of nodes.\n",
    "        # An EnsembleArray holding the values (v)\n",
    "        self.v = nengo.networks.EnsembleArray(n_neurons=50, n_ensembles=n_nodes, radius=1.5)\n",
    "        # and an EnsembleArray holding the errors (e)\n",
    "        self.e = nengo.networks.EnsembleArray(n_neurons=50, n_ensembles=n_nodes, radius=1.5)\n",
    "        \n",
    "        nengo.Connection(self.v.output, self.v.input, transform=1, synapse=tau)               # sustain old state\n",
    "        #nengo.Connection(self.e.output, self.e.input, transform=-1, synapse=tau)               # sustain old state\n",
    "        nengo.Connection(self.e.output, self.v.input, transform=-1, synapse=tau) # (v)<-(e)\n",
    "        nengo.Connection(self.v.output, self.e.input, synapse=tau)                            # (v)->(e)"
   ]
  },
  {
   "cell_type": "markdown",
   "id": "649d88e2",
   "metadata": {},
   "source": [
    "# `PCConnection` class\n",
    "This class models the weighted, all-to-all connections between `PCLayer`s."
   ]
  },
  {
   "cell_type": "code",
   "execution_count": 3,
   "id": "6bbb3fe3",
   "metadata": {},
   "outputs": [],
   "source": [
    "class PCConnection(nengo.Network):\n",
    "    '''\n",
    "     c = PCConnection(below, above, learn=False, symmetric=True)\n",
    "     \n",
    "     This class builds all the connections between the two PCLayers.\n",
    "     \n",
    "     Inputs:\n",
    "      below        PCLayer object below\n",
    "      above        PCLayer object above\n",
    "      learn        Boolean, whether to learn (default False)\n",
    "      symmetric    Boolean, whether the connection is symmetric\n",
    "                   ie. W = M.T (default True)\n",
    "      activation  Activation function to use. None defaults to linear\n",
    "    '''\n",
    "    def __init__(self, below, above, learn=False, tau_learn=20., symmetric=True, M=None, activation=None):\n",
    "        self.below = below\n",
    "        self.above = above\n",
    "        self.learn = learn\n",
    "        self.tau_learn = tau_learn    # learning time constant\n",
    "        self.symmetric = symmetric\n",
    "        self.n_e = self.below.e.n_ensembles  # dimension of below layer\n",
    "        self.n_v = self.above.v.n_ensembles  # dimension of above layer\n",
    "\n",
    "        if activation is None: #Linear Activiation\n",
    "            self.func = lambda x: x\n",
    "            self.deriv = lambda x: np.ones_like(x)\n",
    "        elif activation==\"ReLU\":\n",
    "            self.func = lambda x: np.maximum(0, x)\n",
    "            self.deriv = lambda x: (np.sign(x)+1)/2\n",
    "        elif activation==\"logistic\":\n",
    "            self.func = lambda x: 1/(1 + np.exp(-1))\n",
    "            self.deriv = lambda x: self.func(x)*(1-self.func(x))\n",
    "        elif activation==\"tanh\":\n",
    "            self.func = lambda x: np.tanh(x)\n",
    "            self.deriv = lambda x: 1 - np.tanh(x)**2\n",
    "        elif activation==\"threshold\":\n",
    "            self.func = lambda x: (np.sign(x)+1)/2\n",
    "            self.deriv = lambda x: np.zeros_like(x)\n",
    "        else:\n",
    "            raise ValueError(\"Unknown activation function. Acceptable inputs are: None, \"\n",
    "                             + \"\\\"ReLU\\\", \"\n",
    "                             + \"\\\"logistic\\\", \"\n",
    "                             + \"\\\"tanh\\\", \"\n",
    "                             + f\"or \\\"threshold\\\". Got \\\"{activation}\\\".\")\n",
    "\n",
    "\n",
    "        # Set up connect matrices\n",
    "        if M is None:\n",
    "            self.M = np.random.normal(size=(self.n_v, self.n_e))/10.\n",
    "        else:\n",
    "            self.M = M\n",
    "        if self.symmetric:\n",
    "            self.W = self.M.T\n",
    "        else:\n",
    "            self.W = np.random.normal(size=(self.n_e, self.above.n_v))\n",
    "        \n",
    "        # Set up the node that applies the connection weights\n",
    "        dims = self.n_e + self.n_v\n",
    "        self.exchange = nengo.Node(self.update, size_in=dims, size_out=dims)\n",
    "        \n",
    "\n",
    "        n = self.n_e\n",
    "        nengo.Connection(self.below.e.output, self.exchange[:n])               # inp -> exchange\n",
    "        nengo.Connection(self.exchange[:n], self.below.e.input, transform=-1)  # inp <- con\n",
    "        nengo.Connection(self.above.v.output, self.exchange[n:], transform=1)  # con <- hid\n",
    "        nengo.Connection(self.exchange[n:], self.above.v.input)                # con -> hid\n",
    "        \n",
    "    def update(self, t, x):\n",
    "        e_in = x[:self.n_e]\n",
    "        v_in = x[self.n_e:]\n",
    "\n",
    "        err_out = self.deriv(v_in) * self.W @ e_in\n",
    "        pred_out = self.M @ self.func(v_in)\n",
    "\n",
    "        if self.learn:\n",
    "            dM = np.outer(e_in, self.func(v_in))\n",
    "            self.M += dM / self.tau_learn\n",
    "            if not self.symmetric:\n",
    "                self.W += dM.T / self.tau_learn\n",
    "\n",
    "        return np.concatenate((pred_out, err_out))\n"
   ]
  },
  {
   "cell_type": "code",
   "execution_count": 4,
   "id": "2403027c",
   "metadata": {
    "scrolled": false
   },
   "outputs": [],
   "source": [
    "# Using PCLayer class\n",
    "n = 1\n",
    "with nengo.Network() as net:\n",
    "    tau = 0.01\n",
    "    #============== Run in Direct mode =======================\n",
    "    net.config[nengo.Ensemble].neuron_type = nengo.Direct()\n",
    "    #=========================================================\n",
    "    net.config[nengo.Connection].synapse = tau\n",
    "    net.config[nengo.Probe].synapse = 0.05\n",
    "    \n",
    "    # Inputs\n",
    "    stim = nengo.Node([1])   # sensory (bottom layer)\n",
    "    pred = nengo.Node([1.])  # percept (top layer)\n",
    "    \n",
    "    # We need a node that computes the error between stim and the prediction from above.\n",
    "    stim_err = nengo.Node(lambda t,x: x[0]+x[1], size_in=2, size_out=1)  # sensory error\n",
    "    \n",
    "    \n",
    "    # PC layers\n",
    "    pc1 = PCLayer(n_nodes=1)\n",
    "    pc2 = PCLayer(n_nodes=1)\n",
    "    \n",
    "    '''\n",
    "     [     /-->         ] -W-> [      /-->       ] -W-> [      /-->       ]      [      ]\n",
    "     [ stim     stim_err]      [ pc1.v     pc1.e ]      [ pc2.v     pc2.e ]      [ pred ]\n",
    "     [                  ] <-M- [       <--/      ] <-M- [       <--/      ] <-M- [      ]\n",
    "    '''\n",
    "    \n",
    "    # Connections\n",
    "    nengo.Connection(stim, stim_err[0])                       # stim -> stim_err\n",
    "    nengo.Connection(stim_err, pc1.v.input)                   # stim_err -> pc1\n",
    "    nengo.Connection(pc1.v.output, stim_err[1], transform=-1) # stim_err <- pc1\n",
    "    \n",
    "    # Connect the two PC layers\n",
    "    pc_con1 = PCConnection(pc1, pc2, learn=False, tau_learn=20., activation=\"tanh\") #, M=np.array([1]))\n",
    "    \n",
    "    # Connect top layer to predictions from on high\n",
    "    nengo.Connection(pred, pc2.e.input, function=(lambda x: -x)) #transform=-1)         # pc2 <- pred\n",
    "    \n",
    "    \n",
    "    # Set up a bunch of probes (so we can plot stuff later)\n",
    "    p_stim = nengo.Probe(stim)\n",
    "    p_pc1v = nengo.Probe(pc1.v.output)\n",
    "    p_pc1e = nengo.Probe(pc1.e.output)\n",
    "    p_pc2v = nengo.Probe(pc2.v.output)\n",
    "    p_pc2e = nengo.Probe(pc2.e.output)\n",
    "    p_pred = nengo.Probe(pred)"
   ]
  },
  {
   "cell_type": "code",
   "execution_count": 31,
   "id": "45774117",
   "metadata": {
    "scrolled": false
   },
   "outputs": [],
   "source": [
    "# Using PCLayer class\n",
    "n = 1\n",
    "with nengo.Network() as net:\n",
    "    tau = 0.01\n",
    "    #============== Run in Direct mode =======================\n",
    "    net.config[nengo.Ensemble].neuron_type = nengo.Direct()\n",
    "    #=========================================================\n",
    "    net.config[nengo.Connection].synapse = tau\n",
    "    net.config[nengo.Probe].synapse = 0.05\n",
    "    \n",
    "    # Inputs\n",
    "    D = 2\n",
    "    stim = nengo.Node([[1, 0.5],[0.5, 1]])   # sensory (bottom layer)\n",
    "    pred = nengo.Node([0.25, 0.75])  # percept (top layer)\n",
    "    \n",
    "    # We need a node that computes the error between stim and the prediction from above.\n",
    "    stim_err = nengo.Node(lambda t,x: x[:D]+x[D:], size_in=2*D, size_out=D)  # sensory error\n",
    "    \n",
    "    \n",
    "    # PC layers\n",
    "    pc1 = PCLayer(n_nodes=D)\n",
    "    pc2 = PCLayer(n_nodes=D)\n",
    "    \n",
    "    '''\n",
    "     [     /-->         ] -W-> [      /-->       ] -W-> [      /-->       ]      [      ]\n",
    "     [ stim     stim_err]      [ pc1.v     pc1.e ]      [ pc2.v     pc2.e ]      [ pred ]\n",
    "     [                  ] <-M- [       <--/      ] <-M- [       <--/      ] <-M- [      ]\n",
    "    '''\n",
    "    \n",
    "    # Connections\n",
    "    nengo.Connection(stim, stim_err[:D])                       # stim -> stim_err\n",
    "    nengo.Connection(stim_err, pc1.v.input)                   # stim_err -> pc1\n",
    "    nengo.Connection(pc1.v.output, stim_err[D:], transform=-1) # stim_err <- pc1\n",
    "    \n",
    "    # Connect the two PC layers\n",
    "    pc_con1 = PCConnection(pc1, pc2, learn=False, tau_learn=20., activation=\"tanh\") #, M=np.array([1]))\n",
    "    \n",
    "    # Connect top layer to predictions from on high\n",
    "    nengo.Connection(pred, pc2.e.input, function=(lambda x: -x)) #transform=-1)         # pc2 <- pred\n",
    "    \n",
    "    \n",
    "    # Set up a bunch of probes (so we can plot stuff later)\n",
    "    p_stim = nengo.Probe(stim)\n",
    "    p_pc1v = nengo.Probe(pc1.v.output)\n",
    "    p_pc1e = nengo.Probe(pc1.e.output)\n",
    "    p_pc2v = nengo.Probe(pc2.v.output)\n",
    "    p_pc2e = nengo.Probe(pc2.e.output)\n",
    "    p_pred = nengo.Probe(pred)"
   ]
  },
  {
   "cell_type": "code",
   "execution_count": 32,
   "id": "5dcc8f11",
   "metadata": {
    "scrolled": false
   },
   "outputs": [
    {
     "data": {
      "application/vdom.v1+json": {
       "attributes": {},
       "tagName": "div"
      },
      "text/html": [
       "\n",
       "                <script>\n",
       "                    if (Jupyter.version.split(\".\")[0] < 5) {\n",
       "                        var pb = document.getElementById(\"cffbeff7-4964-4bb6-aa8e-d52356550ac2\");\n",
       "                        var text = document.createTextNode(\n",
       "                            \"HMTL progress bar requires Jupyter Notebook >= \" +\n",
       "                            \"5.0 or Jupyter Lab. Alternatively, you can use \" +\n",
       "                            \"TerminalProgressBar().\");\n",
       "                        pb.parentNode.insertBefore(text, pb);\n",
       "                    }\n",
       "                </script>\n",
       "                <div id=\"cffbeff7-4964-4bb6-aa8e-d52356550ac2\" style=\"\n",
       "                    width: 100%;\n",
       "                    border: 1px solid #cfcfcf;\n",
       "                    border-radius: 4px;\n",
       "                    text-align: center;\n",
       "                    position: relative;\">\n",
       "                  <div class=\"pb-text\" style=\"\n",
       "                      position: absolute;\n",
       "                      width: 100%;\">\n",
       "                    0%\n",
       "                  </div>\n",
       "                  <div class=\"pb-fill\" style=\"\n",
       "                      background-color: #bdd2e6;\n",
       "                      width: 0%;\">\n",
       "                    <style type=\"text/css\" scoped=\"scoped\">\n",
       "                        @keyframes pb-fill-anim {\n",
       "                            0% { background-position: 0 0; }\n",
       "                            100% { background-position: 100px 0; }\n",
       "                        }\n",
       "                    </style>\n",
       "                    &nbsp;\n",
       "                  </div>\n",
       "                </div>"
      ],
      "text/plain": [
       "HtmlProgressBar cannot be displayed. Please use the TerminalProgressBar. It can be enabled with `nengo.rc['progress']['progress_bar'] = 'nengo.utils.progress.TerminalProgressBar'`."
      ]
     },
     "metadata": {},
     "output_type": "display_data"
    },
    {
     "data": {
      "application/vdom.v1+json": {
       "attributes": {
        "id": "a2a3de05-309b-4860-922d-1f22bedd6c2d",
        "style": {
         "border": "1px solid #cfcfcf",
         "borderRadius": "4px",
         "boxSizing": "border-box",
         "position": "relative",
         "textAlign": "center",
         "width": "100%"
        }
       },
       "children": [
        {
         "attributes": {
          "class": "pb-text",
          "style": {
           "position": "absolute",
           "width": "100%"
          }
         },
         "children": [
          "Build finished in 0:00:01."
         ],
         "tagName": "div"
        },
        {
         "attributes": {
          "class": "pb-fill",
          "style": {
           "animation": "none",
           "backgroundColor": "#bdd2e6",
           "backgroundImage": "none",
           "backgroundSize": "100px 100%",
           "width": "100%"
          }
         },
         "children": [
          {
           "attributes": {
            "scoped": "scoped",
            "type": "text/css"
           },
           "children": [
            "\n                        @keyframes pb-fill-anim {\n                            0% { background-position: 0 0; }\n                            100% { background-position: 100px 0; }\n                        }}"
           ],
           "tagName": "style"
          },
          " "
         ],
         "tagName": "div"
        }
       ],
       "tagName": "div"
      },
      "text/html": [
       "<script>\n",
       "              (function () {\n",
       "                  var root = document.getElementById('cffbeff7-4964-4bb6-aa8e-d52356550ac2');\n",
       "                  var text = root.getElementsByClassName('pb-text')[0];\n",
       "                  var fill = root.getElementsByClassName('pb-fill')[0];\n",
       "\n",
       "                  text.innerHTML = 'Build finished in 0:00:01.';\n",
       "                  \n",
       "            fill.style.width = '100%';\n",
       "            fill.style.animation = 'pb-fill-anim 2s linear infinite';\n",
       "            fill.style.backgroundSize = '100px 100%';\n",
       "            fill.style.backgroundImage = 'repeating-linear-gradient(' +\n",
       "                '90deg, #bdd2e6, #edf2f8 40%, #bdd2e6 80%, #bdd2e6)';\n",
       "        \n",
       "                  \n",
       "                fill.style.animation = 'none';\n",
       "                fill.style.backgroundImage = 'none';\n",
       "            \n",
       "              })();\n",
       "        </script>"
      ]
     },
     "metadata": {},
     "output_type": "display_data"
    }
   ],
   "source": [
    "sim = nengo.Simulator(net)"
   ]
  },
  {
   "cell_type": "code",
   "execution_count": 33,
   "id": "9f20709a",
   "metadata": {},
   "outputs": [
    {
     "data": {
      "application/vdom.v1+json": {
       "attributes": {},
       "tagName": "div"
      },
      "text/html": [
       "\n",
       "                <script>\n",
       "                    if (Jupyter.version.split(\".\")[0] < 5) {\n",
       "                        var pb = document.getElementById(\"6f98a1e7-b1fc-45de-8324-404819f0739b\");\n",
       "                        var text = document.createTextNode(\n",
       "                            \"HMTL progress bar requires Jupyter Notebook >= \" +\n",
       "                            \"5.0 or Jupyter Lab. Alternatively, you can use \" +\n",
       "                            \"TerminalProgressBar().\");\n",
       "                        pb.parentNode.insertBefore(text, pb);\n",
       "                    }\n",
       "                </script>\n",
       "                <div id=\"6f98a1e7-b1fc-45de-8324-404819f0739b\" style=\"\n",
       "                    width: 100%;\n",
       "                    border: 1px solid #cfcfcf;\n",
       "                    border-radius: 4px;\n",
       "                    text-align: center;\n",
       "                    position: relative;\">\n",
       "                  <div class=\"pb-text\" style=\"\n",
       "                      position: absolute;\n",
       "                      width: 100%;\">\n",
       "                    0%\n",
       "                  </div>\n",
       "                  <div class=\"pb-fill\" style=\"\n",
       "                      background-color: #bdd2e6;\n",
       "                      width: 0%;\">\n",
       "                    <style type=\"text/css\" scoped=\"scoped\">\n",
       "                        @keyframes pb-fill-anim {\n",
       "                            0% { background-position: 0 0; }\n",
       "                            100% { background-position: 100px 0; }\n",
       "                        }\n",
       "                    </style>\n",
       "                    &nbsp;\n",
       "                  </div>\n",
       "                </div>"
      ],
      "text/plain": [
       "HtmlProgressBar cannot be displayed. Please use the TerminalProgressBar. It can be enabled with `nengo.rc['progress']['progress_bar'] = 'nengo.utils.progress.TerminalProgressBar'`."
      ]
     },
     "metadata": {},
     "output_type": "display_data"
    },
    {
     "data": {
      "application/vdom.v1+json": {
       "attributes": {
        "id": "f2de1362-10e2-4ac4-85e0-f9d44edc3258",
        "style": {
         "border": "1px solid #cfcfcf",
         "borderRadius": "4px",
         "boxSizing": "border-box",
         "position": "relative",
         "textAlign": "center",
         "width": "100%"
        }
       },
       "children": [
        {
         "attributes": {
          "class": "pb-text",
          "style": {
           "position": "absolute",
           "width": "100%"
          }
         },
         "children": [
          "Simulation finished in 0:00:01."
         ],
         "tagName": "div"
        },
        {
         "attributes": {
          "class": "pb-fill",
          "style": {
           "animation": "none",
           "backgroundColor": "#bdd2e6",
           "backgroundImage": "none",
           "transition": "width 0.1s linear",
           "width": "100%"
          }
         },
         "children": [
          {
           "attributes": {
            "scoped": "scoped",
            "type": "text/css"
           },
           "children": [
            "\n                        @keyframes pb-fill-anim {\n                            0% { background-position: 0 0; }\n                            100% { background-position: 100px 0; }\n                        }}"
           ],
           "tagName": "style"
          },
          " "
         ],
         "tagName": "div"
        }
       ],
       "tagName": "div"
      },
      "text/html": [
       "<script>\n",
       "              (function () {\n",
       "                  var root = document.getElementById('6f98a1e7-b1fc-45de-8324-404819f0739b');\n",
       "                  var text = root.getElementsByClassName('pb-text')[0];\n",
       "                  var fill = root.getElementsByClassName('pb-fill')[0];\n",
       "\n",
       "                  text.innerHTML = 'Simulation finished in 0:00:01.';\n",
       "                  \n",
       "            if (100.0 > 0.) {\n",
       "                fill.style.transition = 'width 0.1s linear';\n",
       "            } else {\n",
       "                fill.style.transition = 'none';\n",
       "            }\n",
       "\n",
       "            fill.style.width = '100.0%';\n",
       "            fill.style.animation = 'none';\n",
       "            fill.style.backgroundImage = 'none'\n",
       "        \n",
       "                  \n",
       "                fill.style.animation = 'none';\n",
       "                fill.style.backgroundImage = 'none';\n",
       "            \n",
       "              })();\n",
       "        </script>"
      ]
     },
     "metadata": {},
     "output_type": "display_data"
    }
   ],
   "source": [
    "sim.run(1.)"
   ]
  },
  {
   "cell_type": "code",
   "execution_count": 34,
   "id": "47b63caf",
   "metadata": {
    "scrolled": false
   },
   "outputs": [
    {
     "data": {
      "image/png": "[encoded data removed]",
      "text/plain": [
       "<Figure size 640x480 with 1 Axes>"
      ]
     },
     "metadata": {},
     "output_type": "display_data"
    }
   ],
   "source": [
    "plt.plot(sim.trange(), sim.data[p_pc1v]);\n",
    "plt.plot(sim.trange(), sim.data[p_pc1e]);\n",
    "plt.plot(sim.trange(), sim.data[p_pc2v]);\n",
    "plt.plot(sim.trange(), sim.data[p_pc2e]);\n",
    "# plt.plot(sim.trange(), sim.data[p_stim], ':');\n",
    "plt.legend(['pc1_v', 'pc1_e', 'pc2_v', 'pc2_e', 'stim']);"
   ]
  },
  {
   "cell_type": "code",
   "execution_count": 35,
   "id": "9d1dcda3",
   "metadata": {},
   "outputs": [],
   "source": [
    "pc_con1.learn = True"
   ]
  },
  {
   "cell_type": "code",
   "execution_count": 36,
   "id": "0baaa5eb",
   "metadata": {},
   "outputs": [
    {
     "data": {
      "application/vdom.v1+json": {
       "attributes": {},
       "tagName": "div"
      },
      "text/html": [
       "\n",
       "                <script>\n",
       "                    if (Jupyter.version.split(\".\")[0] < 5) {\n",
       "                        var pb = document.getElementById(\"de59adf1-1d05-49fd-a92a-1117113c5c1c\");\n",
       "                        var text = document.createTextNode(\n",
       "                            \"HMTL progress bar requires Jupyter Notebook >= \" +\n",
       "                            \"5.0 or Jupyter Lab. Alternatively, you can use \" +\n",
       "                            \"TerminalProgressBar().\");\n",
       "                        pb.parentNode.insertBefore(text, pb);\n",
       "                    }\n",
       "                </script>\n",
       "                <div id=\"de59adf1-1d05-49fd-a92a-1117113c5c1c\" style=\"\n",
       "                    width: 100%;\n",
       "                    border: 1px solid #cfcfcf;\n",
       "                    border-radius: 4px;\n",
       "                    text-align: center;\n",
       "                    position: relative;\">\n",
       "                  <div class=\"pb-text\" style=\"\n",
       "                      position: absolute;\n",
       "                      width: 100%;\">\n",
       "                    0%\n",
       "                  </div>\n",
       "                  <div class=\"pb-fill\" style=\"\n",
       "                      background-color: #bdd2e6;\n",
       "                      width: 0%;\">\n",
       "                    <style type=\"text/css\" scoped=\"scoped\">\n",
       "                        @keyframes pb-fill-anim {\n",
       "                            0% { background-position: 0 0; }\n",
       "                            100% { background-position: 100px 0; }\n",
       "                        }\n",
       "                    </style>\n",
       "                    &nbsp;\n",
       "                  </div>\n",
       "                </div>"
      ],
      "text/plain": [
       "HtmlProgressBar cannot be displayed. Please use the TerminalProgressBar. It can be enabled with `nengo.rc['progress']['progress_bar'] = 'nengo.utils.progress.TerminalProgressBar'`."
      ]
     },
     "metadata": {},
     "output_type": "display_data"
    },
    {
     "data": {
      "application/vdom.v1+json": {
       "attributes": {
        "id": "a2f5a4a3-8e6d-41e4-9a8b-00a05b481de4",
        "style": {
         "border": "1px solid #cfcfcf",
         "borderRadius": "4px",
         "boxSizing": "border-box",
         "position": "relative",
         "textAlign": "center",
         "width": "100%"
        }
       },
       "children": [
        {
         "attributes": {
          "class": "pb-text",
          "style": {
           "position": "absolute",
           "width": "100%"
          }
         },
         "children": [
          "Simulation finished in 0:00:01."
         ],
         "tagName": "div"
        },
        {
         "attributes": {
          "class": "pb-fill",
          "style": {
           "animation": "none",
           "backgroundColor": "#bdd2e6",
           "backgroundImage": "none",
           "transition": "width 0.1s linear",
           "width": "100%"
          }
         },
         "children": [
          {
           "attributes": {
            "scoped": "scoped",
            "type": "text/css"
           },
           "children": [
            "\n                        @keyframes pb-fill-anim {\n                            0% { background-position: 0 0; }\n                            100% { background-position: 100px 0; }\n                        }}"
           ],
           "tagName": "style"
          },
          " "
         ],
         "tagName": "div"
        }
       ],
       "tagName": "div"
      },
      "text/html": [
       "<script>\n",
       "              (function () {\n",
       "                  var root = document.getElementById('de59adf1-1d05-49fd-a92a-1117113c5c1c');\n",
       "                  var text = root.getElementsByClassName('pb-text')[0];\n",
       "                  var fill = root.getElementsByClassName('pb-fill')[0];\n",
       "\n",
       "                  text.innerHTML = 'Simulation finished in 0:00:01.';\n",
       "                  \n",
       "            if (100.0 > 0.) {\n",
       "                fill.style.transition = 'width 0.1s linear';\n",
       "            } else {\n",
       "                fill.style.transition = 'none';\n",
       "            }\n",
       "\n",
       "            fill.style.width = '100.0%';\n",
       "            fill.style.animation = 'none';\n",
       "            fill.style.backgroundImage = 'none'\n",
       "        \n",
       "                  \n",
       "                fill.style.animation = 'none';\n",
       "                fill.style.backgroundImage = 'none';\n",
       "            \n",
       "              })();\n",
       "        </script>"
      ]
     },
     "metadata": {},
     "output_type": "display_data"
    }
   ],
   "source": [
    "sim.run(1.)"
   ]
  },
  {
   "cell_type": "code",
   "execution_count": 37,
   "id": "902671af",
   "metadata": {
    "scrolled": false
   },
   "outputs": [
    {
     "data": {
      "image/png": "[encoded data removed]",
      "text/plain": [
       "<Figure size 640x480 with 1 Axes>"
      ]
     },
     "metadata": {},
     "output_type": "display_data"
    }
   ],
   "source": [
    "plt.plot(sim.trange(), sim.data[p_pc1v]);\n",
    "plt.plot(sim.trange(), sim.data[p_pc1e]);\n",
    "plt.plot(sim.trange(), sim.data[p_pc2v]);\n",
    "plt.plot(sim.trange(), sim.data[p_pc2e]);\n",
    "plt.plot(sim.trange(), sim.data[p_stim], ':');\n",
    "plt.legend(['pc1_v', 'pc1_e', 'pc2_v', 'pc2_e', 'stim']);"
   ]
  },
  {
   "cell_type": "code",
   "execution_count": null,
   "id": "54215ceb",
   "metadata": {},
   "outputs": [],
   "source": []
  },
  {
   "cell_type": "markdown",
   "id": "8de7cff0",
   "metadata": {},
   "source": [
    "# `PCNetwork` class\n",
    "This class creates a predictive coding neural network made of `PCLayer`s."
   ]
  },
  {
   "cell_type": "code",
   "execution_count": 48,
   "id": "ef184e9b",
   "metadata": {},
   "outputs": [],
   "source": [
    "class PCNetwork:\n",
    "    '''\n",
    "    c = PCNetwork(num_hidden_layers, learn=False, symmetric=True)\n",
    "    \n",
    "    This class builds a PC neural network with.\n",
    "    \n",
    "    Inputs:\n",
    "    num_hidden_layers     PCLayer object below\n",
    "    learn                 Boolean, whether to learn (default False)\n",
    "    symmetric             Boolean, whether the connection is symmetric\n",
    "                          ie. W = M.T (default True)\n",
    "    tau_learn             num or List, learning rate for the Euler step when updating the weights\n",
    "                            - if num, each connection will have the same tau_learn\n",
    "                            - if List, each connection will have a tau_learn corresponding to the value in that\n",
    "                              position in the list\n",
    "    n_nodes               Int or List, number of nodes at each layer, defaults to 10\n",
    "                            - if Int, each layer will have the same number of nodes\n",
    "                            - if List, each layer will have a number of nodes corresponding to the value\n",
    "                              in that position in the list\n",
    "    M                     ndarray, List or None, value of M at each layer, defaults to None\n",
    "                            - if ndarray or None, each connection will have M passed in as an argument during construction\n",
    "                            - if List, each connection will have an M corresponding to the value in that\n",
    "                              position in the list\n",
    "    activiation           None, string, or list, defaults to None\n",
    "                            - if string or None, each connection will have the same activation function\n",
    "                            - if list, each connection will have an activation fucntion corresponding to the value\n",
    "                              in that position in the list\n",
    "    '''\n",
    "    def __init__(self, num_hidden_layers, learn=False, symmetric=True, tau_learn=10., n_nodes=10, M=None, activation=None):\n",
    "        self.layers = [] #a list of all layers in order of connection\n",
    "        self.connections = [] #a list of all connections between layers\n",
    "        self.learn = learn\n",
    "        self.symmetric = symmetric\n",
    "\n",
    "        #set up member attributes and input validation\n",
    "        if type(tau_learn) is int or type(tau_learn) is float:\n",
    "            self.tau_learn = [tau_learn for i in range(num_hidden_layers-1)]   # learning time constant\n",
    "        elif type(tau_learn) is not list:\n",
    "            raise TypeError(f\"tau_learn must be a list or an int/float, instead got {type(tau_learn)}\")\n",
    "        else:\n",
    "            if len(tau_learn) != num_hidden_layers-1:\n",
    "                raise ValueError(f\"If tau is a list, it must have num_hidden_layers-1 ({num_hidden_layers-1}), instead got {len(tau_learn)}\")\n",
    "            self.tau_learn = tau_learn\n",
    "            \n",
    "        if type(n_nodes) is int:\n",
    "            self.n_nodes = [n_nodes for i in range(num_hidden_layers)]\n",
    "        elif type(n_nodes) is not list:\n",
    "            raise TypeError(f\"n_nodes must be a list or an int, instead got {type(n_nodes)}\")\n",
    "        else:\n",
    "            if len(n_nodes) != num_hidden_layers:\n",
    "                raise ValueError(f\"If n_nodes is a list, it must have num_hidden_layers ({num_hidden_layers}) elements, instead got {len(n_nodes)}\")\n",
    "            self.n_nodes = n_nodes\n",
    "        \n",
    "        if type(M) is np.ndarray or M is None:\n",
    "            self.M = [M for i in range(num_hidden_layers-1)]\n",
    "        elif type(M) is not list:\n",
    "            raise TypeError(f\"M must be an ndarray, list, or None, instead got {type(M)}\")\n",
    "        else:\n",
    "            if len(M) != num_hidden_layers-1:\n",
    "                raise ValueError(f\"If M is a list, it must have num_hidden_layers-1 ({num_hidden_layers-1}) elements, instead got {len(M)}\")\n",
    "            self.M = M\n",
    "        \n",
    "        if type(activation) is str or activation is None:\n",
    "            self.activation = [activation for i in range(num_hidden_layers-1)]\n",
    "        elif type(activation) is not list:\n",
    "            raise TypeError(f\"activation must be a list, string, or None, instead got {type(activation)}\")\n",
    "        else:\n",
    "            if len(activation) != num_hidden_layers-1:\n",
    "                raise ValueError(f\"If activation is a list, it must have num_hidden_layers-1 ({num_hidden_layers-1}) elements, instead got {len(activation)}\")\n",
    "            self.activation = activation\n",
    "        \n",
    "        #create hidden layers\n",
    "        self.layers.append(PCLayer(n_nodes=self.n_nodes[0]))\n",
    "        for i in range(1, num_hidden_layers): #create and connect the rest of the layers\n",
    "            self.layers.append(PCLayer(n_nodes=self.n_nodes[i]))\n",
    "            self.connections.append(PCConnection(self.layers[i-1], \n",
    "                                                 self.layers[i], \n",
    "                                                 learn=self.learn, \n",
    "                                                 symmetric=self.symmetric,\n",
    "                                                 M=self.M[i-1],\n",
    "                                                 tau_learn=self.tau_learn[i-1],\n",
    "                                                 activation=self.activation[i-1]))\n",
    "            \n",
    "    \n",
    "    def connect_input(self, stim):\n",
    "        \"\"\" (self, nengo.Node) -> ()\n",
    "        Connects the input (stimulus) layer to the first hidden layer of the network.\n",
    "        \n",
    "        Assumes stim_err has size_in 2, size_out 1\n",
    "        \"\"\"\n",
    "        stim_err = nengo.Node(lambda t,x: x[0]+x[1], size_in=2, size_out=1)  # sensory error\n",
    "        nengo.Connection(stim, stim_err[0])                                 # stim -> stim_err\n",
    "        nengo.Connection(stim_err, self.layers[0].v.input)                   # stim_err -> first layer\n",
    "        nengo.Connection(self.layers[0].v.output, stim_err[1], transform=-1) # stim_err <- first layer\n",
    "    \n",
    "\n",
    "    def connect_output(self, pred):\n",
    "        \"\"\" (self, nengo.Node, nengo.Node) -> ()\n",
    "        Connects the output (prediction) layer to the last hidden layer of the network.\n",
    "        \"\"\"\n",
    "        nengo.Connection(pred, self.layers[-1].e.input, transform=-1)         # pc2 <- pred\n",
    "    \n",
    "\n",
    "    def update_learning_rule(self, learning_rule):\n",
    "        \"\"\" (self, bool) -> ()\n",
    "        Changes the learning rule for each connection is self.connections to learning_rule\n",
    "        \"\"\"\n",
    "        for con in self.connections:\n",
    "            con.learn = learning_rule\n",
    "\n",
    "    \n",
    "    def get_probes(self):\n",
    "        \"\"\" (self) -> (list, list)\n",
    "        Returns a list of nengo.Probes to track each layers values and errors.\n",
    "        \"\"\"\n",
    "        val_probes = []\n",
    "        err_probes = []\n",
    "        for idx, layer in enumerate(self.layers):\n",
    "            val_probes.append(nengo.Probe(layer.v.output, label=f\"Hidden Layer {idx} Value\"))\n",
    "            err_probes.append(nengo.Probe(layer.e.output, label=f\"Hidden Layer {idx} Error\"))\n",
    "        return val_probes, err_probes\n",
    "\n",
    "        "
   ]
  },
  {
   "cell_type": "code",
   "execution_count": 49,
   "id": "537d053f",
   "metadata": {},
   "outputs": [],
   "source": [
    "# same test as before but using the PCNetwork class\n",
    "n = 1\n",
    "with nengo.Network() as net:\n",
    "    tau = 0.01\n",
    "    #============== Run in Direct mode =======================\n",
    "    net.config[nengo.Ensemble].neuron_type = nengo.Direct()\n",
    "    #=========================================================\n",
    "    net.config[nengo.Connection].synapse = tau\n",
    "    net.config[nengo.Probe].synapse = 0.05\n",
    "    \n",
    "    # Inputs\n",
    "    stim = nengo.Node([1])   # sensory (bottom layer)\n",
    "    pred = nengo.Node([1.])  # percept (top layer)\n",
    "\n",
    "    \n",
    "    # PC layers\n",
    "    PC_net = PCNetwork(3, learn=False, tau_learn=20, n_nodes=1)\n",
    "    PC_net.connect_input(stim=stim)\n",
    "    PC_net.connect_output(pred=pred)\n",
    "    '''\n",
    "     [     /-->         ] -W-> [      /-->       ] -W-> [      /-->       ]      [      ]\n",
    "     [ stim     stim_err]      [ pc1.v     pc1.e ]      [ pc2.v     pc2.e ]      [ pred ]\n",
    "     [                  ] <-M- [       <--/      ] <-M- [       <--/      ] <-M- [      ]\n",
    "    '''\n",
    "    \n",
    " \n",
    "    # Set up a bunch of probes (so we can plot stuff later)\n",
    "    p_stim = nengo.Probe(stim)\n",
    "    p_pc1v = nengo.Probe(PC_net.layers[0].v.output)\n",
    "    p_pc1e = nengo.Probe(PC_net.layers[0].e.output)\n",
    "    p_pc_end_v = nengo.Probe(PC_net.layers[-1].v.output)\n",
    "    p_pc_end_e = nengo.Probe(PC_net.layers[-1].e.output)\n",
    "    p_pred = nengo.Probe(pred)"
   ]
  },
  {
   "cell_type": "code",
   "execution_count": 50,
   "id": "c8f158a6",
   "metadata": {},
   "outputs": [
    {
     "ename": "NetworkContextError",
     "evalue": "'<Probe \"Hidden Layer 0 Value\" of 'output' of <Node 'output'>>' must either be created inside a ``with network:`` block, or set add_to_container=False in the object's constructor.",
     "output_type": "error",
     "traceback": [
      "\u001b[0;31m---------------------------------------------------------------------------\u001b[0m",
      "\u001b[0;31mNetworkContextError\u001b[0m                       Traceback (most recent call last)",
      "Input \u001b[0;32mIn [50]\u001b[0m, in \u001b[0;36m<cell line: 1>\u001b[0;34m()\u001b[0m\n\u001b[0;32m----> 1\u001b[0m \u001b[43mPC_net\u001b[49m\u001b[38;5;241;43m.\u001b[39;49m\u001b[43mget_probes\u001b[49m\u001b[43m(\u001b[49m\u001b[43m)\u001b[49m\n",
      "Input \u001b[0;32mIn [48]\u001b[0m, in \u001b[0;36mPCNetwork.get_probes\u001b[0;34m(self)\u001b[0m\n\u001b[1;32m    117\u001b[0m err_probes \u001b[38;5;241m=\u001b[39m []\n\u001b[1;32m    118\u001b[0m \u001b[38;5;28;01mfor\u001b[39;00m idx, layer \u001b[38;5;129;01min\u001b[39;00m \u001b[38;5;28menumerate\u001b[39m(\u001b[38;5;28mself\u001b[39m\u001b[38;5;241m.\u001b[39mlayers):\n\u001b[0;32m--> 119\u001b[0m     val_probes\u001b[38;5;241m.\u001b[39mappend(\u001b[43mnengo\u001b[49m\u001b[38;5;241;43m.\u001b[39;49m\u001b[43mProbe\u001b[49m\u001b[43m(\u001b[49m\u001b[43mlayer\u001b[49m\u001b[38;5;241;43m.\u001b[39;49m\u001b[43mv\u001b[49m\u001b[38;5;241;43m.\u001b[39;49m\u001b[43moutput\u001b[49m\u001b[43m,\u001b[49m\u001b[43m \u001b[49m\u001b[43mlabel\u001b[49m\u001b[38;5;241;43m=\u001b[39;49m\u001b[38;5;124;43mf\u001b[39;49m\u001b[38;5;124;43m\"\u001b[39;49m\u001b[38;5;124;43mHidden Layer \u001b[39;49m\u001b[38;5;132;43;01m{\u001b[39;49;00m\u001b[43midx\u001b[49m\u001b[38;5;132;43;01m}\u001b[39;49;00m\u001b[38;5;124;43m Value\u001b[39;49m\u001b[38;5;124;43m\"\u001b[39;49m\u001b[43m)\u001b[49m)\n\u001b[1;32m    120\u001b[0m     err_probes\u001b[38;5;241m.\u001b[39mappend(nengo\u001b[38;5;241m.\u001b[39mProbe(layer\u001b[38;5;241m.\u001b[39me\u001b[38;5;241m.\u001b[39moutput, label\u001b[38;5;241m=\u001b[39m\u001b[38;5;124mf\u001b[39m\u001b[38;5;124m\"\u001b[39m\u001b[38;5;124mHidden Layer \u001b[39m\u001b[38;5;132;01m{\u001b[39;00midx\u001b[38;5;132;01m}\u001b[39;00m\u001b[38;5;124m Error\u001b[39m\u001b[38;5;124m\"\u001b[39m))\n\u001b[1;32m    121\u001b[0m \u001b[38;5;28;01mreturn\u001b[39;00m val_probes, err_probes\n",
      "File \u001b[0;32m~/Library/Python/3.9/lib/python/site-packages/nengo/base.py:36\u001b[0m, in \u001b[0;36mNetworkMember.__call__\u001b[0;34m(cls, *args, **kwargs)\u001b[0m\n\u001b[1;32m     34\u001b[0m inst\u001b[38;5;241m.\u001b[39m\u001b[38;5;21m__init__\u001b[39m(\u001b[38;5;241m*\u001b[39margs, \u001b[38;5;241m*\u001b[39m\u001b[38;5;241m*\u001b[39mkwargs)\n\u001b[1;32m     35\u001b[0m \u001b[38;5;28;01mif\u001b[39;00m add_to_container:\n\u001b[0;32m---> 36\u001b[0m     \u001b[43mnengo\u001b[49m\u001b[38;5;241;43m.\u001b[39;49m\u001b[43mNetwork\u001b[49m\u001b[38;5;241;43m.\u001b[39;49m\u001b[43madd\u001b[49m\u001b[43m(\u001b[49m\u001b[43minst\u001b[49m\u001b[43m)\u001b[49m\n\u001b[1;32m     37\u001b[0m inst\u001b[38;5;241m.\u001b[39m_initialized \u001b[38;5;241m=\u001b[39m \u001b[38;5;28;01mTrue\u001b[39;00m\n\u001b[1;32m     38\u001b[0m \u001b[38;5;28;01mreturn\u001b[39;00m inst\n",
      "File \u001b[0;32m~/Library/Python/3.9/lib/python/site-packages/nengo/network.py:116\u001b[0m, in \u001b[0;36mNetwork.add\u001b[0;34m(obj)\u001b[0m\n\u001b[1;32m    114\u001b[0m \u001b[38;5;250m\u001b[39m\u001b[38;5;124;03m\"\"\"Add the passed object to ``Network.context``.\"\"\"\u001b[39;00m\n\u001b[1;32m    115\u001b[0m \u001b[38;5;28;01mif\u001b[39;00m \u001b[38;5;28mlen\u001b[39m(Network\u001b[38;5;241m.\u001b[39mcontext) \u001b[38;5;241m==\u001b[39m \u001b[38;5;241m0\u001b[39m:\n\u001b[0;32m--> 116\u001b[0m     \u001b[38;5;28;01mraise\u001b[39;00m NetworkContextError(\n\u001b[1;32m    117\u001b[0m         \u001b[38;5;124mf\u001b[39m\u001b[38;5;124m\"\u001b[39m\u001b[38;5;124m'\u001b[39m\u001b[38;5;132;01m{\u001b[39;00mobj\u001b[38;5;132;01m}\u001b[39;00m\u001b[38;5;124m'\u001b[39m\u001b[38;5;124m must either be created inside a ``with network:`` \u001b[39m\u001b[38;5;124m\"\u001b[39m\n\u001b[1;32m    118\u001b[0m         \u001b[38;5;124m\"\u001b[39m\u001b[38;5;124mblock, or set add_to_container=False in the object\u001b[39m\u001b[38;5;124m'\u001b[39m\u001b[38;5;124ms \u001b[39m\u001b[38;5;124m\"\u001b[39m\n\u001b[1;32m    119\u001b[0m         \u001b[38;5;124m\"\u001b[39m\u001b[38;5;124mconstructor.\u001b[39m\u001b[38;5;124m\"\u001b[39m\n\u001b[1;32m    120\u001b[0m     )\n\u001b[1;32m    121\u001b[0m network \u001b[38;5;241m=\u001b[39m Network\u001b[38;5;241m.\u001b[39mcontext[\u001b[38;5;241m-\u001b[39m\u001b[38;5;241m1\u001b[39m]\n\u001b[1;32m    122\u001b[0m \u001b[38;5;28;01mif\u001b[39;00m \u001b[38;5;129;01mnot\u001b[39;00m \u001b[38;5;28misinstance\u001b[39m(network, Network):\n",
      "\u001b[0;31mNetworkContextError\u001b[0m: '<Probe \"Hidden Layer 0 Value\" of 'output' of <Node 'output'>>' must either be created inside a ``with network:`` block, or set add_to_container=False in the object's constructor."
     ]
    }
   ],
   "source": [
    "PC_net.get_probes()"
   ]
  },
  {
   "cell_type": "code",
   "execution_count": 40,
   "id": "11176170",
   "metadata": {},
   "outputs": [
    {
     "data": {
      "application/vdom.v1+json": {
       "attributes": {},
       "tagName": "div"
      },
      "text/html": [
       "\n",
       "                <script>\n",
       "                    if (Jupyter.version.split(\".\")[0] < 5) {\n",
       "                        var pb = document.getElementById(\"3ae56490-0619-4019-9260-d386e9f00630\");\n",
       "                        var text = document.createTextNode(\n",
       "                            \"HMTL progress bar requires Jupyter Notebook >= \" +\n",
       "                            \"5.0 or Jupyter Lab. Alternatively, you can use \" +\n",
       "                            \"TerminalProgressBar().\");\n",
       "                        pb.parentNode.insertBefore(text, pb);\n",
       "                    }\n",
       "                </script>\n",
       "                <div id=\"3ae56490-0619-4019-9260-d386e9f00630\" style=\"\n",
       "                    width: 100%;\n",
       "                    border: 1px solid #cfcfcf;\n",
       "                    border-radius: 4px;\n",
       "                    text-align: center;\n",
       "                    position: relative;\">\n",
       "                  <div class=\"pb-text\" style=\"\n",
       "                      position: absolute;\n",
       "                      width: 100%;\">\n",
       "                    0%\n",
       "                  </div>\n",
       "                  <div class=\"pb-fill\" style=\"\n",
       "                      background-color: #bdd2e6;\n",
       "                      width: 0%;\">\n",
       "                    <style type=\"text/css\" scoped=\"scoped\">\n",
       "                        @keyframes pb-fill-anim {\n",
       "                            0% { background-position: 0 0; }\n",
       "                            100% { background-position: 100px 0; }\n",
       "                        }\n",
       "                    </style>\n",
       "                    &nbsp;\n",
       "                  </div>\n",
       "                </div>"
      ],
      "text/plain": [
       "HtmlProgressBar cannot be displayed. Please use the TerminalProgressBar. It can be enabled with `nengo.rc['progress']['progress_bar'] = 'nengo.utils.progress.TerminalProgressBar'`."
      ]
     },
     "metadata": {},
     "output_type": "display_data"
    },
    {
     "data": {
      "application/vdom.v1+json": {
       "attributes": {
        "id": "88366af6-e84d-4458-8a66-71f3f0d4090b",
        "style": {
         "border": "1px solid #cfcfcf",
         "borderRadius": "4px",
         "boxSizing": "border-box",
         "position": "relative",
         "textAlign": "center",
         "width": "100%"
        }
       },
       "children": [
        {
         "attributes": {
          "class": "pb-text",
          "style": {
           "position": "absolute",
           "width": "100%"
          }
         },
         "children": [
          "Build finished in 0:00:01."
         ],
         "tagName": "div"
        },
        {
         "attributes": {
          "class": "pb-fill",
          "style": {
           "animation": "none",
           "backgroundColor": "#bdd2e6",
           "backgroundImage": "none",
           "backgroundSize": "100px 100%",
           "width": "100%"
          }
         },
         "children": [
          {
           "attributes": {
            "scoped": "scoped",
            "type": "text/css"
           },
           "children": [
            "\n                        @keyframes pb-fill-anim {\n                            0% { background-position: 0 0; }\n                            100% { background-position: 100px 0; }\n                        }}"
           ],
           "tagName": "style"
          },
          " "
         ],
         "tagName": "div"
        }
       ],
       "tagName": "div"
      },
      "text/html": [
       "<script>\n",
       "              (function () {\n",
       "                  var root = document.getElementById('3ae56490-0619-4019-9260-d386e9f00630');\n",
       "                  var text = root.getElementsByClassName('pb-text')[0];\n",
       "                  var fill = root.getElementsByClassName('pb-fill')[0];\n",
       "\n",
       "                  text.innerHTML = 'Build finished in 0:00:01.';\n",
       "                  \n",
       "            fill.style.width = '100%';\n",
       "            fill.style.animation = 'pb-fill-anim 2s linear infinite';\n",
       "            fill.style.backgroundSize = '100px 100%';\n",
       "            fill.style.backgroundImage = 'repeating-linear-gradient(' +\n",
       "                '90deg, #bdd2e6, #edf2f8 40%, #bdd2e6 80%, #bdd2e6)';\n",
       "        \n",
       "                  \n",
       "                fill.style.animation = 'none';\n",
       "                fill.style.backgroundImage = 'none';\n",
       "            \n",
       "              })();\n",
       "        </script>"
      ]
     },
     "metadata": {},
     "output_type": "display_data"
    }
   ],
   "source": [
    "sim = nengo.Simulator(net)"
   ]
  },
  {
   "cell_type": "code",
   "execution_count": 41,
   "id": "7ff5b6b7",
   "metadata": {},
   "outputs": [
    {
     "data": {
      "application/vdom.v1+json": {
       "attributes": {},
       "tagName": "div"
      },
      "text/html": [
       "\n",
       "                <script>\n",
       "                    if (Jupyter.version.split(\".\")[0] < 5) {\n",
       "                        var pb = document.getElementById(\"17926196-3b4d-4353-a3f8-48f7495f84e0\");\n",
       "                        var text = document.createTextNode(\n",
       "                            \"HMTL progress bar requires Jupyter Notebook >= \" +\n",
       "                            \"5.0 or Jupyter Lab. Alternatively, you can use \" +\n",
       "                            \"TerminalProgressBar().\");\n",
       "                        pb.parentNode.insertBefore(text, pb);\n",
       "                    }\n",
       "                </script>\n",
       "                <div id=\"17926196-3b4d-4353-a3f8-48f7495f84e0\" style=\"\n",
       "                    width: 100%;\n",
       "                    border: 1px solid #cfcfcf;\n",
       "                    border-radius: 4px;\n",
       "                    text-align: center;\n",
       "                    position: relative;\">\n",
       "                  <div class=\"pb-text\" style=\"\n",
       "                      position: absolute;\n",
       "                      width: 100%;\">\n",
       "                    0%\n",
       "                  </div>\n",
       "                  <div class=\"pb-fill\" style=\"\n",
       "                      background-color: #bdd2e6;\n",
       "                      width: 0%;\">\n",
       "                    <style type=\"text/css\" scoped=\"scoped\">\n",
       "                        @keyframes pb-fill-anim {\n",
       "                            0% { background-position: 0 0; }\n",
       "                            100% { background-position: 100px 0; }\n",
       "                        }\n",
       "                    </style>\n",
       "                    &nbsp;\n",
       "                  </div>\n",
       "                </div>"
      ],
      "text/plain": [
       "HtmlProgressBar cannot be displayed. Please use the TerminalProgressBar. It can be enabled with `nengo.rc['progress']['progress_bar'] = 'nengo.utils.progress.TerminalProgressBar'`."
      ]
     },
     "metadata": {},
     "output_type": "display_data"
    },
    {
     "data": {
      "application/vdom.v1+json": {
       "attributes": {
        "id": "50e7fa2d-4516-4821-bd4c-72faf80dc4dc",
        "style": {
         "border": "1px solid #cfcfcf",
         "borderRadius": "4px",
         "boxSizing": "border-box",
         "position": "relative",
         "textAlign": "center",
         "width": "100%"
        }
       },
       "children": [
        {
         "attributes": {
          "class": "pb-text",
          "style": {
           "position": "absolute",
           "width": "100%"
          }
         },
         "children": [
          "Simulation finished in 0:00:01."
         ],
         "tagName": "div"
        },
        {
         "attributes": {
          "class": "pb-fill",
          "style": {
           "animation": "none",
           "backgroundColor": "#bdd2e6",
           "backgroundImage": "none",
           "transition": "width 0.1s linear",
           "width": "100%"
          }
         },
         "children": [
          {
           "attributes": {
            "scoped": "scoped",
            "type": "text/css"
           },
           "children": [
            "\n                        @keyframes pb-fill-anim {\n                            0% { background-position: 0 0; }\n                            100% { background-position: 100px 0; }\n                        }}"
           ],
           "tagName": "style"
          },
          " "
         ],
         "tagName": "div"
        }
       ],
       "tagName": "div"
      },
      "text/html": [
       "<script>\n",
       "              (function () {\n",
       "                  var root = document.getElementById('17926196-3b4d-4353-a3f8-48f7495f84e0');\n",
       "                  var text = root.getElementsByClassName('pb-text')[0];\n",
       "                  var fill = root.getElementsByClassName('pb-fill')[0];\n",
       "\n",
       "                  text.innerHTML = 'Simulation finished in 0:00:01.';\n",
       "                  \n",
       "            if (100.0 > 0.) {\n",
       "                fill.style.transition = 'width 0.1s linear';\n",
       "            } else {\n",
       "                fill.style.transition = 'none';\n",
       "            }\n",
       "\n",
       "            fill.style.width = '100.0%';\n",
       "            fill.style.animation = 'none';\n",
       "            fill.style.backgroundImage = 'none'\n",
       "        \n",
       "                  \n",
       "                fill.style.animation = 'none';\n",
       "                fill.style.backgroundImage = 'none';\n",
       "            \n",
       "              })();\n",
       "        </script>"
      ]
     },
     "metadata": {},
     "output_type": "display_data"
    }
   ],
   "source": [
    "sim.run(1.)"
   ]
  },
  {
   "cell_type": "code",
   "execution_count": 42,
   "id": "4261e647",
   "metadata": {},
   "outputs": [
    {
     "data": {
      "image/png": "[encoded data removed]",
      "text/plain": [
       "<Figure size 640x480 with 1 Axes>"
      ]
     },
     "metadata": {},
     "output_type": "display_data"
    }
   ],
   "source": [
    "plt.plot(sim.trange(), sim.data[p_pc1v]);\n",
    "plt.plot(sim.trange(), sim.data[p_pc1e]);\n",
    "plt.plot(sim.trange(), sim.data[p_pc_end_v]);\n",
    "plt.plot(sim.trange(), sim.data[p_pc_end_e]);\n",
    "plt.plot(sim.trange(), sim.data[p_stim], ':');\n",
    "plt.legend(['pc1_v', 'pc1_e', 'pc_end_v', 'pc_end_e', 'stim']);"
   ]
  },
  {
   "cell_type": "code",
   "execution_count": 43,
   "id": "e129ef6d",
   "metadata": {},
   "outputs": [],
   "source": [
    "PC_net.update_learning_rule(True)"
   ]
  },
  {
   "cell_type": "code",
   "execution_count": 44,
   "id": "77fa7ec3",
   "metadata": {},
   "outputs": [
    {
     "data": {
      "application/vdom.v1+json": {
       "attributes": {},
       "tagName": "div"
      },
      "text/html": [
       "\n",
       "                <script>\n",
       "                    if (Jupyter.version.split(\".\")[0] < 5) {\n",
       "                        var pb = document.getElementById(\"0ab76cc1-ab73-441b-9a5d-c86501c603da\");\n",
       "                        var text = document.createTextNode(\n",
       "                            \"HMTL progress bar requires Jupyter Notebook >= \" +\n",
       "                            \"5.0 or Jupyter Lab. Alternatively, you can use \" +\n",
       "                            \"TerminalProgressBar().\");\n",
       "                        pb.parentNode.insertBefore(text, pb);\n",
       "                    }\n",
       "                </script>\n",
       "                <div id=\"0ab76cc1-ab73-441b-9a5d-c86501c603da\" style=\"\n",
       "                    width: 100%;\n",
       "                    border: 1px solid #cfcfcf;\n",
       "                    border-radius: 4px;\n",
       "                    text-align: center;\n",
       "                    position: relative;\">\n",
       "                  <div class=\"pb-text\" style=\"\n",
       "                      position: absolute;\n",
       "                      width: 100%;\">\n",
       "                    0%\n",
       "                  </div>\n",
       "                  <div class=\"pb-fill\" style=\"\n",
       "                      background-color: #bdd2e6;\n",
       "                      width: 0%;\">\n",
       "                    <style type=\"text/css\" scoped=\"scoped\">\n",
       "                        @keyframes pb-fill-anim {\n",
       "                            0% { background-position: 0 0; }\n",
       "                            100% { background-position: 100px 0; }\n",
       "                        }\n",
       "                    </style>\n",
       "                    &nbsp;\n",
       "                  </div>\n",
       "                </div>"
      ],
      "text/plain": [
       "HtmlProgressBar cannot be displayed. Please use the TerminalProgressBar. It can be enabled with `nengo.rc['progress']['progress_bar'] = 'nengo.utils.progress.TerminalProgressBar'`."
      ]
     },
     "metadata": {},
     "output_type": "display_data"
    },
    {
     "data": {
      "application/vdom.v1+json": {
       "attributes": {
        "id": "113d0b53-0ca4-44b2-abd4-ba6531ac2f84",
        "style": {
         "border": "1px solid #cfcfcf",
         "borderRadius": "4px",
         "boxSizing": "border-box",
         "position": "relative",
         "textAlign": "center",
         "width": "100%"
        }
       },
       "children": [
        {
         "attributes": {
          "class": "pb-text",
          "style": {
           "position": "absolute",
           "width": "100%"
          }
         },
         "children": [
          "Simulation finished in 0:00:01."
         ],
         "tagName": "div"
        },
        {
         "attributes": {
          "class": "pb-fill",
          "style": {
           "animation": "none",
           "backgroundColor": "#bdd2e6",
           "backgroundImage": "none",
           "transition": "width 0.1s linear",
           "width": "100%"
          }
         },
         "children": [
          {
           "attributes": {
            "scoped": "scoped",
            "type": "text/css"
           },
           "children": [
            "\n                        @keyframes pb-fill-anim {\n                            0% { background-position: 0 0; }\n                            100% { background-position: 100px 0; }\n                        }}"
           ],
           "tagName": "style"
          },
          " "
         ],
         "tagName": "div"
        }
       ],
       "tagName": "div"
      },
      "text/html": [
       "<script>\n",
       "              (function () {\n",
       "                  var root = document.getElementById('0ab76cc1-ab73-441b-9a5d-c86501c603da');\n",
       "                  var text = root.getElementsByClassName('pb-text')[0];\n",
       "                  var fill = root.getElementsByClassName('pb-fill')[0];\n",
       "\n",
       "                  text.innerHTML = 'Simulation finished in 0:00:01.';\n",
       "                  \n",
       "            if (100.0 > 0.) {\n",
       "                fill.style.transition = 'width 0.1s linear';\n",
       "            } else {\n",
       "                fill.style.transition = 'none';\n",
       "            }\n",
       "\n",
       "            fill.style.width = '100.0%';\n",
       "            fill.style.animation = 'none';\n",
       "            fill.style.backgroundImage = 'none'\n",
       "        \n",
       "                  \n",
       "                fill.style.animation = 'none';\n",
       "                fill.style.backgroundImage = 'none';\n",
       "            \n",
       "              })();\n",
       "        </script>"
      ]
     },
     "metadata": {},
     "output_type": "display_data"
    }
   ],
   "source": [
    "sim.run(1.)"
   ]
  },
  {
   "cell_type": "code",
   "execution_count": 45,
   "id": "f434edc8",
   "metadata": {},
   "outputs": [
    {
     "data": {
      "image/png": "[encoded data removed]",
      "text/plain": [
       "<Figure size 640x480 with 1 Axes>"
      ]
     },
     "metadata": {},
     "output_type": "display_data"
    }
   ],
   "source": [
    "plt.plot(sim.trange(), sim.data[p_pc1v]);\n",
    "plt.plot(sim.trange(), sim.data[p_pc1e]);\n",
    "plt.plot(sim.trange(), sim.data[p_pc_end_v]);\n",
    "plt.plot(sim.trange(), sim.data[p_pc_end_e]);\n",
    "plt.plot(sim.trange(), sim.data[p_stim], ':');\n",
    "plt.legend(['pc1_v', 'pc1_e', 'pc_end_v', 'pc_end_e', 'stim']);"
   ]
  },
  {
   "cell_type": "code",
   "execution_count": null,
   "id": "f03c4378",
   "metadata": {},
   "outputs": [],
   "source": []
  }
 ],
 "metadata": {
  "kernelspec": {
   "display_name": "Python 3 (ipykernel)",
   "language": "python",
   "name": "python3"
  },
  "language_info": {
   "codemirror_mode": {
    "name": "ipython",
    "version": 3
   },
   "file_extension": ".py",
   "mimetype": "text/x-python",
   "name": "python",
   "nbconvert_exporter": "python",
   "pygments_lexer": "ipython3",
   "version": "3.9.6"
  },
  "varInspector": {
   "cols": {
    "lenName": 16,
    "lenType": 16,
    "lenVar": 40
   },
   "kernels_config": {
    "python": {
     "delete_cmd_postfix": "",
     "delete_cmd_prefix": "del ",
     "library": "var_list.py",
     "varRefreshCmd": "print(var_dic_list())"
    },
    "r": {
     "delete_cmd_postfix": ") ",
     "delete_cmd_prefix": "rm(",
     "library": "var_list.r",
     "varRefreshCmd": "cat(var_dic_list()) "
    }
   },
   "types_to_exclude": [
    "module",
    "function",
    "builtin_function_or_method",
    "instance",
    "_Feature"
   ],
   "window_display": false
  }
 },
 "nbformat": 4,
 "nbformat_minor": 5
}
