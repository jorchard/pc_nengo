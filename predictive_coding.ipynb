{
 "cells": [
  {
   "cell_type": "markdown",
   "id": "e1c306d8",
   "metadata": {},
   "source": [
    "# Predictive Coding"
   ]
  },
  {
   "cell_type": "code",
   "execution_count": 1,
   "id": "4bf8d1d8",
   "metadata": {},
   "outputs": [],
   "source": [
    "import numpy as np\n",
    "import nengo\n",
    "from copy import deepcopy\n",
    "import matplotlib.pyplot as plt"
   ]
  },
  {
   "cell_type": "markdown",
   "id": "3f28966b",
   "metadata": {},
   "source": [
    "# `PCLayer` class\n",
    "This class models both the value nodes and error nodes of a single layer, as well as their interactions."
   ]
  },
  {
   "cell_type": "code",
   "execution_count": 2,
   "id": "7660a576",
   "metadata": {},
   "outputs": [],
   "source": [
    "class DelayOnce:\n",
    "    \"\"\"\n",
    "    Class to delay a node from firing at t=0 by a specified number of time steps.\n",
    "    \"\"\"\n",
    "    def __init__(self, dimensions, timesteps=50):\n",
    "        self.history = np.zeros((timesteps, dimensions))\n",
    "\n",
    "    def step(self, t, x):\n",
    "        if t > 0:\n",
    "            return x\n",
    "        else:\n",
    "            self.history = np.roll(self.history, -1)\n",
    "            self.history[-1] = x\n",
    "            return self.history[0]"
   ]
  },
  {
   "cell_type": "code",
   "execution_count": 3,
   "id": "c9659ff5",
   "metadata": {},
   "outputs": [],
   "source": [
    "class PCLayer(nengo.Network):\n",
    "    '''\n",
    "    l = PCLayer(n_nodes=10, tau=0.01)\n",
    "\n",
    "    Creates a layer for a predictive-coding network.\n",
    "    This layer has an array of value nodes, and a corresponding array of error nodes.\n",
    "\n",
    "    Inputs:\n",
    "    n_nodes       number of nodes in the layer\n",
    "    tau           synaptic time constant for internal error->value connections\n",
    "    pred_layer    is this a prediction layer\n",
    "    '''\n",
    "    def __init__(self, n_nodes=10, tau=0.01, pred_layer=False):\n",
    "        self.label = 'PCLayer'\n",
    "        self.n_nodes = n_nodes\n",
    "        self.pred_layer = pred_layer\n",
    "        self.tau = tau\n",
    "\n",
    "        self.delay = DelayOnce(n_nodes, timesteps=1)\n",
    "        # When the network is run in using the \"Direct\" neuron model, it treats\n",
    "        # each \"Ensemble\" as a single variable, and the decodings are done by\n",
    "        # the user-supplied decoding functions, not using decoding weights.\n",
    "        # In this case, the \"n_neurons\" argument is ignored.\n",
    "\n",
    "        # An \"EnsembleArray\" can be thought of as a group of nodes.\n",
    "        # An EnsembleArray holding the values (v)\n",
    "        self.v = nengo.networks.EnsembleArray(n_neurons=50, n_ensembles=n_nodes, radius=1.5)\n",
    "        # and an EnsembleArray holding the errors (e)\n",
    "        self.e = nengo.networks.EnsembleArray(n_neurons=50, n_ensembles=n_nodes, radius=1.5)\n",
    "\n",
    "        #node in between e and v for inference\n",
    "        self.in_between = nengo.Node(self.delay.step, size_in=n_nodes, size_out=n_nodes)\n",
    "\n",
    "        nengo.Connection(self.v.output, self.v.input, transform=1, synapse=tau)               # sustain old state\n",
    "\n",
    "        nengo.Connection(self.e.output, self.in_between, transform=1, synapse=tau)            # (v)<-(e)                                               \n",
    "        nengo.Connection(self.in_between, self.v.input, transform=-1, synapse=tau)            \n",
    "        #nengo.Connection(self.e.output, self.v.input, transform=-1, synapse=tau)            \n",
    "        nengo.Connection(self.v.output, self.e.input, synapse=tau)                            # (v)->(e)\n",
    "\n",
    "    def prediction(self, t):\n",
    "        \"\"\"\n",
    "        if INFERENCE or self.e.output.prediction_output is None:\n",
    "            return np.array([0 for i in range(self.n_nodes)])\n",
    "        else:\n",
    "            return self.e.output.prediction_output\n",
    "        \"\"\"\n",
    "        if self.e.output.output is None: #empty error node\n",
    "            return [0 for i in range(self.n_nodes)]\n",
    "        elif self.pred_layer and INFERENCE:\n",
    "            return [0 for i in range(self.n_nodes)]\n",
    "        else:\n",
    "            return [out for out in self.e.out.output.output]\n",
    "        \"\"\"######\n",
    "        if (INFERENCE or self.e.output.output is None) and self.pred_layer:\n",
    "        #this layer must be a prediction layer\n",
    "        #we must be doing inference or the output of the error node is empty (initial step) \n",
    "        return [0 for i in range(self.n_nodes)]\n",
    "        else:\n",
    "        return self.e.output.output\n",
    "        \"\"\""
   ]
  },
  {
   "cell_type": "markdown",
   "id": "649d88e2",
   "metadata": {},
   "source": [
    "# `PCConnection` class\n",
    "This class models the weighted, all-to-all connections between `PCLayer`s."
   ]
  },
  {
   "cell_type": "code",
   "execution_count": 4,
   "id": "6bbb3fe3",
   "metadata": {},
   "outputs": [],
   "source": [
    "class PCConnection(nengo.Network):\n",
    "    '''\n",
    "     c = PCConnection(below, above, learn=False, symmetric=True)\n",
    "     \n",
    "     This class builds all the connections between the two PCLayers.\n",
    "     \n",
    "     Inputs:\n",
    "      below        PCLayer object below\n",
    "      above        PCLayer object above\n",
    "      learn        Boolean, whether to learn (default False)\n",
    "      symmetric    Boolean, whether the connection is symmetric\n",
    "                   ie. W = M.T (default True)\n",
    "      activation  Activation function to use. None defaults to linear\n",
    "    '''\n",
    "    def __init__(self, below, above, learn=False, tau_learn=20., symmetric=True, M=None, activation=None):\n",
    "        self.below = below\n",
    "        self.above = above\n",
    "        self.learn = learn\n",
    "        self.tau_learn = tau_learn    # learning time constant\n",
    "        self.symmetric = symmetric\n",
    "        self.n_e = self.below.e.n_ensembles  # dimension of below layer\n",
    "        self.n_v = self.above.v.n_ensembles  # dimension of above layer\n",
    "\n",
    "        if activation is None: #Linear Activiation\n",
    "            self.func = lambda x: x\n",
    "            self.deriv = lambda x: np.ones_like(x)\n",
    "        elif activation==\"ReLU\":\n",
    "            self.func = lambda x: np.maximum(0, x)\n",
    "            self.deriv = lambda x: (np.sign(x)+1)/2\n",
    "        elif activation==\"logistic\":\n",
    "            self.func = lambda x: 1/(1 + np.exp(-x))\n",
    "            self.deriv = lambda x: self.func(x)*(1-self.func(x))\n",
    "        elif activation==\"tanh\":\n",
    "            self.func = lambda x: np.tanh(x)\n",
    "            self.deriv = lambda x: 1 - np.tanh(x)**2\n",
    "        elif activation==\"threshold\":\n",
    "            self.func = lambda x: (np.sign(x)+1)/2\n",
    "            self.deriv = lambda x: np.zeros_like(x)\n",
    "        else:\n",
    "            raise ValueError(\"Unknown activation function. Acceptable inputs are: None, \"\n",
    "                             + \"\\\"ReLU\\\", \"\n",
    "                             + \"\\\"logistic\\\", \"\n",
    "                             + \"\\\"tanh\\\", \"\n",
    "                             + f\"or \\\"threshold\\\". Got \\\"{activation}\\\".\")\n",
    "\n",
    "\n",
    "        # Set up connect matrices\n",
    "        if M is None:\n",
    "            self.M = np.random.normal(size=(self.n_v, self.n_e))/10.\n",
    "        else:\n",
    "            self.M = M\n",
    "        if self.symmetric:\n",
    "            self.W = self.M.T\n",
    "        else:\n",
    "            self.W = np.random.normal(size=(self.n_e, self.n_v))\n",
    "        \n",
    "        # Set up the node that applies the connection weights\n",
    "        dims = self.n_e + self.n_v\n",
    "        self.exchange = nengo.Node(self.update, size_in=dims, size_out=dims)\n",
    "        \n",
    "\n",
    "        n = self.n_e\n",
    "        nengo.Connection(self.below.e.output, self.exchange[:n])               # inp -> exchange\n",
    "        nengo.Connection(self.exchange[:n], self.below.e.input, transform=-1)  # inp <- con\n",
    "        nengo.Connection(self.above.v.output, self.exchange[n:], transform=1)  # con <- hid\n",
    "        nengo.Connection(self.exchange[n:], self.above.v.input)                # con -> hid\n",
    "        \n",
    "    def update(self, t, x):\n",
    "        \"\"\"\n",
    "        # Original update rule without nonlinearity\n",
    "        e_in = x[:self.n_e]\n",
    "        v_in = x[self.n_e:]\n",
    "\n",
    "        err_out = self.deriv(v_in) * (self.W @ e_in)\n",
    "        pred_out = self.M @ self.func(v_in)\n",
    "\n",
    "        if self.learn:\n",
    "            dM = np.outer(e_in, self.func(v_in))\n",
    "            self.M += dM / self.tau_learn\n",
    "            if not self.symmetric:\n",
    "                self.W += dM.T / self.tau_learn\n",
    "\n",
    "        return np.concatenate((pred_out, err_out))\n",
    "        \"\"\"\n",
    "        e_in = x[:self.n_e]\n",
    "        v_in = x[self.n_e:]\n",
    "\n",
    "        err_out = self.deriv(v_in) * (e_in @ self.W)\n",
    "        pred_out = self.func(v_in) @ self.M\n",
    "\n",
    "        if self.learn:\n",
    "            dM = np.outer(self.func(v_in), e_in)\n",
    "            #print(\"tau learn\", self.tau_learn)\n",
    "            #print(\"dM\", dM)\n",
    "            #print(\"M\", self.M)\n",
    "            self.M += dM / self.tau_learn\n",
    "            if not self.symmetric:\n",
    "                self.W += dM.T / self.tau_learn\n",
    "\n",
    "        return np.concatenate((pred_out, err_out))   \n"
   ]
  },
  {
   "cell_type": "code",
   "execution_count": 5,
   "id": "45774117",
   "metadata": {
    "scrolled": false
   },
   "outputs": [],
   "source": [
    "# Using PCLayer class\n",
    "n = 1\n",
    "with nengo.Network() as net:\n",
    "    tau = 0.001\n",
    "    #============== Run in Direct mode =======================\n",
    "    net.config[nengo.Ensemble].neuron_type = nengo.Direct()\n",
    "    #=========================================================\n",
    "    net.config[nengo.Connection].synapse = tau\n",
    "    net.config[nengo.Probe].synapse = 0.05\n",
    "    \n",
    "    # Inputs\n",
    "    D = 2\n",
    "    stim = nengo.Node([1, 0.5])   # sensory (bottom layer)\n",
    "    INFERENCE = False\n",
    "    pred = nengo.Node([0.25, 0.75])  # percept (top layer)\n",
    "    \n",
    "    # We need a node that computes the error between stim and the prediction from above.\n",
    "    stim_err = nengo.Node(lambda t,x: x[:D]+x[D:], size_in=2*D, size_out=D)  # sensory error\n",
    "    \n",
    "    \n",
    "    # PC layers\n",
    "    pc1 = PCLayer(n_nodes=D)\n",
    "    pc2 = PCLayer(n_nodes=D, pred_layer=True)\n",
    "    \n",
    "    '''\n",
    "     [     /-->         ] -W-> [      /-->       ] -W-> [      /-->       ]      [      ]\n",
    "     [ stim     stim_err]      [ pc1.v     pc1.e ]      [ pc2.v     pc2.e ]      [ pred ]\n",
    "     [                  ] <-M- [       <--/      ] <-M- [       <--/      ] <-M- [      ]\n",
    "    '''\n",
    "    \n",
    "    # Connections\n",
    "    nengo.Connection(stim, stim_err[:D])                       # stim -> stim_err\n",
    "    nengo.Connection(stim_err, pc1.v.input)                   # stim_err -> pc1\n",
    "    nengo.Connection(pc1.v.output, stim_err[D:], transform=-1) # stim_err <- pc1\n",
    "    \n",
    "    # Connect the two PC layers\n",
    "    pc_con1 = PCConnection(pc1, pc2, learn=False, tau_learn=20., activation=\"tanh\") #, M=np.array([1]))\n",
    "    \n",
    "    # Connect top layer to predictions from on high\n",
    "    nengo.Connection(pred, pc2.e.input, function=(lambda x: -x)) #transform=-1)         # pc2 <- pred\n",
    "    \n",
    "    \n",
    "    # Set up a bunch of probes (so we can plot stuff later)\n",
    "    p_stim = nengo.Probe(stim)\n",
    "    p_pc1v = nengo.Probe(pc1.v.output)\n",
    "    p_pc1e = nengo.Probe(pc1.e.output)\n",
    "    p_pc2v = nengo.Probe(pc2.v.output)\n",
    "    p_pc2e = nengo.Probe(pc2.e.output)\n",
    "    p_pred = nengo.Probe(pred)"
   ]
  },
  {
   "cell_type": "code",
   "execution_count": 6,
   "id": "5dcc8f11",
   "metadata": {
    "scrolled": false
   },
   "outputs": [
    {
     "data": {
      "application/vdom.v1+json": {
       "attributes": {},
       "tagName": "div"
      },
      "text/html": [
       "\n",
       "                <script>\n",
       "                    if (Jupyter.version.split(\".\")[0] < 5) {\n",
       "                        var pb = document.getElementById(\"b3d28e0e-1abc-4df7-bb2a-432f6aee8286\");\n",
       "                        var text = document.createTextNode(\n",
       "                            \"HMTL progress bar requires Jupyter Notebook >= \" +\n",
       "                            \"5.0 or Jupyter Lab. Alternatively, you can use \" +\n",
       "                            \"TerminalProgressBar().\");\n",
       "                        pb.parentNode.insertBefore(text, pb);\n",
       "                    }\n",
       "                </script>\n",
       "                <div id=\"b3d28e0e-1abc-4df7-bb2a-432f6aee8286\" style=\"\n",
       "                    width: 100%;\n",
       "                    border: 1px solid #cfcfcf;\n",
       "                    border-radius: 4px;\n",
       "                    text-align: center;\n",
       "                    position: relative;\">\n",
       "                  <div class=\"pb-text\" style=\"\n",
       "                      position: absolute;\n",
       "                      width: 100%;\">\n",
       "                    0%\n",
       "                  </div>\n",
       "                  <div class=\"pb-fill\" style=\"\n",
       "                      background-color: #bdd2e6;\n",
       "                      width: 0%;\">\n",
       "                    <style type=\"text/css\" scoped=\"scoped\">\n",
       "                        @keyframes pb-fill-anim {\n",
       "                            0% { background-position: 0 0; }\n",
       "                            100% { background-position: 100px 0; }\n",
       "                        }\n",
       "                    </style>\n",
       "                    &nbsp;\n",
       "                  </div>\n",
       "                </div>"
      ],
      "text/plain": [
       "HtmlProgressBar cannot be displayed. Please use the TerminalProgressBar. It can be enabled with `nengo.rc['progress']['progress_bar'] = 'nengo.utils.progress.TerminalProgressBar'`."
      ]
     },
     "metadata": {},
     "output_type": "display_data"
    },
    {
     "data": {
      "application/vdom.v1+json": {
       "attributes": {
        "id": "c781389f-f72e-4e31-9d84-4fec689ca9da",
        "style": {
         "border": "1px solid #cfcfcf",
         "borderRadius": "4px",
         "boxSizing": "border-box",
         "position": "relative",
         "textAlign": "center",
         "width": "100%"
        }
       },
       "children": [
        {
         "attributes": {
          "class": "pb-text",
          "style": {
           "position": "absolute",
           "width": "100%"
          }
         },
         "children": [
          "Build finished in 0:00:01."
         ],
         "tagName": "div"
        },
        {
         "attributes": {
          "class": "pb-fill",
          "style": {
           "animation": "none",
           "backgroundColor": "#bdd2e6",
           "backgroundImage": "none",
           "backgroundSize": "100px 100%",
           "width": "100%"
          }
         },
         "children": [
          {
           "attributes": {
            "scoped": "scoped",
            "type": "text/css"
           },
           "children": [
            "\n                        @keyframes pb-fill-anim {\n                            0% { background-position: 0 0; }\n                            100% { background-position: 100px 0; }\n                        }}"
           ],
           "tagName": "style"
          },
          " "
         ],
         "tagName": "div"
        }
       ],
       "tagName": "div"
      },
      "text/html": [
       "<script>\n",
       "              (function () {\n",
       "                  var root = document.getElementById('b3d28e0e-1abc-4df7-bb2a-432f6aee8286');\n",
       "                  var text = root.getElementsByClassName('pb-text')[0];\n",
       "                  var fill = root.getElementsByClassName('pb-fill')[0];\n",
       "\n",
       "                  text.innerHTML = 'Build finished in 0:00:01.';\n",
       "                  \n",
       "            fill.style.width = '100%';\n",
       "            fill.style.animation = 'pb-fill-anim 2s linear infinite';\n",
       "            fill.style.backgroundSize = '100px 100%';\n",
       "            fill.style.backgroundImage = 'repeating-linear-gradient(' +\n",
       "                '90deg, #bdd2e6, #edf2f8 40%, #bdd2e6 80%, #bdd2e6)';\n",
       "        \n",
       "                  \n",
       "                fill.style.animation = 'none';\n",
       "                fill.style.backgroundImage = 'none';\n",
       "            \n",
       "              })();\n",
       "        </script>"
      ]
     },
     "metadata": {},
     "output_type": "display_data"
    }
   ],
   "source": [
    "sim = nengo.Simulator(net)"
   ]
  },
  {
   "cell_type": "code",
   "execution_count": 7,
   "id": "e92f093b",
   "metadata": {},
   "outputs": [],
   "source": [
    "INFERENCE = False"
   ]
  },
  {
   "cell_type": "code",
   "execution_count": 8,
   "id": "9f20709a",
   "metadata": {},
   "outputs": [
    {
     "data": {
      "application/vdom.v1+json": {
       "attributes": {},
       "tagName": "div"
      },
      "text/html": [
       "\n",
       "                <script>\n",
       "                    if (Jupyter.version.split(\".\")[0] < 5) {\n",
       "                        var pb = document.getElementById(\"6c31c956-e688-4c9e-8897-d77eb4c3c9eb\");\n",
       "                        var text = document.createTextNode(\n",
       "                            \"HMTL progress bar requires Jupyter Notebook >= \" +\n",
       "                            \"5.0 or Jupyter Lab. Alternatively, you can use \" +\n",
       "                            \"TerminalProgressBar().\");\n",
       "                        pb.parentNode.insertBefore(text, pb);\n",
       "                    }\n",
       "                </script>\n",
       "                <div id=\"6c31c956-e688-4c9e-8897-d77eb4c3c9eb\" style=\"\n",
       "                    width: 100%;\n",
       "                    border: 1px solid #cfcfcf;\n",
       "                    border-radius: 4px;\n",
       "                    text-align: center;\n",
       "                    position: relative;\">\n",
       "                  <div class=\"pb-text\" style=\"\n",
       "                      position: absolute;\n",
       "                      width: 100%;\">\n",
       "                    0%\n",
       "                  </div>\n",
       "                  <div class=\"pb-fill\" style=\"\n",
       "                      background-color: #bdd2e6;\n",
       "                      width: 0%;\">\n",
       "                    <style type=\"text/css\" scoped=\"scoped\">\n",
       "                        @keyframes pb-fill-anim {\n",
       "                            0% { background-position: 0 0; }\n",
       "                            100% { background-position: 100px 0; }\n",
       "                        }\n",
       "                    </style>\n",
       "                    &nbsp;\n",
       "                  </div>\n",
       "                </div>"
      ],
      "text/plain": [
       "HtmlProgressBar cannot be displayed. Please use the TerminalProgressBar. It can be enabled with `nengo.rc['progress']['progress_bar'] = 'nengo.utils.progress.TerminalProgressBar'`."
      ]
     },
     "metadata": {},
     "output_type": "display_data"
    },
    {
     "data": {
      "application/vdom.v1+json": {
       "attributes": {
        "id": "974d81b3-2ce6-4946-aebd-b014b96f97fe",
        "style": {
         "border": "1px solid #cfcfcf",
         "borderRadius": "4px",
         "boxSizing": "border-box",
         "position": "relative",
         "textAlign": "center",
         "width": "100%"
        }
       },
       "children": [
        {
         "attributes": {
          "class": "pb-text",
          "style": {
           "position": "absolute",
           "width": "100%"
          }
         },
         "children": [
          "Simulation finished in 0:00:01."
         ],
         "tagName": "div"
        },
        {
         "attributes": {
          "class": "pb-fill",
          "style": {
           "animation": "none",
           "backgroundColor": "#bdd2e6",
           "backgroundImage": "none",
           "transition": "width 0.1s linear",
           "width": "100%"
          }
         },
         "children": [
          {
           "attributes": {
            "scoped": "scoped",
            "type": "text/css"
           },
           "children": [
            "\n                        @keyframes pb-fill-anim {\n                            0% { background-position: 0 0; }\n                            100% { background-position: 100px 0; }\n                        }}"
           ],
           "tagName": "style"
          },
          " "
         ],
         "tagName": "div"
        }
       ],
       "tagName": "div"
      },
      "text/html": [
       "<script>\n",
       "              (function () {\n",
       "                  var root = document.getElementById('6c31c956-e688-4c9e-8897-d77eb4c3c9eb');\n",
       "                  var text = root.getElementsByClassName('pb-text')[0];\n",
       "                  var fill = root.getElementsByClassName('pb-fill')[0];\n",
       "\n",
       "                  text.innerHTML = 'Simulation finished in 0:00:01.';\n",
       "                  \n",
       "            if (100.0 > 0.) {\n",
       "                fill.style.transition = 'width 0.1s linear';\n",
       "            } else {\n",
       "                fill.style.transition = 'none';\n",
       "            }\n",
       "\n",
       "            fill.style.width = '100.0%';\n",
       "            fill.style.animation = 'none';\n",
       "            fill.style.backgroundImage = 'none'\n",
       "        \n",
       "                  \n",
       "                fill.style.animation = 'none';\n",
       "                fill.style.backgroundImage = 'none';\n",
       "            \n",
       "              })();\n",
       "        </script>"
      ]
     },
     "metadata": {},
     "output_type": "display_data"
    }
   ],
   "source": [
    "sim.run(1.)"
   ]
  },
  {
   "cell_type": "code",
   "execution_count": 9,
   "id": "47b63caf",
   "metadata": {
    "scrolled": false
   },
   "outputs": [
    {
     "data": {
      "image/png": "[encoded data removed]",
      "text/plain": [
       "<Figure size 640x480 with 2 Axes>"
      ]
     },
     "metadata": {},
     "output_type": "display_data"
    }
   ],
   "source": [
    "fig, ax = plt.subplots(nrows=1, ncols=2)\n",
    "\n",
    "ax[0].plot(sim.trange(), sim.data[p_pc1v]);\n",
    "ax[1].plot(sim.trange(), sim.data[p_pc1e]);\n",
    "ax[0].plot(sim.trange(), sim.data[p_pc2v]);\n",
    "ax[1].plot(sim.trange(), sim.data[p_pc2e]);\n",
    "ax[0].plot(sim.trange(), sim.data[p_stim], ':');\n",
    "ax[0].plot(sim.trange(), sim.data[p_pred], \"--\");\n",
    "ax[0].legend(['pc1_v[0]', 'pc1_v[1]', 'pc2_v[0]', 'pc2_v[1]', 'stim[0]', 'stim[1]', 'pred[0]', 'pred[1]'],\n",
    "             loc='upper right', bbox_to_anchor=(1, 1.5));\n",
    "ax[1].legend(['pc1_e[0]', 'pc1_e[1]', 'pc2_e[0]', 'pc2_e[1]'],\n",
    "             loc='upper left', bbox_to_anchor=(0.6, 1.2));"
   ]
  },
  {
   "cell_type": "code",
   "execution_count": null,
   "id": "0c06d84a",
   "metadata": {},
   "outputs": [],
   "source": []
  },
  {
   "cell_type": "code",
   "execution_count": 10,
   "id": "9d1dcda3",
   "metadata": {},
   "outputs": [],
   "source": [
    "pc_con1.learn = True"
   ]
  },
  {
   "cell_type": "code",
   "execution_count": 11,
   "id": "0baaa5eb",
   "metadata": {},
   "outputs": [
    {
     "data": {
      "application/vdom.v1+json": {
       "attributes": {},
       "tagName": "div"
      },
      "text/html": [
       "\n",
       "                <script>\n",
       "                    if (Jupyter.version.split(\".\")[0] < 5) {\n",
       "                        var pb = document.getElementById(\"a8f05e16-fea1-4f6a-9b9b-d516ffcc9d85\");\n",
       "                        var text = document.createTextNode(\n",
       "                            \"HMTL progress bar requires Jupyter Notebook >= \" +\n",
       "                            \"5.0 or Jupyter Lab. Alternatively, you can use \" +\n",
       "                            \"TerminalProgressBar().\");\n",
       "                        pb.parentNode.insertBefore(text, pb);\n",
       "                    }\n",
       "                </script>\n",
       "                <div id=\"a8f05e16-fea1-4f6a-9b9b-d516ffcc9d85\" style=\"\n",
       "                    width: 100%;\n",
       "                    border: 1px solid #cfcfcf;\n",
       "                    border-radius: 4px;\n",
       "                    text-align: center;\n",
       "                    position: relative;\">\n",
       "                  <div class=\"pb-text\" style=\"\n",
       "                      position: absolute;\n",
       "                      width: 100%;\">\n",
       "                    0%\n",
       "                  </div>\n",
       "                  <div class=\"pb-fill\" style=\"\n",
       "                      background-color: #bdd2e6;\n",
       "                      width: 0%;\">\n",
       "                    <style type=\"text/css\" scoped=\"scoped\">\n",
       "                        @keyframes pb-fill-anim {\n",
       "                            0% { background-position: 0 0; }\n",
       "                            100% { background-position: 100px 0; }\n",
       "                        }\n",
       "                    </style>\n",
       "                    &nbsp;\n",
       "                  </div>\n",
       "                </div>"
      ],
      "text/plain": [
       "HtmlProgressBar cannot be displayed. Please use the TerminalProgressBar. It can be enabled with `nengo.rc['progress']['progress_bar'] = 'nengo.utils.progress.TerminalProgressBar'`."
      ]
     },
     "metadata": {},
     "output_type": "display_data"
    },
    {
     "data": {
      "application/vdom.v1+json": {
       "attributes": {
        "id": "eb7d6142-798d-44ed-9258-4626c4f162f1",
        "style": {
         "border": "1px solid #cfcfcf",
         "borderRadius": "4px",
         "boxSizing": "border-box",
         "position": "relative",
         "textAlign": "center",
         "width": "100%"
        }
       },
       "children": [
        {
         "attributes": {
          "class": "pb-text",
          "style": {
           "position": "absolute",
           "width": "100%"
          }
         },
         "children": [
          "Simulation finished in 0:00:01."
         ],
         "tagName": "div"
        },
        {
         "attributes": {
          "class": "pb-fill",
          "style": {
           "animation": "none",
           "backgroundColor": "#bdd2e6",
           "backgroundImage": "none",
           "transition": "width 0.1s linear",
           "width": "100%"
          }
         },
         "children": [
          {
           "attributes": {
            "scoped": "scoped",
            "type": "text/css"
           },
           "children": [
            "\n                        @keyframes pb-fill-anim {\n                            0% { background-position: 0 0; }\n                            100% { background-position: 100px 0; }\n                        }}"
           ],
           "tagName": "style"
          },
          " "
         ],
         "tagName": "div"
        }
       ],
       "tagName": "div"
      },
      "text/html": [
       "<script>\n",
       "              (function () {\n",
       "                  var root = document.getElementById('a8f05e16-fea1-4f6a-9b9b-d516ffcc9d85');\n",
       "                  var text = root.getElementsByClassName('pb-text')[0];\n",
       "                  var fill = root.getElementsByClassName('pb-fill')[0];\n",
       "\n",
       "                  text.innerHTML = 'Simulation finished in 0:00:01.';\n",
       "                  \n",
       "            if (100.0 > 0.) {\n",
       "                fill.style.transition = 'width 0.1s linear';\n",
       "            } else {\n",
       "                fill.style.transition = 'none';\n",
       "            }\n",
       "\n",
       "            fill.style.width = '100.0%';\n",
       "            fill.style.animation = 'none';\n",
       "            fill.style.backgroundImage = 'none'\n",
       "        \n",
       "                  \n",
       "                fill.style.animation = 'none';\n",
       "                fill.style.backgroundImage = 'none';\n",
       "            \n",
       "              })();\n",
       "        </script>"
      ]
     },
     "metadata": {},
     "output_type": "display_data"
    }
   ],
   "source": [
    "sim.run(1.)"
   ]
  },
  {
   "cell_type": "code",
   "execution_count": null,
   "id": "902671af",
   "metadata": {
    "scrolled": false
   },
   "outputs": [],
   "source": [
    "fig, ax = plt.subplots(nrows=1, ncols=2)\n",
    "\n",
    "ax[0].plot(sim.trange(), sim.data[p_pc1v]);\n",
    "ax[1].plot(sim.trange(), sim.data[p_pc1e]);\n",
    "ax[0].plot(sim.trange(), sim.data[p_pc2v]);\n",
    "ax[1].plot(sim.trange(), sim.data[p_pc2e]);\n",
    "ax[0].plot(sim.trange(), sim.data[p_stim], ':');\n",
    "ax[0].plot(sim.trange(), sim.data[p_pred], \"--\");\n",
    "ax[0].legend(['pc1_v[0]', 'pc1_v[1]', 'pc2_v[0]', 'pc2_v[1]', 'stim[0]', 'stim[1]', 'pred[0]', 'pred[1]'],\n",
    "             loc='upper right', bbox_to_anchor=(1, 1.5));\n",
    "ax[1].legend(['pc1_e[0]', 'pc1_e[1]', 'pc2_e[0]', 'pc2_e[1]'],\n",
    "             loc='upper left', bbox_to_anchor=(0.6, 1.2));"
   ]
  },
  {
   "cell_type": "code",
   "execution_count": 12,
   "id": "4f72135d",
   "metadata": {},
   "outputs": [],
   "source": [
    "INFERENCE = True"
   ]
  },
  {
   "cell_type": "code",
   "execution_count": 13,
   "id": "5d47cddc",
   "metadata": {},
   "outputs": [],
   "source": [
    "pc_con1.learn = False"
   ]
  },
  {
   "cell_type": "code",
   "execution_count": 14,
   "id": "59a14514",
   "metadata": {},
   "outputs": [
    {
     "data": {
      "application/vdom.v1+json": {
       "attributes": {},
       "tagName": "div"
      },
      "text/html": [
       "\n",
       "                <script>\n",
       "                    if (Jupyter.version.split(\".\")[0] < 5) {\n",
       "                        var pb = document.getElementById(\"569dc9a7-c632-42c1-8a8a-96831ad52b5c\");\n",
       "                        var text = document.createTextNode(\n",
       "                            \"HMTL progress bar requires Jupyter Notebook >= \" +\n",
       "                            \"5.0 or Jupyter Lab. Alternatively, you can use \" +\n",
       "                            \"TerminalProgressBar().\");\n",
       "                        pb.parentNode.insertBefore(text, pb);\n",
       "                    }\n",
       "                </script>\n",
       "                <div id=\"569dc9a7-c632-42c1-8a8a-96831ad52b5c\" style=\"\n",
       "                    width: 100%;\n",
       "                    border: 1px solid #cfcfcf;\n",
       "                    border-radius: 4px;\n",
       "                    text-align: center;\n",
       "                    position: relative;\">\n",
       "                  <div class=\"pb-text\" style=\"\n",
       "                      position: absolute;\n",
       "                      width: 100%;\">\n",
       "                    0%\n",
       "                  </div>\n",
       "                  <div class=\"pb-fill\" style=\"\n",
       "                      background-color: #bdd2e6;\n",
       "                      width: 0%;\">\n",
       "                    <style type=\"text/css\" scoped=\"scoped\">\n",
       "                        @keyframes pb-fill-anim {\n",
       "                            0% { background-position: 0 0; }\n",
       "                            100% { background-position: 100px 0; }\n",
       "                        }\n",
       "                    </style>\n",
       "                    &nbsp;\n",
       "                  </div>\n",
       "                </div>"
      ],
      "text/plain": [
       "HtmlProgressBar cannot be displayed. Please use the TerminalProgressBar. It can be enabled with `nengo.rc['progress']['progress_bar'] = 'nengo.utils.progress.TerminalProgressBar'`."
      ]
     },
     "metadata": {},
     "output_type": "display_data"
    },
    {
     "data": {
      "application/vdom.v1+json": {
       "attributes": {
        "id": "f87da321-4ad8-4046-9495-fa1c27882350",
        "style": {
         "border": "1px solid #cfcfcf",
         "borderRadius": "4px",
         "boxSizing": "border-box",
         "position": "relative",
         "textAlign": "center",
         "width": "100%"
        }
       },
       "children": [
        {
         "attributes": {
          "class": "pb-text",
          "style": {
           "position": "absolute",
           "width": "100%"
          }
         },
         "children": [
          "Simulation finished in 0:00:01."
         ],
         "tagName": "div"
        },
        {
         "attributes": {
          "class": "pb-fill",
          "style": {
           "animation": "none",
           "backgroundColor": "#bdd2e6",
           "backgroundImage": "none",
           "transition": "width 0.1s linear",
           "width": "100%"
          }
         },
         "children": [
          {
           "attributes": {
            "scoped": "scoped",
            "type": "text/css"
           },
           "children": [
            "\n                        @keyframes pb-fill-anim {\n                            0% { background-position: 0 0; }\n                            100% { background-position: 100px 0; }\n                        }}"
           ],
           "tagName": "style"
          },
          " "
         ],
         "tagName": "div"
        }
       ],
       "tagName": "div"
      },
      "text/html": [
       "<script>\n",
       "              (function () {\n",
       "                  var root = document.getElementById('569dc9a7-c632-42c1-8a8a-96831ad52b5c');\n",
       "                  var text = root.getElementsByClassName('pb-text')[0];\n",
       "                  var fill = root.getElementsByClassName('pb-fill')[0];\n",
       "\n",
       "                  text.innerHTML = 'Simulation finished in 0:00:01.';\n",
       "                  \n",
       "            if (100.0 > 0.) {\n",
       "                fill.style.transition = 'width 0.1s linear';\n",
       "            } else {\n",
       "                fill.style.transition = 'none';\n",
       "            }\n",
       "\n",
       "            fill.style.width = '100.0%';\n",
       "            fill.style.animation = 'none';\n",
       "            fill.style.backgroundImage = 'none'\n",
       "        \n",
       "                  \n",
       "                fill.style.animation = 'none';\n",
       "                fill.style.backgroundImage = 'none';\n",
       "            \n",
       "              })();\n",
       "        </script>"
      ]
     },
     "metadata": {},
     "output_type": "display_data"
    }
   ],
   "source": [
    "sim.run(2)"
   ]
  },
  {
   "cell_type": "code",
   "execution_count": null,
   "id": "ede11496",
   "metadata": {},
   "outputs": [],
   "source": [
    "fig, ax = plt.subplots(nrows=1, ncols=2)\n",
    "\n",
    "ax[0].plot(sim.trange(), sim.data[p_pc1v]);\n",
    "ax[1].plot(sim.trange(), sim.data[p_pc1e]);\n",
    "ax[0].plot(sim.trange(), sim.data[p_pc2v]);\n",
    "ax[1].plot(sim.trange(), sim.data[p_pc2e]);\n",
    "ax[0].plot(sim.trange(), sim.data[p_stim], ':');\n",
    "ax[0].plot(sim.trange(), sim.data[p_pred], \"--\");\n",
    "ax[0].legend(['pc1_v[0]', 'pc1_v[1]', 'pc2_v[0]', 'pc2_v[1]', 'stim[0]', 'stim[1]', 'pred[0]', 'pred[1]'],\n",
    "             loc='upper right', bbox_to_anchor=(1, 1.5));\n",
    "ax[1].legend(['pc1_e[0]', 'pc1_e[1]', 'pc2_e[0]', 'pc2_e[1]'],\n",
    "             loc='upper left', bbox_to_anchor=(0.6, 1.2));"
   ]
  },
  {
   "cell_type": "markdown",
   "id": "8de7cff0",
   "metadata": {},
   "source": [
    "# `PCNetwork` class\n",
    "This class creates a predictive coding neural network made of `PCLayer`s."
   ]
  },
  {
   "cell_type": "code",
   "execution_count": 15,
   "id": "ef184e9b",
   "metadata": {},
   "outputs": [],
   "source": [
    "class PCNetwork:\n",
    "    '''\n",
    "    c = PCNetwork(num_hidden_layers, learn=False, symmetric=True)\n",
    "    \n",
    "    This class builds a PC neural network with.\n",
    "    \n",
    "    Inputs:\n",
    "    num_hidden_layers     PCLayer object below\n",
    "    learn                 Boolean, whether to learn (default False)\n",
    "    symmetric             Boolean, whether the connection is symmetric\n",
    "                          ie. W = M.T (default True)\n",
    "    tau_learn             num or List, learning rate for the Euler step when updating the weights\n",
    "                            - if num, each connection will have the same tau_learn\n",
    "                            - if List, each connection will have a tau_learn corresponding to the value in that\n",
    "                              position in the list\n",
    "    n_nodes               Int or List, number of nodes at each layer, defaults to 10\n",
    "                            - if Int, each layer will have the same number of nodes\n",
    "                            - if List, each layer will have a number of nodes corresponding to the value\n",
    "                              in that position in the list\n",
    "    M                     ndarray, List or None, value of M at each layer, defaults to None\n",
    "                            - if ndarray or None, each connection will have M passed in as an argument during construction\n",
    "                            - if List, each connection will have an M corresponding to the value in that\n",
    "                              position in the list\n",
    "    activiation           None, string, or list, defaults to None\n",
    "                            - if string or None, each connection will have the same activation function\n",
    "                            - if list, each connection will have an activation fucntion corresponding to the value\n",
    "                              in that position in the list\n",
    "    '''\n",
    "    def __init__(self, num_hidden_layers, learn=False, symmetric=True, tau_learn=10., n_nodes=10, M=None, activation=None):\n",
    "        self.layers = [] #a list of all layers in order of connection\n",
    "        self.connections = [] #a list of all connections between layers\n",
    "        self.learn = learn\n",
    "        self.symmetric = symmetric\n",
    "\n",
    "        #set up member attributes and input validation\n",
    "        if type(tau_learn) is int or type(tau_learn) is float:\n",
    "            self.tau_learn = [tau_learn for i in range(num_hidden_layers-1)]   # learning time constant\n",
    "        elif type(tau_learn) is not list:\n",
    "            raise TypeError(f\"tau_learn must be a list or an int/float, instead got {type(tau_learn)}\")\n",
    "        else:\n",
    "            if len(tau_learn) != num_hidden_layers-1:\n",
    "                raise ValueError(f\"If tau is a list, it must have num_hidden_layers-1 ({num_hidden_layers-1}), instead got {len(tau_learn)}\")\n",
    "            self.tau_learn = tau_learn\n",
    "            \n",
    "        if type(n_nodes) is int:\n",
    "            self.n_nodes = [n_nodes for i in range(num_hidden_layers)]\n",
    "        elif type(n_nodes) is not list:\n",
    "            raise TypeError(f\"n_nodes must be a list or an int, instead got {type(n_nodes)}\")\n",
    "        else:\n",
    "            if len(n_nodes) != num_hidden_layers:\n",
    "                raise ValueError(f\"If n_nodes is a list, it must have num_hidden_layers ({num_hidden_layers}) elements, instead got {len(n_nodes)}\")\n",
    "            self.n_nodes = n_nodes\n",
    "        \n",
    "        if type(M) is np.ndarray or M is None:\n",
    "            self.M = [M for i in range(num_hidden_layers-1)]\n",
    "        elif type(M) is not list:\n",
    "            raise TypeError(f\"M must be an ndarray, list, or None, instead got {type(M)}\")\n",
    "        else:\n",
    "            if len(M) != num_hidden_layers-1:\n",
    "                raise ValueError(f\"If M is a list, it must have num_hidden_layers-1 ({num_hidden_layers-1}) elements, instead got {len(M)}\")\n",
    "            self.M = M\n",
    "        \n",
    "        if type(activation) is str or activation is None:\n",
    "            self.activation = [activation for i in range(num_hidden_layers-1)]\n",
    "        elif type(activation) is not list:\n",
    "            raise TypeError(f\"activation must be a list, string, or None, instead got {type(activation)}\")\n",
    "        else:\n",
    "            if len(activation) != num_hidden_layers-1:\n",
    "                raise ValueError(f\"If activation is a list, it must have num_hidden_layers-1 ({num_hidden_layers-1}) elements, instead got {len(activation)}\")\n",
    "            self.activation = activation\n",
    "        \n",
    "        #create hidden layers\n",
    "        self.layers.append(PCLayer(n_nodes=self.n_nodes[0]))\n",
    "        for i in range(1, num_hidden_layers): #create and connect the rest of the layers\n",
    "            self.layers.append(PCLayer(n_nodes=self.n_nodes[i]))\n",
    "            self.connections.append(PCConnection(self.layers[i-1], \n",
    "                                                 self.layers[i], \n",
    "                                                 learn=self.learn, \n",
    "                                                 symmetric=self.symmetric,\n",
    "                                                 M=self.M[i-1],\n",
    "                                                 tau_learn=self.tau_learn[i-1],\n",
    "                                                 activation=self.activation[i-1]))\n",
    "            \n",
    "    \n",
    "    def connect_input(self, stim):\n",
    "        \"\"\" (self, nengo.Node) -> ()\n",
    "        Connects the input (stimulus) layer to the first hidden layer of the network.\n",
    "        \"\"\"\n",
    "        D = stim.size_out #dimensionality of inputs to the the network\n",
    "        \n",
    "        if self.n_nodes[0] != D:\n",
    "            raise ValueError(\"Dimensionality of the input does not match the dimensionality of the first layer.\")\n",
    "        \n",
    "        stim_err = nengo.Node(lambda t,x: x[:D]+x[D:], size_in=2*D, size_out=D)  # sensory error\n",
    "        nengo.Connection(stim, stim_err[:D])                                 # stim -> stim_err\n",
    "        nengo.Connection(stim_err, self.layers[0].v.input)                   # stim_err -> first layer\n",
    "        nengo.Connection(self.layers[0].v.output, stim_err[D:], transform=-1) # stim_err <- first layer\n",
    "\n",
    "    \n",
    "\n",
    "    def connect_output(self, pred):\n",
    "        \"\"\" (self, nengo.Node, nengo.Node) -> ()\n",
    "        Connects the output (prediction) layer to the last hidden layer of the network.\n",
    "        \"\"\"\n",
    "        if self.n_nodes[-1] != pred.size_out:\n",
    "            raise ValueError(\"Dimensionality of the target does not match the dimensionality of the last layer.\")\n",
    "        \n",
    "        nengo.Connection(pred, self.layers[-1].e.input, transform=-1)         # pc2 <- pred\n",
    "    \n",
    "\n",
    "    def update_learning_rule(self, learning_rule):\n",
    "        \"\"\" (self, bool) -> ()\n",
    "        Changes the learning rule for each connection is self.connections to learning_rule\n",
    "        \"\"\"\n",
    "        for con in self.connections:\n",
    "            con.learn = learning_rule\n",
    "\n",
    "    \n",
    "    def get_probes(self):\n",
    "        \"\"\" (self) -> (list, list)\n",
    "        Returns a list of nengo.Probes to track each layers values and errors.\n",
    "\n",
    "        ##### NOT GREAT WHEN DIMENSIONALITY OF INPUT IS MORE THAN 1\n",
    "        \"\"\"\n",
    "        val_probes = []\n",
    "        err_probes = []\n",
    "        for idx, layer in enumerate(self.layers):\n",
    "            val_probes.append(nengo.Probe(layer.v.output, label=f\"Hidden Layer {idx} Value\"))\n",
    "            err_probes.append(nengo.Probe(layer.e.output, label=f\"Hidden Layer {idx} Error\"))\n",
    "        return val_probes, err_probes\n",
    "\n",
    "        "
   ]
  },
  {
   "cell_type": "code",
   "execution_count": 16,
   "id": "537d053f",
   "metadata": {},
   "outputs": [],
   "source": [
    "# same test as before but using the PCNetwork class\n",
    "n = 1\n",
    "with nengo.Network() as net:\n",
    "    tau = 0.001\n",
    "    #============== Run in Direct mode =======================\n",
    "    net.config[nengo.Ensemble].neuron_type = nengo.Direct()\n",
    "    #=========================================================\n",
    "    net.config[nengo.Connection].synapse = tau\n",
    "    net.config[nengo.Probe].synapse = 0.05\n",
    "    \n",
    "    # Inputs\n",
    "    stim = nengo.Node([1, 2])   # sensory (bottom layer)\n",
    "    pred = nengo.Node([0.5, 3])  # percept (top layer)\n",
    "\n",
    "    \n",
    "    # PC layers\n",
    "    PC_net = PCNetwork(3, learn=False, tau_learn=100, n_nodes=[2, 5, 2], symmetric=True)\n",
    "    PC_net.connect_input(stim=stim)\n",
    "    PC_net.connect_output(pred=pred)\n",
    "    '''\n",
    "     [     /-->         ] -W-> [      /-->       ] -W-> [      /-->       ]      [      ]\n",
    "     [ stim     stim_err]      [ pc1.v     pc1.e ]      [ pc2.v     pc2.e ]      [ pred ]\n",
    "     [                  ] <-M- [       <--/      ] <-M- [       <--/      ] <-M- [      ]\n",
    "    '''\n",
    "    \n",
    " \n",
    "    # Set up a bunch of probes (so we can plot stuff later)\n",
    "    p_stim = nengo.Probe(stim)\n",
    "    p_pc1v = nengo.Probe(PC_net.layers[0].v.output)\n",
    "    p_pc1e = nengo.Probe(PC_net.layers[0].e.output)\n",
    "    p_pc_end_v = nengo.Probe(PC_net.layers[-1].v.output)\n",
    "    p_pc_end_e = nengo.Probe(PC_net.layers[-1].e.output)\n",
    "    p_pred = nengo.Probe(pred)\n",
    "\n",
    "    val_probes, err_probes = PC_net.get_probes()"
   ]
  },
  {
   "cell_type": "code",
   "execution_count": 17,
   "id": "11176170",
   "metadata": {},
   "outputs": [
    {
     "data": {
      "application/vdom.v1+json": {
       "attributes": {},
       "tagName": "div"
      },
      "text/html": [
       "\n",
       "                <script>\n",
       "                    if (Jupyter.version.split(\".\")[0] < 5) {\n",
       "                        var pb = document.getElementById(\"443098f7-2c16-4b54-9941-8218c090aa56\");\n",
       "                        var text = document.createTextNode(\n",
       "                            \"HMTL progress bar requires Jupyter Notebook >= \" +\n",
       "                            \"5.0 or Jupyter Lab. Alternatively, you can use \" +\n",
       "                            \"TerminalProgressBar().\");\n",
       "                        pb.parentNode.insertBefore(text, pb);\n",
       "                    }\n",
       "                </script>\n",
       "                <div id=\"443098f7-2c16-4b54-9941-8218c090aa56\" style=\"\n",
       "                    width: 100%;\n",
       "                    border: 1px solid #cfcfcf;\n",
       "                    border-radius: 4px;\n",
       "                    text-align: center;\n",
       "                    position: relative;\">\n",
       "                  <div class=\"pb-text\" style=\"\n",
       "                      position: absolute;\n",
       "                      width: 100%;\">\n",
       "                    0%\n",
       "                  </div>\n",
       "                  <div class=\"pb-fill\" style=\"\n",
       "                      background-color: #bdd2e6;\n",
       "                      width: 0%;\">\n",
       "                    <style type=\"text/css\" scoped=\"scoped\">\n",
       "                        @keyframes pb-fill-anim {\n",
       "                            0% { background-position: 0 0; }\n",
       "                            100% { background-position: 100px 0; }\n",
       "                        }\n",
       "                    </style>\n",
       "                    &nbsp;\n",
       "                  </div>\n",
       "                </div>"
      ],
      "text/plain": [
       "HtmlProgressBar cannot be displayed. Please use the TerminalProgressBar. It can be enabled with `nengo.rc['progress']['progress_bar'] = 'nengo.utils.progress.TerminalProgressBar'`."
      ]
     },
     "metadata": {},
     "output_type": "display_data"
    },
    {
     "data": {
      "application/vdom.v1+json": {
       "attributes": {
        "id": "e469edd4-b7f3-4d27-95d0-7eb75730b38d",
        "style": {
         "border": "1px solid #cfcfcf",
         "borderRadius": "4px",
         "boxSizing": "border-box",
         "position": "relative",
         "textAlign": "center",
         "width": "100%"
        }
       },
       "children": [
        {
         "attributes": {
          "class": "pb-text",
          "style": {
           "position": "absolute",
           "width": "100%"
          }
         },
         "children": [
          "Build finished in 0:00:01."
         ],
         "tagName": "div"
        },
        {
         "attributes": {
          "class": "pb-fill",
          "style": {
           "animation": "none",
           "backgroundColor": "#bdd2e6",
           "backgroundImage": "none",
           "backgroundSize": "100px 100%",
           "width": "100%"
          }
         },
         "children": [
          {
           "attributes": {
            "scoped": "scoped",
            "type": "text/css"
           },
           "children": [
            "\n                        @keyframes pb-fill-anim {\n                            0% { background-position: 0 0; }\n                            100% { background-position: 100px 0; }\n                        }}"
           ],
           "tagName": "style"
          },
          " "
         ],
         "tagName": "div"
        }
       ],
       "tagName": "div"
      },
      "text/html": [
       "<script>\n",
       "              (function () {\n",
       "                  var root = document.getElementById('443098f7-2c16-4b54-9941-8218c090aa56');\n",
       "                  var text = root.getElementsByClassName('pb-text')[0];\n",
       "                  var fill = root.getElementsByClassName('pb-fill')[0];\n",
       "\n",
       "                  text.innerHTML = 'Build finished in 0:00:01.';\n",
       "                  \n",
       "            fill.style.width = '100%';\n",
       "            fill.style.animation = 'pb-fill-anim 2s linear infinite';\n",
       "            fill.style.backgroundSize = '100px 100%';\n",
       "            fill.style.backgroundImage = 'repeating-linear-gradient(' +\n",
       "                '90deg, #bdd2e6, #edf2f8 40%, #bdd2e6 80%, #bdd2e6)';\n",
       "        \n",
       "                  \n",
       "                fill.style.animation = 'none';\n",
       "                fill.style.backgroundImage = 'none';\n",
       "            \n",
       "              })();\n",
       "        </script>"
      ]
     },
     "metadata": {},
     "output_type": "display_data"
    }
   ],
   "source": [
    "sim = nengo.Simulator(net)"
   ]
  },
  {
   "cell_type": "code",
   "execution_count": 18,
   "id": "1d8d620c",
   "metadata": {},
   "outputs": [],
   "source": [
    "INFERENCE = False"
   ]
  },
  {
   "cell_type": "code",
   "execution_count": 19,
   "id": "7ff5b6b7",
   "metadata": {},
   "outputs": [
    {
     "data": {
      "application/vdom.v1+json": {
       "attributes": {},
       "tagName": "div"
      },
      "text/html": [
       "\n",
       "                <script>\n",
       "                    if (Jupyter.version.split(\".\")[0] < 5) {\n",
       "                        var pb = document.getElementById(\"f150d638-7945-4687-b766-f9a0ac08b37d\");\n",
       "                        var text = document.createTextNode(\n",
       "                            \"HMTL progress bar requires Jupyter Notebook >= \" +\n",
       "                            \"5.0 or Jupyter Lab. Alternatively, you can use \" +\n",
       "                            \"TerminalProgressBar().\");\n",
       "                        pb.parentNode.insertBefore(text, pb);\n",
       "                    }\n",
       "                </script>\n",
       "                <div id=\"f150d638-7945-4687-b766-f9a0ac08b37d\" style=\"\n",
       "                    width: 100%;\n",
       "                    border: 1px solid #cfcfcf;\n",
       "                    border-radius: 4px;\n",
       "                    text-align: center;\n",
       "                    position: relative;\">\n",
       "                  <div class=\"pb-text\" style=\"\n",
       "                      position: absolute;\n",
       "                      width: 100%;\">\n",
       "                    0%\n",
       "                  </div>\n",
       "                  <div class=\"pb-fill\" style=\"\n",
       "                      background-color: #bdd2e6;\n",
       "                      width: 0%;\">\n",
       "                    <style type=\"text/css\" scoped=\"scoped\">\n",
       "                        @keyframes pb-fill-anim {\n",
       "                            0% { background-position: 0 0; }\n",
       "                            100% { background-position: 100px 0; }\n",
       "                        }\n",
       "                    </style>\n",
       "                    &nbsp;\n",
       "                  </div>\n",
       "                </div>"
      ],
      "text/plain": [
       "HtmlProgressBar cannot be displayed. Please use the TerminalProgressBar. It can be enabled with `nengo.rc['progress']['progress_bar'] = 'nengo.utils.progress.TerminalProgressBar'`."
      ]
     },
     "metadata": {},
     "output_type": "display_data"
    },
    {
     "data": {
      "application/vdom.v1+json": {
       "attributes": {
        "id": "5d87cde0-3e3f-498b-b94b-1c1e43782d68",
        "style": {
         "border": "1px solid #cfcfcf",
         "borderRadius": "4px",
         "boxSizing": "border-box",
         "position": "relative",
         "textAlign": "center",
         "width": "100%"
        }
       },
       "children": [
        {
         "attributes": {
          "class": "pb-text",
          "style": {
           "position": "absolute",
           "width": "100%"
          }
         },
         "children": [
          "Simulation finished in 0:00:01."
         ],
         "tagName": "div"
        },
        {
         "attributes": {
          "class": "pb-fill",
          "style": {
           "animation": "none",
           "backgroundColor": "#bdd2e6",
           "backgroundImage": "none",
           "transition": "width 0.1s linear",
           "width": "100%"
          }
         },
         "children": [
          {
           "attributes": {
            "scoped": "scoped",
            "type": "text/css"
           },
           "children": [
            "\n                        @keyframes pb-fill-anim {\n                            0% { background-position: 0 0; }\n                            100% { background-position: 100px 0; }\n                        }}"
           ],
           "tagName": "style"
          },
          " "
         ],
         "tagName": "div"
        }
       ],
       "tagName": "div"
      },
      "text/html": [
       "<script>\n",
       "              (function () {\n",
       "                  var root = document.getElementById('f150d638-7945-4687-b766-f9a0ac08b37d');\n",
       "                  var text = root.getElementsByClassName('pb-text')[0];\n",
       "                  var fill = root.getElementsByClassName('pb-fill')[0];\n",
       "\n",
       "                  text.innerHTML = 'Simulation finished in 0:00:01.';\n",
       "                  \n",
       "            if (100.0 > 0.) {\n",
       "                fill.style.transition = 'width 0.1s linear';\n",
       "            } else {\n",
       "                fill.style.transition = 'none';\n",
       "            }\n",
       "\n",
       "            fill.style.width = '100.0%';\n",
       "            fill.style.animation = 'none';\n",
       "            fill.style.backgroundImage = 'none'\n",
       "        \n",
       "                  \n",
       "                fill.style.animation = 'none';\n",
       "                fill.style.backgroundImage = 'none';\n",
       "            \n",
       "              })();\n",
       "        </script>"
      ]
     },
     "metadata": {},
     "output_type": "display_data"
    }
   ],
   "source": [
    "sim.run(1.)"
   ]
  },
  {
   "cell_type": "code",
   "execution_count": 20,
   "id": "4261e647",
   "metadata": {},
   "outputs": [
    {
     "data": {
      "image/png": "[encoded data removed]",
      "text/plain": [
       "<Figure size 640x480 with 2 Axes>"
      ]
     },
     "metadata": {},
     "output_type": "display_data"
    }
   ],
   "source": [
    "fig, ax = plt.subplots(nrows=1, ncols=2)\n",
    "\n",
    "ax[0].plot(sim.trange(), sim.data[p_pc1v]);\n",
    "ax[1].plot(sim.trange(), sim.data[p_pc1e]);\n",
    "ax[0].plot(sim.trange(), sim.data[p_pc_end_v]);\n",
    "ax[1].plot(sim.trange(), sim.data[p_pc_end_e]);\n",
    "ax[0].plot(sim.trange(), sim.data[p_stim], ':');\n",
    "ax[0].plot(sim.trange(), sim.data[p_pred], \"--\");\n",
    "ax[0].legend(['pc1_v[0]', 'pc1_v[1]', 'pc2_v[0]', 'pc2_v[1]', 'stim[0]', 'stim[1]', 'pred[0]', 'pred[1]'],\n",
    "             loc='upper right', bbox_to_anchor=(1, 1.5));\n",
    "ax[1].legend(['pc1_e[0]', 'pc1_e[1]', 'pc2_e[0]', 'pc2_e[1]'],\n",
    "             loc='upper left', bbox_to_anchor=(0.6, 1.2));"
   ]
  },
  {
   "cell_type": "code",
   "execution_count": 21,
   "id": "e129ef6d",
   "metadata": {},
   "outputs": [],
   "source": [
    "PC_net.update_learning_rule(True)"
   ]
  },
  {
   "cell_type": "code",
   "execution_count": 22,
   "id": "77fa7ec3",
   "metadata": {},
   "outputs": [
    {
     "data": {
      "application/vdom.v1+json": {
       "attributes": {},
       "tagName": "div"
      },
      "text/html": [
       "\n",
       "                <script>\n",
       "                    if (Jupyter.version.split(\".\")[0] < 5) {\n",
       "                        var pb = document.getElementById(\"9ab08c80-6ba9-4f6c-bebd-e803a8b6681c\");\n",
       "                        var text = document.createTextNode(\n",
       "                            \"HMTL progress bar requires Jupyter Notebook >= \" +\n",
       "                            \"5.0 or Jupyter Lab. Alternatively, you can use \" +\n",
       "                            \"TerminalProgressBar().\");\n",
       "                        pb.parentNode.insertBefore(text, pb);\n",
       "                    }\n",
       "                </script>\n",
       "                <div id=\"9ab08c80-6ba9-4f6c-bebd-e803a8b6681c\" style=\"\n",
       "                    width: 100%;\n",
       "                    border: 1px solid #cfcfcf;\n",
       "                    border-radius: 4px;\n",
       "                    text-align: center;\n",
       "                    position: relative;\">\n",
       "                  <div class=\"pb-text\" style=\"\n",
       "                      position: absolute;\n",
       "                      width: 100%;\">\n",
       "                    0%\n",
       "                  </div>\n",
       "                  <div class=\"pb-fill\" style=\"\n",
       "                      background-color: #bdd2e6;\n",
       "                      width: 0%;\">\n",
       "                    <style type=\"text/css\" scoped=\"scoped\">\n",
       "                        @keyframes pb-fill-anim {\n",
       "                            0% { background-position: 0 0; }\n",
       "                            100% { background-position: 100px 0; }\n",
       "                        }\n",
       "                    </style>\n",
       "                    &nbsp;\n",
       "                  </div>\n",
       "                </div>"
      ],
      "text/plain": [
       "HtmlProgressBar cannot be displayed. Please use the TerminalProgressBar. It can be enabled with `nengo.rc['progress']['progress_bar'] = 'nengo.utils.progress.TerminalProgressBar'`."
      ]
     },
     "metadata": {},
     "output_type": "display_data"
    },
    {
     "data": {
      "application/vdom.v1+json": {
       "attributes": {
        "id": "47719aa0-a39b-4af4-97ac-4954863d78a6",
        "style": {
         "border": "1px solid #cfcfcf",
         "borderRadius": "4px",
         "boxSizing": "border-box",
         "position": "relative",
         "textAlign": "center",
         "width": "100%"
        }
       },
       "children": [
        {
         "attributes": {
          "class": "pb-text",
          "style": {
           "position": "absolute",
           "width": "100%"
          }
         },
         "children": [
          "Simulation finished in 0:00:01."
         ],
         "tagName": "div"
        },
        {
         "attributes": {
          "class": "pb-fill",
          "style": {
           "animation": "none",
           "backgroundColor": "#bdd2e6",
           "backgroundImage": "none",
           "transition": "width 0.1s linear",
           "width": "100%"
          }
         },
         "children": [
          {
           "attributes": {
            "scoped": "scoped",
            "type": "text/css"
           },
           "children": [
            "\n                        @keyframes pb-fill-anim {\n                            0% { background-position: 0 0; }\n                            100% { background-position: 100px 0; }\n                        }}"
           ],
           "tagName": "style"
          },
          " "
         ],
         "tagName": "div"
        }
       ],
       "tagName": "div"
      },
      "text/html": [
       "<script>\n",
       "              (function () {\n",
       "                  var root = document.getElementById('9ab08c80-6ba9-4f6c-bebd-e803a8b6681c');\n",
       "                  var text = root.getElementsByClassName('pb-text')[0];\n",
       "                  var fill = root.getElementsByClassName('pb-fill')[0];\n",
       "\n",
       "                  text.innerHTML = 'Simulation finished in 0:00:01.';\n",
       "                  \n",
       "            if (100.0 > 0.) {\n",
       "                fill.style.transition = 'width 0.1s linear';\n",
       "            } else {\n",
       "                fill.style.transition = 'none';\n",
       "            }\n",
       "\n",
       "            fill.style.width = '100.0%';\n",
       "            fill.style.animation = 'none';\n",
       "            fill.style.backgroundImage = 'none'\n",
       "        \n",
       "                  \n",
       "                fill.style.animation = 'none';\n",
       "                fill.style.backgroundImage = 'none';\n",
       "            \n",
       "              })();\n",
       "        </script>"
      ]
     },
     "metadata": {},
     "output_type": "display_data"
    }
   ],
   "source": [
    "sim.run(1.)"
   ]
  },
  {
   "cell_type": "code",
   "execution_count": 23,
   "id": "f434edc8",
   "metadata": {},
   "outputs": [
    {
     "data": {
      "image/png": "[encoded data removed]",
      "text/plain": [
       "<Figure size 640x480 with 2 Axes>"
      ]
     },
     "metadata": {},
     "output_type": "display_data"
    }
   ],
   "source": [
    "fig, ax = plt.subplots(nrows=1, ncols=2)\n",
    "\n",
    "ax[0].plot(sim.trange(), sim.data[p_pc1v]);\n",
    "ax[1].plot(sim.trange(), sim.data[p_pc1e]);\n",
    "ax[0].plot(sim.trange(), sim.data[p_pc_end_v]);\n",
    "ax[1].plot(sim.trange(), sim.data[p_pc_end_e]);\n",
    "ax[0].plot(sim.trange(), sim.data[p_stim], ':');\n",
    "ax[0].plot(sim.trange(), sim.data[p_pred], \"--\");\n",
    "ax[0].legend(['pc1_v[0]', 'pc1_v[1]', 'pc2_v[0]', 'pc2_v[1]', 'stim[0]', 'stim[1]', 'pred[0]', 'pred[1]'],\n",
    "             loc='upper right', bbox_to_anchor=(1, 1.5));\n",
    "ax[1].legend(['pc1_e[0]', 'pc1_e[1]', 'pc2_e[0]', 'pc2_e[1]'],\n",
    "             loc='upper left', bbox_to_anchor=(0.6, 1.2));"
   ]
  },
  {
   "cell_type": "code",
   "execution_count": 24,
   "id": "c8b9a4b7",
   "metadata": {},
   "outputs": [],
   "source": [
    "INFERENCE = True"
   ]
  },
  {
   "cell_type": "code",
   "execution_count": 25,
   "id": "8de802a3",
   "metadata": {},
   "outputs": [],
   "source": [
    "PC_net.update_learning_rule(False)"
   ]
  },
  {
   "cell_type": "code",
   "execution_count": 26,
   "id": "fe75e5a4",
   "metadata": {},
   "outputs": [
    {
     "data": {
      "application/vdom.v1+json": {
       "attributes": {},
       "tagName": "div"
      },
      "text/html": [
       "\n",
       "                <script>\n",
       "                    if (Jupyter.version.split(\".\")[0] < 5) {\n",
       "                        var pb = document.getElementById(\"fe6b9370-a9a6-40d1-9842-4f63bfb25e86\");\n",
       "                        var text = document.createTextNode(\n",
       "                            \"HMTL progress bar requires Jupyter Notebook >= \" +\n",
       "                            \"5.0 or Jupyter Lab. Alternatively, you can use \" +\n",
       "                            \"TerminalProgressBar().\");\n",
       "                        pb.parentNode.insertBefore(text, pb);\n",
       "                    }\n",
       "                </script>\n",
       "                <div id=\"fe6b9370-a9a6-40d1-9842-4f63bfb25e86\" style=\"\n",
       "                    width: 100%;\n",
       "                    border: 1px solid #cfcfcf;\n",
       "                    border-radius: 4px;\n",
       "                    text-align: center;\n",
       "                    position: relative;\">\n",
       "                  <div class=\"pb-text\" style=\"\n",
       "                      position: absolute;\n",
       "                      width: 100%;\">\n",
       "                    0%\n",
       "                  </div>\n",
       "                  <div class=\"pb-fill\" style=\"\n",
       "                      background-color: #bdd2e6;\n",
       "                      width: 0%;\">\n",
       "                    <style type=\"text/css\" scoped=\"scoped\">\n",
       "                        @keyframes pb-fill-anim {\n",
       "                            0% { background-position: 0 0; }\n",
       "                            100% { background-position: 100px 0; }\n",
       "                        }\n",
       "                    </style>\n",
       "                    &nbsp;\n",
       "                  </div>\n",
       "                </div>"
      ],
      "text/plain": [
       "HtmlProgressBar cannot be displayed. Please use the TerminalProgressBar. It can be enabled with `nengo.rc['progress']['progress_bar'] = 'nengo.utils.progress.TerminalProgressBar'`."
      ]
     },
     "metadata": {},
     "output_type": "display_data"
    },
    {
     "data": {
      "application/vdom.v1+json": {
       "attributes": {
        "id": "342dc6ec-cbf8-4532-83a7-2c8fa1f60c29",
        "style": {
         "border": "1px solid #cfcfcf",
         "borderRadius": "4px",
         "boxSizing": "border-box",
         "position": "relative",
         "textAlign": "center",
         "width": "100%"
        }
       },
       "children": [
        {
         "attributes": {
          "class": "pb-text",
          "style": {
           "position": "absolute",
           "width": "100%"
          }
         },
         "children": [
          "Simulation finished in 0:00:01."
         ],
         "tagName": "div"
        },
        {
         "attributes": {
          "class": "pb-fill",
          "style": {
           "animation": "none",
           "backgroundColor": "#bdd2e6",
           "backgroundImage": "none",
           "transition": "width 0.1s linear",
           "width": "100%"
          }
         },
         "children": [
          {
           "attributes": {
            "scoped": "scoped",
            "type": "text/css"
           },
           "children": [
            "\n                        @keyframes pb-fill-anim {\n                            0% { background-position: 0 0; }\n                            100% { background-position: 100px 0; }\n                        }}"
           ],
           "tagName": "style"
          },
          " "
         ],
         "tagName": "div"
        }
       ],
       "tagName": "div"
      },
      "text/html": [
       "<script>\n",
       "              (function () {\n",
       "                  var root = document.getElementById('fe6b9370-a9a6-40d1-9842-4f63bfb25e86');\n",
       "                  var text = root.getElementsByClassName('pb-text')[0];\n",
       "                  var fill = root.getElementsByClassName('pb-fill')[0];\n",
       "\n",
       "                  text.innerHTML = 'Simulation finished in 0:00:01.';\n",
       "                  \n",
       "            if (100.0 > 0.) {\n",
       "                fill.style.transition = 'width 0.1s linear';\n",
       "            } else {\n",
       "                fill.style.transition = 'none';\n",
       "            }\n",
       "\n",
       "            fill.style.width = '100.0%';\n",
       "            fill.style.animation = 'none';\n",
       "            fill.style.backgroundImage = 'none'\n",
       "        \n",
       "                  \n",
       "                fill.style.animation = 'none';\n",
       "                fill.style.backgroundImage = 'none';\n",
       "            \n",
       "              })();\n",
       "        </script>"
      ]
     },
     "metadata": {},
     "output_type": "display_data"
    }
   ],
   "source": [
    "sim.run(1.)"
   ]
  },
  {
   "cell_type": "code",
   "execution_count": 27,
   "id": "62b9154b",
   "metadata": {},
   "outputs": [
    {
     "data": {
      "image/png": "[encoded data removed]",
      "text/plain": [
       "<Figure size 640x480 with 2 Axes>"
      ]
     },
     "metadata": {},
     "output_type": "display_data"
    }
   ],
   "source": [
    "fig, ax = plt.subplots(nrows=1, ncols=2)\n",
    "\n",
    "ax[0].plot(sim.trange(), sim.data[p_pc1v]);\n",
    "ax[1].plot(sim.trange(), sim.data[p_pc1e]);\n",
    "ax[0].plot(sim.trange(), sim.data[p_pc_end_v]);\n",
    "ax[1].plot(sim.trange(), sim.data[p_pc_end_e]);\n",
    "ax[0].plot(sim.trange(), sim.data[p_stim], ':');\n",
    "ax[0].plot(sim.trange(), sim.data[p_pred], \"--\");\n",
    "ax[0].legend(['pc1_v[0]', 'pc1_v[1]', 'pc2_v[0]', 'pc2_v[1]', 'stim[0]', 'stim[1]', 'pred[0]', 'pred[1]'],\n",
    "             loc='upper right', bbox_to_anchor=(1, 1.5));\n",
    "ax[1].legend(['pc1_e[0]', 'pc1_e[1]', 'pc2_e[0]', 'pc2_e[1]'],\n",
    "             loc='upper left', bbox_to_anchor=(0.6, 1.2));"
   ]
  },
  {
   "cell_type": "markdown",
   "id": "731fddcd",
   "metadata": {},
   "source": [
    "# Learning Multiple Inputs\n",
    "\n",
    "Given a dataset (X, Y), we want to create two dictionaries that we can pass into a nengo.processes.Piecewise object. This means that the keys must be numbers specifying the time at which to start outputting the corresponding values. The first dictionary will hold the input data, X, and the second will hold the targets, Y. We should be able to specify:\n",
    "* The number of epochs to go over the dataset\n",
    "* The amount of time to spend at each datapoint, subdivided into the amount of time spent stabilizing and the amount of time spent learning\n",
    "\n",
    "What do we do about inference? Here we run into the same problem as we did with the prediction layer. We already have a node connected to the input layer giving inputs. We need to change these inputs if we want to do inference on other objects we have not seen yet. "
   ]
  },
  {
   "cell_type": "code",
   "execution_count": 28,
   "id": "cdd00fa7",
   "metadata": {},
   "outputs": [],
   "source": [
    "def create_learning_inputs(X, Y, epochs, stabilize_time, learn_time, shuffle=True):\n",
    "    \"\"\" (np.array, np.array, int, num, num) -> (dict, dict, num)\n",
    "\n",
    "    X                   Numpy array, datapoints to use as sensory input. Each row is a datapoint, the columns are features.\n",
    "    Y                   Numpy array, targets for perception corresponding to each datapoint. Each row is a given observation's target.\n",
    "    epochs              Int, the number of times to run through the dataset.\n",
    "    stablize_time       Num, the amount of simulation time to spend at each datapoint without learning.\n",
    "    learn_time          Num, the amount of simulation time to spend at each datapoint with learning.\n",
    "    shuffle             Boolean, whether or not to shuffle the dataset at each epoch. Defaults to True.\n",
    "\n",
    "    Returns\n",
    "    x_dict              Dict, contains the data inputs.\n",
    "    y_dict              Dict, contains the target vectors.\n",
    "    t                   Num, the total simulation time for learning.\n",
    "    \"\"\"\n",
    "    #our dictionaries to return\n",
    "    x_dict = {}\n",
    "    y_dict = {}\n",
    "\n",
    "    #size of the dataset\n",
    "    if len(X.shape) == 1:\n",
    "        num_points = X.shape[0]\n",
    "        num_features = 1\n",
    "    else:\n",
    "        num_points, num_features = X.shape\n",
    "    #the size of the targets\n",
    "    if len(Y.shape) == 1: #one-dimensional ouputs\n",
    "        target_dimensions = 1 \n",
    "    else:\n",
    "        target_dimensions = Y.shape[1] \n",
    "\n",
    "    t = 0 #keep track of the simulation time\n",
    "    point_time = stabilize_time + learn_time #the total amount of time to spend at one point\n",
    "\n",
    "    indices = np.arange(num_points) #the indices of the datapoints\n",
    "\n",
    "    for e in range(epochs):\n",
    "        if shuffle: #shuffle the dataset each epoch\n",
    "            np.random.shuffle(indices)\n",
    "        for i in indices:\n",
    "            if num_features == 1:\n",
    "                x_dict[t] = X[i]\n",
    "            else:\n",
    "                x_dict[t] = X[i,:]\n",
    "            if target_dimensions == 1:\n",
    "                y_dict[t] = Y[i]\n",
    "            else:\n",
    "                y_dict[t] = Y[i,:]\n",
    "            \n",
    "            t += point_time #increment the time step\n",
    "    \n",
    "    return x_dict, y_dict, t"
   ]
  },
  {
   "cell_type": "code",
   "execution_count": 29,
   "id": "3c6c21f5",
   "metadata": {},
   "outputs": [],
   "source": [
    "def train_network(sim, pc_net, stabilize_time, learn_time, t):\n",
    "    \"\"\" (nengo.Simulator, PCNetwork, num, num, num) -> ()\n",
    "\n",
    "    pc_net              PCNetwork, the network we wish to train.\n",
    "    sim                 nengo.Simulator, the simulator created using the network we wish to train.\n",
    "    stablize_time       Num, the amount of simulation time to spend at each datapoint without learning.\n",
    "    learn_time          Num, the amount of simulation time to spend at each datapoint with learning.\n",
    "    t                   Num, the total simulation time.\n",
    "    \"\"\"\n",
    "    time = 0 #keep track of current time\n",
    "\n",
    "    while time < t:\n",
    "        pc_net.update_learning_rule(False)\n",
    "        sim.run(stabilize_time)\n",
    "        pc_net.update_learning_rule(True)\n",
    "        sim.run(learn_time) \n",
    "        \n",
    "        time += stabilize_time + learn_time\n",
    "    \n",
    "    pc_net.update_learning_rule(False) #set the network to not learn anymore"
   ]
  },
  {
   "cell_type": "code",
   "execution_count": 30,
   "id": "e2cd4d1f",
   "metadata": {},
   "outputs": [],
   "source": [
    "# Using PCNetwork class\n",
    "n = 1\n",
    "with nengo.Network() as net:\n",
    "    tau = 0.001\n",
    "    #============== Run in Direct mode =======================\n",
    "    net.config[nengo.Ensemble].neuron_type = nengo.Direct()\n",
    "    #=========================================================\n",
    "    net.config[nengo.Connection].synapse = tau\n",
    "    net.config[nengo.Probe].synapse = 0.05\n",
    "    \n",
    "    # Inputs\n",
    "    D = 2\n",
    "    stab = 1.\n",
    "    learn = 1.5\n",
    "    x_data = np.array([[1, 0.5],[1.5, 2]])\n",
    "    y_data = np.array([[0.25, 0.8], [-1, 0]])\n",
    "    x_input, y_input, t = create_learning_inputs(x_data, y_data, 2, stab, learn, shuffle=True)\n",
    "    #hardcode the inference phase\n",
    "    x_input[t] = [1, 0.5]\n",
    "    x_input[t+2] = [1.5, 2]\n",
    "    y_input[t] = [0.25, 0.8]\n",
    "    y_input[t+2] = [-1, 0]\n",
    "    \n",
    "    stim = nengo.Node(nengo.processes.Piecewise(x_input))   # sensory (bottom layer)\n",
    "    INFERENCE = False\n",
    "    pred = nengo.Node(nengo.processes.Piecewise(y_input))  # percept (top layer)\n",
    "    \n",
    "    # PC layers\n",
    "    PC_net = PCNetwork(3, learn=False, tau_learn=100, n_nodes=[2, 5, 2], symmetric=True, activation=\"logistic\")\n",
    "    PC_net.connect_input(stim=stim)\n",
    "    PC_net.connect_output(pred=pred)\n",
    "    '''\n",
    "     [     /-->         ] -W-> [      /-->       ] -W-> [      /-->       ]      [      ]\n",
    "     [ stim     stim_err]      [ pc1.v     pc1.e ]      [ pc2.v     pc2.e ]      [ pred ]\n",
    "     [                  ] <-M- [       <--/      ] <-M- [       <--/      ] <-M- [      ]\n",
    "    '''\n",
    "    \n",
    " \n",
    "    # Set up a bunch of probes (so we can plot stuff later)\n",
    "    p_stim = nengo.Probe(stim)\n",
    "    p_pc1v = nengo.Probe(PC_net.layers[0].v.output)\n",
    "    p_pc1e = nengo.Probe(PC_net.layers[0].e.output)\n",
    "    p_pc_end_v = nengo.Probe(PC_net.layers[-1].v.output)\n",
    "    p_pc_end_e = nengo.Probe(PC_net.layers[-1].e.output)\n",
    "    p_pred = nengo.Probe(pred)\n",
    "\n",
    "    val_probes, err_probes = PC_net.get_probes()"
   ]
  },
  {
   "cell_type": "code",
   "execution_count": 31,
   "id": "20d4eff8",
   "metadata": {},
   "outputs": [
    {
     "data": {
      "application/vdom.v1+json": {
       "attributes": {},
       "tagName": "div"
      },
      "text/html": [
       "\n",
       "                <script>\n",
       "                    if (Jupyter.version.split(\".\")[0] < 5) {\n",
       "                        var pb = document.getElementById(\"a86ce602-f7c3-4b04-acdb-8c8477044f4b\");\n",
       "                        var text = document.createTextNode(\n",
       "                            \"HMTL progress bar requires Jupyter Notebook >= \" +\n",
       "                            \"5.0 or Jupyter Lab. Alternatively, you can use \" +\n",
       "                            \"TerminalProgressBar().\");\n",
       "                        pb.parentNode.insertBefore(text, pb);\n",
       "                    }\n",
       "                </script>\n",
       "                <div id=\"a86ce602-f7c3-4b04-acdb-8c8477044f4b\" style=\"\n",
       "                    width: 100%;\n",
       "                    border: 1px solid #cfcfcf;\n",
       "                    border-radius: 4px;\n",
       "                    text-align: center;\n",
       "                    position: relative;\">\n",
       "                  <div class=\"pb-text\" style=\"\n",
       "                      position: absolute;\n",
       "                      width: 100%;\">\n",
       "                    0%\n",
       "                  </div>\n",
       "                  <div class=\"pb-fill\" style=\"\n",
       "                      background-color: #bdd2e6;\n",
       "                      width: 0%;\">\n",
       "                    <style type=\"text/css\" scoped=\"scoped\">\n",
       "                        @keyframes pb-fill-anim {\n",
       "                            0% { background-position: 0 0; }\n",
       "                            100% { background-position: 100px 0; }\n",
       "                        }\n",
       "                    </style>\n",
       "                    &nbsp;\n",
       "                  </div>\n",
       "                </div>"
      ],
      "text/plain": [
       "HtmlProgressBar cannot be displayed. Please use the TerminalProgressBar. It can be enabled with `nengo.rc['progress']['progress_bar'] = 'nengo.utils.progress.TerminalProgressBar'`."
      ]
     },
     "metadata": {},
     "output_type": "display_data"
    },
    {
     "data": {
      "application/vdom.v1+json": {
       "attributes": {
        "id": "aa1152e8-a6ec-40ec-9788-1742623304e0",
        "style": {
         "border": "1px solid #cfcfcf",
         "borderRadius": "4px",
         "boxSizing": "border-box",
         "position": "relative",
         "textAlign": "center",
         "width": "100%"
        }
       },
       "children": [
        {
         "attributes": {
          "class": "pb-text",
          "style": {
           "position": "absolute",
           "width": "100%"
          }
         },
         "children": [
          "Build finished in 0:00:01."
         ],
         "tagName": "div"
        },
        {
         "attributes": {
          "class": "pb-fill",
          "style": {
           "animation": "none",
           "backgroundColor": "#bdd2e6",
           "backgroundImage": "none",
           "backgroundSize": "100px 100%",
           "width": "100%"
          }
         },
         "children": [
          {
           "attributes": {
            "scoped": "scoped",
            "type": "text/css"
           },
           "children": [
            "\n                        @keyframes pb-fill-anim {\n                            0% { background-position: 0 0; }\n                            100% { background-position: 100px 0; }\n                        }}"
           ],
           "tagName": "style"
          },
          " "
         ],
         "tagName": "div"
        }
       ],
       "tagName": "div"
      },
      "text/html": [
       "<script>\n",
       "              (function () {\n",
       "                  var root = document.getElementById('a86ce602-f7c3-4b04-acdb-8c8477044f4b');\n",
       "                  var text = root.getElementsByClassName('pb-text')[0];\n",
       "                  var fill = root.getElementsByClassName('pb-fill')[0];\n",
       "\n",
       "                  text.innerHTML = 'Build finished in 0:00:01.';\n",
       "                  \n",
       "            fill.style.width = '100%';\n",
       "            fill.style.animation = 'pb-fill-anim 2s linear infinite';\n",
       "            fill.style.backgroundSize = '100px 100%';\n",
       "            fill.style.backgroundImage = 'repeating-linear-gradient(' +\n",
       "                '90deg, #bdd2e6, #edf2f8 40%, #bdd2e6 80%, #bdd2e6)';\n",
       "        \n",
       "                  \n",
       "                fill.style.animation = 'none';\n",
       "                fill.style.backgroundImage = 'none';\n",
       "            \n",
       "              })();\n",
       "        </script>"
      ]
     },
     "metadata": {},
     "output_type": "display_data"
    }
   ],
   "source": [
    "sim = nengo.Simulator(net)"
   ]
  },
  {
   "cell_type": "code",
   "execution_count": 32,
   "id": "507c4a1a",
   "metadata": {},
   "outputs": [
    {
     "data": {
      "application/vdom.v1+json": {
       "attributes": {},
       "tagName": "div"
      },
      "text/html": [
       "\n",
       "                <script>\n",
       "                    if (Jupyter.version.split(\".\")[0] < 5) {\n",
       "                        var pb = document.getElementById(\"07d118b8-5d78-4c5d-be16-92dccac33c46\");\n",
       "                        var text = document.createTextNode(\n",
       "                            \"HMTL progress bar requires Jupyter Notebook >= \" +\n",
       "                            \"5.0 or Jupyter Lab. Alternatively, you can use \" +\n",
       "                            \"TerminalProgressBar().\");\n",
       "                        pb.parentNode.insertBefore(text, pb);\n",
       "                    }\n",
       "                </script>\n",
       "                <div id=\"07d118b8-5d78-4c5d-be16-92dccac33c46\" style=\"\n",
       "                    width: 100%;\n",
       "                    border: 1px solid #cfcfcf;\n",
       "                    border-radius: 4px;\n",
       "                    text-align: center;\n",
       "                    position: relative;\">\n",
       "                  <div class=\"pb-text\" style=\"\n",
       "                      position: absolute;\n",
       "                      width: 100%;\">\n",
       "                    0%\n",
       "                  </div>\n",
       "                  <div class=\"pb-fill\" style=\"\n",
       "                      background-color: #bdd2e6;\n",
       "                      width: 0%;\">\n",
       "                    <style type=\"text/css\" scoped=\"scoped\">\n",
       "                        @keyframes pb-fill-anim {\n",
       "                            0% { background-position: 0 0; }\n",
       "                            100% { background-position: 100px 0; }\n",
       "                        }\n",
       "                    </style>\n",
       "                    &nbsp;\n",
       "                  </div>\n",
       "                </div>"
      ],
      "text/plain": [
       "HtmlProgressBar cannot be displayed. Please use the TerminalProgressBar. It can be enabled with `nengo.rc['progress']['progress_bar'] = 'nengo.utils.progress.TerminalProgressBar'`."
      ]
     },
     "metadata": {},
     "output_type": "display_data"
    },
    {
     "data": {
      "application/vdom.v1+json": {
       "attributes": {
        "id": "886d6a07-6893-4e7a-ab62-a61e1f8573c6",
        "style": {
         "border": "1px solid #cfcfcf",
         "borderRadius": "4px",
         "boxSizing": "border-box",
         "position": "relative",
         "textAlign": "center",
         "width": "100%"
        }
       },
       "children": [
        {
         "attributes": {
          "class": "pb-text",
          "style": {
           "position": "absolute",
           "width": "100%"
          }
         },
         "children": [
          "Simulation finished in 0:00:01."
         ],
         "tagName": "div"
        },
        {
         "attributes": {
          "class": "pb-fill",
          "style": {
           "animation": "none",
           "backgroundColor": "#bdd2e6",
           "backgroundImage": "none",
           "transition": "width 0.1s linear",
           "width": "100%"
          }
         },
         "children": [
          {
           "attributes": {
            "scoped": "scoped",
            "type": "text/css"
           },
           "children": [
            "\n                        @keyframes pb-fill-anim {\n                            0% { background-position: 0 0; }\n                            100% { background-position: 100px 0; }\n                        }}"
           ],
           "tagName": "style"
          },
          " "
         ],
         "tagName": "div"
        }
       ],
       "tagName": "div"
      },
      "text/html": [
       "<script>\n",
       "              (function () {\n",
       "                  var root = document.getElementById('07d118b8-5d78-4c5d-be16-92dccac33c46');\n",
       "                  var text = root.getElementsByClassName('pb-text')[0];\n",
       "                  var fill = root.getElementsByClassName('pb-fill')[0];\n",
       "\n",
       "                  text.innerHTML = 'Simulation finished in 0:00:01.';\n",
       "                  \n",
       "            if (100.0 > 0.) {\n",
       "                fill.style.transition = 'width 0.1s linear';\n",
       "            } else {\n",
       "                fill.style.transition = 'none';\n",
       "            }\n",
       "\n",
       "            fill.style.width = '100.0%';\n",
       "            fill.style.animation = 'none';\n",
       "            fill.style.backgroundImage = 'none'\n",
       "        \n",
       "                  \n",
       "                fill.style.animation = 'none';\n",
       "                fill.style.backgroundImage = 'none';\n",
       "            \n",
       "              })();\n",
       "        </script>"
      ]
     },
     "metadata": {},
     "output_type": "display_data"
    },
    {
     "data": {
      "application/vdom.v1+json": {
       "attributes": {},
       "tagName": "div"
      },
      "text/html": [
       "\n",
       "                <script>\n",
       "                    if (Jupyter.version.split(\".\")[0] < 5) {\n",
       "                        var pb = document.getElementById(\"567a3767-8e4c-48fe-8224-8da5c8d90a91\");\n",
       "                        var text = document.createTextNode(\n",
       "                            \"HMTL progress bar requires Jupyter Notebook >= \" +\n",
       "                            \"5.0 or Jupyter Lab. Alternatively, you can use \" +\n",
       "                            \"TerminalProgressBar().\");\n",
       "                        pb.parentNode.insertBefore(text, pb);\n",
       "                    }\n",
       "                </script>\n",
       "                <div id=\"567a3767-8e4c-48fe-8224-8da5c8d90a91\" style=\"\n",
       "                    width: 100%;\n",
       "                    border: 1px solid #cfcfcf;\n",
       "                    border-radius: 4px;\n",
       "                    text-align: center;\n",
       "                    position: relative;\">\n",
       "                  <div class=\"pb-text\" style=\"\n",
       "                      position: absolute;\n",
       "                      width: 100%;\">\n",
       "                    0%\n",
       "                  </div>\n",
       "                  <div class=\"pb-fill\" style=\"\n",
       "                      background-color: #bdd2e6;\n",
       "                      width: 0%;\">\n",
       "                    <style type=\"text/css\" scoped=\"scoped\">\n",
       "                        @keyframes pb-fill-anim {\n",
       "                            0% { background-position: 0 0; }\n",
       "                            100% { background-position: 100px 0; }\n",
       "                        }\n",
       "                    </style>\n",
       "                    &nbsp;\n",
       "                  </div>\n",
       "                </div>"
      ],
      "text/plain": [
       "HtmlProgressBar cannot be displayed. Please use the TerminalProgressBar. It can be enabled with `nengo.rc['progress']['progress_bar'] = 'nengo.utils.progress.TerminalProgressBar'`."
      ]
     },
     "metadata": {},
     "output_type": "display_data"
    },
    {
     "data": {
      "application/vdom.v1+json": {
       "attributes": {
        "id": "e5fb2c95-8d66-42b2-932b-9fddec065911",
        "style": {
         "border": "1px solid #cfcfcf",
         "borderRadius": "4px",
         "boxSizing": "border-box",
         "position": "relative",
         "textAlign": "center",
         "width": "100%"
        }
       },
       "children": [
        {
         "attributes": {
          "class": "pb-text",
          "style": {
           "position": "absolute",
           "width": "100%"
          }
         },
         "children": [
          "Simulation finished in 0:00:01."
         ],
         "tagName": "div"
        },
        {
         "attributes": {
          "class": "pb-fill",
          "style": {
           "animation": "none",
           "backgroundColor": "#bdd2e6",
           "backgroundImage": "none",
           "transition": "width 0.1s linear",
           "width": "100%"
          }
         },
         "children": [
          {
           "attributes": {
            "scoped": "scoped",
            "type": "text/css"
           },
           "children": [
            "\n                        @keyframes pb-fill-anim {\n                            0% { background-position: 0 0; }\n                            100% { background-position: 100px 0; }\n                        }}"
           ],
           "tagName": "style"
          },
          " "
         ],
         "tagName": "div"
        }
       ],
       "tagName": "div"
      },
      "text/html": [
       "<script>\n",
       "              (function () {\n",
       "                  var root = document.getElementById('567a3767-8e4c-48fe-8224-8da5c8d90a91');\n",
       "                  var text = root.getElementsByClassName('pb-text')[0];\n",
       "                  var fill = root.getElementsByClassName('pb-fill')[0];\n",
       "\n",
       "                  text.innerHTML = 'Simulation finished in 0:00:01.';\n",
       "                  \n",
       "            if (100.0 > 0.) {\n",
       "                fill.style.transition = 'width 0.1s linear';\n",
       "            } else {\n",
       "                fill.style.transition = 'none';\n",
       "            }\n",
       "\n",
       "            fill.style.width = '100.0%';\n",
       "            fill.style.animation = 'none';\n",
       "            fill.style.backgroundImage = 'none'\n",
       "        \n",
       "                  \n",
       "                fill.style.animation = 'none';\n",
       "                fill.style.backgroundImage = 'none';\n",
       "            \n",
       "              })();\n",
       "        </script>"
      ]
     },
     "metadata": {},
     "output_type": "display_data"
    },
    {
     "data": {
      "application/vdom.v1+json": {
       "attributes": {},
       "tagName": "div"
      },
      "text/html": [
       "\n",
       "                <script>\n",
       "                    if (Jupyter.version.split(\".\")[0] < 5) {\n",
       "                        var pb = document.getElementById(\"72d040e7-1005-443a-bdd6-48784660a2bd\");\n",
       "                        var text = document.createTextNode(\n",
       "                            \"HMTL progress bar requires Jupyter Notebook >= \" +\n",
       "                            \"5.0 or Jupyter Lab. Alternatively, you can use \" +\n",
       "                            \"TerminalProgressBar().\");\n",
       "                        pb.parentNode.insertBefore(text, pb);\n",
       "                    }\n",
       "                </script>\n",
       "                <div id=\"72d040e7-1005-443a-bdd6-48784660a2bd\" style=\"\n",
       "                    width: 100%;\n",
       "                    border: 1px solid #cfcfcf;\n",
       "                    border-radius: 4px;\n",
       "                    text-align: center;\n",
       "                    position: relative;\">\n",
       "                  <div class=\"pb-text\" style=\"\n",
       "                      position: absolute;\n",
       "                      width: 100%;\">\n",
       "                    0%\n",
       "                  </div>\n",
       "                  <div class=\"pb-fill\" style=\"\n",
       "                      background-color: #bdd2e6;\n",
       "                      width: 0%;\">\n",
       "                    <style type=\"text/css\" scoped=\"scoped\">\n",
       "                        @keyframes pb-fill-anim {\n",
       "                            0% { background-position: 0 0; }\n",
       "                            100% { background-position: 100px 0; }\n",
       "                        }\n",
       "                    </style>\n",
       "                    &nbsp;\n",
       "                  </div>\n",
       "                </div>"
      ],
      "text/plain": [
       "HtmlProgressBar cannot be displayed. Please use the TerminalProgressBar. It can be enabled with `nengo.rc['progress']['progress_bar'] = 'nengo.utils.progress.TerminalProgressBar'`."
      ]
     },
     "metadata": {},
     "output_type": "display_data"
    },
    {
     "data": {
      "application/vdom.v1+json": {
       "attributes": {
        "id": "f48c0a47-7e3d-442c-9af6-60bc838368fb",
        "style": {
         "border": "1px solid #cfcfcf",
         "borderRadius": "4px",
         "boxSizing": "border-box",
         "position": "relative",
         "textAlign": "center",
         "width": "100%"
        }
       },
       "children": [
        {
         "attributes": {
          "class": "pb-text",
          "style": {
           "position": "absolute",
           "width": "100%"
          }
         },
         "children": [
          "Simulation finished in 0:00:01."
         ],
         "tagName": "div"
        },
        {
         "attributes": {
          "class": "pb-fill",
          "style": {
           "animation": "none",
           "backgroundColor": "#bdd2e6",
           "backgroundImage": "none",
           "transition": "width 0.1s linear",
           "width": "100%"
          }
         },
         "children": [
          {
           "attributes": {
            "scoped": "scoped",
            "type": "text/css"
           },
           "children": [
            "\n                        @keyframes pb-fill-anim {\n                            0% { background-position: 0 0; }\n                            100% { background-position: 100px 0; }\n                        }}"
           ],
           "tagName": "style"
          },
          " "
         ],
         "tagName": "div"
        }
       ],
       "tagName": "div"
      },
      "text/html": [
       "<script>\n",
       "              (function () {\n",
       "                  var root = document.getElementById('72d040e7-1005-443a-bdd6-48784660a2bd');\n",
       "                  var text = root.getElementsByClassName('pb-text')[0];\n",
       "                  var fill = root.getElementsByClassName('pb-fill')[0];\n",
       "\n",
       "                  text.innerHTML = 'Simulation finished in 0:00:01.';\n",
       "                  \n",
       "            if (100.0 > 0.) {\n",
       "                fill.style.transition = 'width 0.1s linear';\n",
       "            } else {\n",
       "                fill.style.transition = 'none';\n",
       "            }\n",
       "\n",
       "            fill.style.width = '100.0%';\n",
       "            fill.style.animation = 'none';\n",
       "            fill.style.backgroundImage = 'none'\n",
       "        \n",
       "                  \n",
       "                fill.style.animation = 'none';\n",
       "                fill.style.backgroundImage = 'none';\n",
       "            \n",
       "              })();\n",
       "        </script>"
      ]
     },
     "metadata": {},
     "output_type": "display_data"
    },
    {
     "data": {
      "application/vdom.v1+json": {
       "attributes": {},
       "tagName": "div"
      },
      "text/html": [
       "\n",
       "                <script>\n",
       "                    if (Jupyter.version.split(\".\")[0] < 5) {\n",
       "                        var pb = document.getElementById(\"da695a93-48eb-451a-8044-f02fefb66983\");\n",
       "                        var text = document.createTextNode(\n",
       "                            \"HMTL progress bar requires Jupyter Notebook >= \" +\n",
       "                            \"5.0 or Jupyter Lab. Alternatively, you can use \" +\n",
       "                            \"TerminalProgressBar().\");\n",
       "                        pb.parentNode.insertBefore(text, pb);\n",
       "                    }\n",
       "                </script>\n",
       "                <div id=\"da695a93-48eb-451a-8044-f02fefb66983\" style=\"\n",
       "                    width: 100%;\n",
       "                    border: 1px solid #cfcfcf;\n",
       "                    border-radius: 4px;\n",
       "                    text-align: center;\n",
       "                    position: relative;\">\n",
       "                  <div class=\"pb-text\" style=\"\n",
       "                      position: absolute;\n",
       "                      width: 100%;\">\n",
       "                    0%\n",
       "                  </div>\n",
       "                  <div class=\"pb-fill\" style=\"\n",
       "                      background-color: #bdd2e6;\n",
       "                      width: 0%;\">\n",
       "                    <style type=\"text/css\" scoped=\"scoped\">\n",
       "                        @keyframes pb-fill-anim {\n",
       "                            0% { background-position: 0 0; }\n",
       "                            100% { background-position: 100px 0; }\n",
       "                        }\n",
       "                    </style>\n",
       "                    &nbsp;\n",
       "                  </div>\n",
       "                </div>"
      ],
      "text/plain": [
       "HtmlProgressBar cannot be displayed. Please use the TerminalProgressBar. It can be enabled with `nengo.rc['progress']['progress_bar'] = 'nengo.utils.progress.TerminalProgressBar'`."
      ]
     },
     "metadata": {},
     "output_type": "display_data"
    },
    {
     "data": {
      "application/vdom.v1+json": {
       "attributes": {
        "id": "1d4ae092-bb77-4011-bc0a-6c095fd5aa7b",
        "style": {
         "border": "1px solid #cfcfcf",
         "borderRadius": "4px",
         "boxSizing": "border-box",
         "position": "relative",
         "textAlign": "center",
         "width": "100%"
        }
       },
       "children": [
        {
         "attributes": {
          "class": "pb-text",
          "style": {
           "position": "absolute",
           "width": "100%"
          }
         },
         "children": [
          "Simulation finished in 0:00:01."
         ],
         "tagName": "div"
        },
        {
         "attributes": {
          "class": "pb-fill",
          "style": {
           "animation": "none",
           "backgroundColor": "#bdd2e6",
           "backgroundImage": "none",
           "transition": "width 0.1s linear",
           "width": "100%"
          }
         },
         "children": [
          {
           "attributes": {
            "scoped": "scoped",
            "type": "text/css"
           },
           "children": [
            "\n                        @keyframes pb-fill-anim {\n                            0% { background-position: 0 0; }\n                            100% { background-position: 100px 0; }\n                        }}"
           ],
           "tagName": "style"
          },
          " "
         ],
         "tagName": "div"
        }
       ],
       "tagName": "div"
      },
      "text/html": [
       "<script>\n",
       "              (function () {\n",
       "                  var root = document.getElementById('da695a93-48eb-451a-8044-f02fefb66983');\n",
       "                  var text = root.getElementsByClassName('pb-text')[0];\n",
       "                  var fill = root.getElementsByClassName('pb-fill')[0];\n",
       "\n",
       "                  text.innerHTML = 'Simulation finished in 0:00:01.';\n",
       "                  \n",
       "            if (100.0 > 0.) {\n",
       "                fill.style.transition = 'width 0.1s linear';\n",
       "            } else {\n",
       "                fill.style.transition = 'none';\n",
       "            }\n",
       "\n",
       "            fill.style.width = '100.0%';\n",
       "            fill.style.animation = 'none';\n",
       "            fill.style.backgroundImage = 'none'\n",
       "        \n",
       "                  \n",
       "                fill.style.animation = 'none';\n",
       "                fill.style.backgroundImage = 'none';\n",
       "            \n",
       "              })();\n",
       "        </script>"
      ]
     },
     "metadata": {},
     "output_type": "display_data"
    },
    {
     "data": {
      "application/vdom.v1+json": {
       "attributes": {},
       "tagName": "div"
      },
      "text/html": [
       "\n",
       "                <script>\n",
       "                    if (Jupyter.version.split(\".\")[0] < 5) {\n",
       "                        var pb = document.getElementById(\"099d76d6-5e8a-4f41-a327-133e4758709c\");\n",
       "                        var text = document.createTextNode(\n",
       "                            \"HMTL progress bar requires Jupyter Notebook >= \" +\n",
       "                            \"5.0 or Jupyter Lab. Alternatively, you can use \" +\n",
       "                            \"TerminalProgressBar().\");\n",
       "                        pb.parentNode.insertBefore(text, pb);\n",
       "                    }\n",
       "                </script>\n",
       "                <div id=\"099d76d6-5e8a-4f41-a327-133e4758709c\" style=\"\n",
       "                    width: 100%;\n",
       "                    border: 1px solid #cfcfcf;\n",
       "                    border-radius: 4px;\n",
       "                    text-align: center;\n",
       "                    position: relative;\">\n",
       "                  <div class=\"pb-text\" style=\"\n",
       "                      position: absolute;\n",
       "                      width: 100%;\">\n",
       "                    0%\n",
       "                  </div>\n",
       "                  <div class=\"pb-fill\" style=\"\n",
       "                      background-color: #bdd2e6;\n",
       "                      width: 0%;\">\n",
       "                    <style type=\"text/css\" scoped=\"scoped\">\n",
       "                        @keyframes pb-fill-anim {\n",
       "                            0% { background-position: 0 0; }\n",
       "                            100% { background-position: 100px 0; }\n",
       "                        }\n",
       "                    </style>\n",
       "                    &nbsp;\n",
       "                  </div>\n",
       "                </div>"
      ],
      "text/plain": [
       "HtmlProgressBar cannot be displayed. Please use the TerminalProgressBar. It can be enabled with `nengo.rc['progress']['progress_bar'] = 'nengo.utils.progress.TerminalProgressBar'`."
      ]
     },
     "metadata": {},
     "output_type": "display_data"
    },
    {
     "data": {
      "application/vdom.v1+json": {
       "attributes": {
        "id": "27c2000f-efa7-41d8-81be-52f508c0aa72",
        "style": {
         "border": "1px solid #cfcfcf",
         "borderRadius": "4px",
         "boxSizing": "border-box",
         "position": "relative",
         "textAlign": "center",
         "width": "100%"
        }
       },
       "children": [
        {
         "attributes": {
          "class": "pb-text",
          "style": {
           "position": "absolute",
           "width": "100%"
          }
         },
         "children": [
          "Simulation finished in 0:00:01."
         ],
         "tagName": "div"
        },
        {
         "attributes": {
          "class": "pb-fill",
          "style": {
           "animation": "none",
           "backgroundColor": "#bdd2e6",
           "backgroundImage": "none",
           "transition": "width 0.1s linear",
           "width": "100%"
          }
         },
         "children": [
          {
           "attributes": {
            "scoped": "scoped",
            "type": "text/css"
           },
           "children": [
            "\n                        @keyframes pb-fill-anim {\n                            0% { background-position: 0 0; }\n                            100% { background-position: 100px 0; }\n                        }}"
           ],
           "tagName": "style"
          },
          " "
         ],
         "tagName": "div"
        }
       ],
       "tagName": "div"
      },
      "text/html": [
       "<script>\n",
       "              (function () {\n",
       "                  var root = document.getElementById('099d76d6-5e8a-4f41-a327-133e4758709c');\n",
       "                  var text = root.getElementsByClassName('pb-text')[0];\n",
       "                  var fill = root.getElementsByClassName('pb-fill')[0];\n",
       "\n",
       "                  text.innerHTML = 'Simulation finished in 0:00:01.';\n",
       "                  \n",
       "            if (100.0 > 0.) {\n",
       "                fill.style.transition = 'width 0.1s linear';\n",
       "            } else {\n",
       "                fill.style.transition = 'none';\n",
       "            }\n",
       "\n",
       "            fill.style.width = '100.0%';\n",
       "            fill.style.animation = 'none';\n",
       "            fill.style.backgroundImage = 'none'\n",
       "        \n",
       "                  \n",
       "                fill.style.animation = 'none';\n",
       "                fill.style.backgroundImage = 'none';\n",
       "            \n",
       "              })();\n",
       "        </script>"
      ]
     },
     "metadata": {},
     "output_type": "display_data"
    },
    {
     "data": {
      "application/vdom.v1+json": {
       "attributes": {},
       "tagName": "div"
      },
      "text/html": [
       "\n",
       "                <script>\n",
       "                    if (Jupyter.version.split(\".\")[0] < 5) {\n",
       "                        var pb = document.getElementById(\"8c345b96-1267-42a0-913e-89d6d9c86a55\");\n",
       "                        var text = document.createTextNode(\n",
       "                            \"HMTL progress bar requires Jupyter Notebook >= \" +\n",
       "                            \"5.0 or Jupyter Lab. Alternatively, you can use \" +\n",
       "                            \"TerminalProgressBar().\");\n",
       "                        pb.parentNode.insertBefore(text, pb);\n",
       "                    }\n",
       "                </script>\n",
       "                <div id=\"8c345b96-1267-42a0-913e-89d6d9c86a55\" style=\"\n",
       "                    width: 100%;\n",
       "                    border: 1px solid #cfcfcf;\n",
       "                    border-radius: 4px;\n",
       "                    text-align: center;\n",
       "                    position: relative;\">\n",
       "                  <div class=\"pb-text\" style=\"\n",
       "                      position: absolute;\n",
       "                      width: 100%;\">\n",
       "                    0%\n",
       "                  </div>\n",
       "                  <div class=\"pb-fill\" style=\"\n",
       "                      background-color: #bdd2e6;\n",
       "                      width: 0%;\">\n",
       "                    <style type=\"text/css\" scoped=\"scoped\">\n",
       "                        @keyframes pb-fill-anim {\n",
       "                            0% { background-position: 0 0; }\n",
       "                            100% { background-position: 100px 0; }\n",
       "                        }\n",
       "                    </style>\n",
       "                    &nbsp;\n",
       "                  </div>\n",
       "                </div>"
      ],
      "text/plain": [
       "HtmlProgressBar cannot be displayed. Please use the TerminalProgressBar. It can be enabled with `nengo.rc['progress']['progress_bar'] = 'nengo.utils.progress.TerminalProgressBar'`."
      ]
     },
     "metadata": {},
     "output_type": "display_data"
    },
    {
     "data": {
      "application/vdom.v1+json": {
       "attributes": {
        "id": "7960643d-8a28-4b18-b979-b1056671ea3f",
        "style": {
         "border": "1px solid #cfcfcf",
         "borderRadius": "4px",
         "boxSizing": "border-box",
         "position": "relative",
         "textAlign": "center",
         "width": "100%"
        }
       },
       "children": [
        {
         "attributes": {
          "class": "pb-text",
          "style": {
           "position": "absolute",
           "width": "100%"
          }
         },
         "children": [
          "Simulation finished in 0:00:01."
         ],
         "tagName": "div"
        },
        {
         "attributes": {
          "class": "pb-fill",
          "style": {
           "animation": "none",
           "backgroundColor": "#bdd2e6",
           "backgroundImage": "none",
           "transition": "width 0.1s linear",
           "width": "100%"
          }
         },
         "children": [
          {
           "attributes": {
            "scoped": "scoped",
            "type": "text/css"
           },
           "children": [
            "\n                        @keyframes pb-fill-anim {\n                            0% { background-position: 0 0; }\n                            100% { background-position: 100px 0; }\n                        }}"
           ],
           "tagName": "style"
          },
          " "
         ],
         "tagName": "div"
        }
       ],
       "tagName": "div"
      },
      "text/html": [
       "<script>\n",
       "              (function () {\n",
       "                  var root = document.getElementById('8c345b96-1267-42a0-913e-89d6d9c86a55');\n",
       "                  var text = root.getElementsByClassName('pb-text')[0];\n",
       "                  var fill = root.getElementsByClassName('pb-fill')[0];\n",
       "\n",
       "                  text.innerHTML = 'Simulation finished in 0:00:01.';\n",
       "                  \n",
       "            if (100.0 > 0.) {\n",
       "                fill.style.transition = 'width 0.1s linear';\n",
       "            } else {\n",
       "                fill.style.transition = 'none';\n",
       "            }\n",
       "\n",
       "            fill.style.width = '100.0%';\n",
       "            fill.style.animation = 'none';\n",
       "            fill.style.backgroundImage = 'none'\n",
       "        \n",
       "                  \n",
       "                fill.style.animation = 'none';\n",
       "                fill.style.backgroundImage = 'none';\n",
       "            \n",
       "              })();\n",
       "        </script>"
      ]
     },
     "metadata": {},
     "output_type": "display_data"
    },
    {
     "data": {
      "application/vdom.v1+json": {
       "attributes": {},
       "tagName": "div"
      },
      "text/html": [
       "\n",
       "                <script>\n",
       "                    if (Jupyter.version.split(\".\")[0] < 5) {\n",
       "                        var pb = document.getElementById(\"2de03c87-af29-4d79-b25e-89c9d63a84df\");\n",
       "                        var text = document.createTextNode(\n",
       "                            \"HMTL progress bar requires Jupyter Notebook >= \" +\n",
       "                            \"5.0 or Jupyter Lab. Alternatively, you can use \" +\n",
       "                            \"TerminalProgressBar().\");\n",
       "                        pb.parentNode.insertBefore(text, pb);\n",
       "                    }\n",
       "                </script>\n",
       "                <div id=\"2de03c87-af29-4d79-b25e-89c9d63a84df\" style=\"\n",
       "                    width: 100%;\n",
       "                    border: 1px solid #cfcfcf;\n",
       "                    border-radius: 4px;\n",
       "                    text-align: center;\n",
       "                    position: relative;\">\n",
       "                  <div class=\"pb-text\" style=\"\n",
       "                      position: absolute;\n",
       "                      width: 100%;\">\n",
       "                    0%\n",
       "                  </div>\n",
       "                  <div class=\"pb-fill\" style=\"\n",
       "                      background-color: #bdd2e6;\n",
       "                      width: 0%;\">\n",
       "                    <style type=\"text/css\" scoped=\"scoped\">\n",
       "                        @keyframes pb-fill-anim {\n",
       "                            0% { background-position: 0 0; }\n",
       "                            100% { background-position: 100px 0; }\n",
       "                        }\n",
       "                    </style>\n",
       "                    &nbsp;\n",
       "                  </div>\n",
       "                </div>"
      ],
      "text/plain": [
       "HtmlProgressBar cannot be displayed. Please use the TerminalProgressBar. It can be enabled with `nengo.rc['progress']['progress_bar'] = 'nengo.utils.progress.TerminalProgressBar'`."
      ]
     },
     "metadata": {},
     "output_type": "display_data"
    },
    {
     "data": {
      "application/vdom.v1+json": {
       "attributes": {
        "id": "15cab909-ed6e-47b1-a9d0-3ba8a30c4bdd",
        "style": {
         "border": "1px solid #cfcfcf",
         "borderRadius": "4px",
         "boxSizing": "border-box",
         "position": "relative",
         "textAlign": "center",
         "width": "100%"
        }
       },
       "children": [
        {
         "attributes": {
          "class": "pb-text",
          "style": {
           "position": "absolute",
           "width": "100%"
          }
         },
         "children": [
          "Simulation finished in 0:00:01."
         ],
         "tagName": "div"
        },
        {
         "attributes": {
          "class": "pb-fill",
          "style": {
           "animation": "none",
           "backgroundColor": "#bdd2e6",
           "backgroundImage": "none",
           "transition": "width 0.1s linear",
           "width": "100%"
          }
         },
         "children": [
          {
           "attributes": {
            "scoped": "scoped",
            "type": "text/css"
           },
           "children": [
            "\n                        @keyframes pb-fill-anim {\n                            0% { background-position: 0 0; }\n                            100% { background-position: 100px 0; }\n                        }}"
           ],
           "tagName": "style"
          },
          " "
         ],
         "tagName": "div"
        }
       ],
       "tagName": "div"
      },
      "text/html": [
       "<script>\n",
       "              (function () {\n",
       "                  var root = document.getElementById('2de03c87-af29-4d79-b25e-89c9d63a84df');\n",
       "                  var text = root.getElementsByClassName('pb-text')[0];\n",
       "                  var fill = root.getElementsByClassName('pb-fill')[0];\n",
       "\n",
       "                  text.innerHTML = 'Simulation finished in 0:00:01.';\n",
       "                  \n",
       "            if (100.0 > 0.) {\n",
       "                fill.style.transition = 'width 0.1s linear';\n",
       "            } else {\n",
       "                fill.style.transition = 'none';\n",
       "            }\n",
       "\n",
       "            fill.style.width = '100.0%';\n",
       "            fill.style.animation = 'none';\n",
       "            fill.style.backgroundImage = 'none'\n",
       "        \n",
       "                  \n",
       "                fill.style.animation = 'none';\n",
       "                fill.style.backgroundImage = 'none';\n",
       "            \n",
       "              })();\n",
       "        </script>"
      ]
     },
     "metadata": {},
     "output_type": "display_data"
    },
    {
     "data": {
      "application/vdom.v1+json": {
       "attributes": {},
       "tagName": "div"
      },
      "text/html": [
       "\n",
       "                <script>\n",
       "                    if (Jupyter.version.split(\".\")[0] < 5) {\n",
       "                        var pb = document.getElementById(\"57f564a2-26ac-4a01-a8d6-35de4d3aed3e\");\n",
       "                        var text = document.createTextNode(\n",
       "                            \"HMTL progress bar requires Jupyter Notebook >= \" +\n",
       "                            \"5.0 or Jupyter Lab. Alternatively, you can use \" +\n",
       "                            \"TerminalProgressBar().\");\n",
       "                        pb.parentNode.insertBefore(text, pb);\n",
       "                    }\n",
       "                </script>\n",
       "                <div id=\"57f564a2-26ac-4a01-a8d6-35de4d3aed3e\" style=\"\n",
       "                    width: 100%;\n",
       "                    border: 1px solid #cfcfcf;\n",
       "                    border-radius: 4px;\n",
       "                    text-align: center;\n",
       "                    position: relative;\">\n",
       "                  <div class=\"pb-text\" style=\"\n",
       "                      position: absolute;\n",
       "                      width: 100%;\">\n",
       "                    0%\n",
       "                  </div>\n",
       "                  <div class=\"pb-fill\" style=\"\n",
       "                      background-color: #bdd2e6;\n",
       "                      width: 0%;\">\n",
       "                    <style type=\"text/css\" scoped=\"scoped\">\n",
       "                        @keyframes pb-fill-anim {\n",
       "                            0% { background-position: 0 0; }\n",
       "                            100% { background-position: 100px 0; }\n",
       "                        }\n",
       "                    </style>\n",
       "                    &nbsp;\n",
       "                  </div>\n",
       "                </div>"
      ],
      "text/plain": [
       "HtmlProgressBar cannot be displayed. Please use the TerminalProgressBar. It can be enabled with `nengo.rc['progress']['progress_bar'] = 'nengo.utils.progress.TerminalProgressBar'`."
      ]
     },
     "metadata": {},
     "output_type": "display_data"
    },
    {
     "data": {
      "application/vdom.v1+json": {
       "attributes": {
        "id": "c0a0bb7e-f9e1-4239-95d9-8ad17b3e4828",
        "style": {
         "border": "1px solid #cfcfcf",
         "borderRadius": "4px",
         "boxSizing": "border-box",
         "position": "relative",
         "textAlign": "center",
         "width": "100%"
        }
       },
       "children": [
        {
         "attributes": {
          "class": "pb-text",
          "style": {
           "position": "absolute",
           "width": "100%"
          }
         },
         "children": [
          "Simulation finished in 0:00:01."
         ],
         "tagName": "div"
        },
        {
         "attributes": {
          "class": "pb-fill",
          "style": {
           "animation": "none",
           "backgroundColor": "#bdd2e6",
           "backgroundImage": "none",
           "transition": "width 0.1s linear",
           "width": "100%"
          }
         },
         "children": [
          {
           "attributes": {
            "scoped": "scoped",
            "type": "text/css"
           },
           "children": [
            "\n                        @keyframes pb-fill-anim {\n                            0% { background-position: 0 0; }\n                            100% { background-position: 100px 0; }\n                        }}"
           ],
           "tagName": "style"
          },
          " "
         ],
         "tagName": "div"
        }
       ],
       "tagName": "div"
      },
      "text/html": [
       "<script>\n",
       "              (function () {\n",
       "                  var root = document.getElementById('57f564a2-26ac-4a01-a8d6-35de4d3aed3e');\n",
       "                  var text = root.getElementsByClassName('pb-text')[0];\n",
       "                  var fill = root.getElementsByClassName('pb-fill')[0];\n",
       "\n",
       "                  text.innerHTML = 'Simulation finished in 0:00:01.';\n",
       "                  \n",
       "            if (100.0 > 0.) {\n",
       "                fill.style.transition = 'width 0.1s linear';\n",
       "            } else {\n",
       "                fill.style.transition = 'none';\n",
       "            }\n",
       "\n",
       "            fill.style.width = '100.0%';\n",
       "            fill.style.animation = 'none';\n",
       "            fill.style.backgroundImage = 'none'\n",
       "        \n",
       "                  \n",
       "                fill.style.animation = 'none';\n",
       "                fill.style.backgroundImage = 'none';\n",
       "            \n",
       "              })();\n",
       "        </script>"
      ]
     },
     "metadata": {},
     "output_type": "display_data"
    },
    {
     "data": {
      "application/vdom.v1+json": {
       "attributes": {},
       "tagName": "div"
      },
      "text/html": [
       "\n",
       "                <script>\n",
       "                    if (Jupyter.version.split(\".\")[0] < 5) {\n",
       "                        var pb = document.getElementById(\"0473c930-2f99-45dd-a710-4a4f8a9a68fd\");\n",
       "                        var text = document.createTextNode(\n",
       "                            \"HMTL progress bar requires Jupyter Notebook >= \" +\n",
       "                            \"5.0 or Jupyter Lab. Alternatively, you can use \" +\n",
       "                            \"TerminalProgressBar().\");\n",
       "                        pb.parentNode.insertBefore(text, pb);\n",
       "                    }\n",
       "                </script>\n",
       "                <div id=\"0473c930-2f99-45dd-a710-4a4f8a9a68fd\" style=\"\n",
       "                    width: 100%;\n",
       "                    border: 1px solid #cfcfcf;\n",
       "                    border-radius: 4px;\n",
       "                    text-align: center;\n",
       "                    position: relative;\">\n",
       "                  <div class=\"pb-text\" style=\"\n",
       "                      position: absolute;\n",
       "                      width: 100%;\">\n",
       "                    0%\n",
       "                  </div>\n",
       "                  <div class=\"pb-fill\" style=\"\n",
       "                      background-color: #bdd2e6;\n",
       "                      width: 0%;\">\n",
       "                    <style type=\"text/css\" scoped=\"scoped\">\n",
       "                        @keyframes pb-fill-anim {\n",
       "                            0% { background-position: 0 0; }\n",
       "                            100% { background-position: 100px 0; }\n",
       "                        }\n",
       "                    </style>\n",
       "                    &nbsp;\n",
       "                  </div>\n",
       "                </div>"
      ],
      "text/plain": [
       "HtmlProgressBar cannot be displayed. Please use the TerminalProgressBar. It can be enabled with `nengo.rc['progress']['progress_bar'] = 'nengo.utils.progress.TerminalProgressBar'`."
      ]
     },
     "metadata": {},
     "output_type": "display_data"
    },
    {
     "data": {
      "application/vdom.v1+json": {
       "attributes": {
        "id": "31541881-543f-4cf4-960d-7bec05cacce6",
        "style": {
         "border": "1px solid #cfcfcf",
         "borderRadius": "4px",
         "boxSizing": "border-box",
         "position": "relative",
         "textAlign": "center",
         "width": "100%"
        }
       },
       "children": [
        {
         "attributes": {
          "class": "pb-text",
          "style": {
           "position": "absolute",
           "width": "100%"
          }
         },
         "children": [
          "Simulation finished in 0:00:01."
         ],
         "tagName": "div"
        },
        {
         "attributes": {
          "class": "pb-fill",
          "style": {
           "animation": "none",
           "backgroundColor": "#bdd2e6",
           "backgroundImage": "none",
           "transition": "width 0.1s linear",
           "width": "100%"
          }
         },
         "children": [
          {
           "attributes": {
            "scoped": "scoped",
            "type": "text/css"
           },
           "children": [
            "\n                        @keyframes pb-fill-anim {\n                            0% { background-position: 0 0; }\n                            100% { background-position: 100px 0; }\n                        }}"
           ],
           "tagName": "style"
          },
          " "
         ],
         "tagName": "div"
        }
       ],
       "tagName": "div"
      },
      "text/html": [
       "<script>\n",
       "              (function () {\n",
       "                  var root = document.getElementById('0473c930-2f99-45dd-a710-4a4f8a9a68fd');\n",
       "                  var text = root.getElementsByClassName('pb-text')[0];\n",
       "                  var fill = root.getElementsByClassName('pb-fill')[0];\n",
       "\n",
       "                  text.innerHTML = 'Simulation finished in 0:00:01.';\n",
       "                  \n",
       "            if (100.0 > 0.) {\n",
       "                fill.style.transition = 'width 0.1s linear';\n",
       "            } else {\n",
       "                fill.style.transition = 'none';\n",
       "            }\n",
       "\n",
       "            fill.style.width = '100.0%';\n",
       "            fill.style.animation = 'none';\n",
       "            fill.style.backgroundImage = 'none'\n",
       "        \n",
       "                  \n",
       "                fill.style.animation = 'none';\n",
       "                fill.style.backgroundImage = 'none';\n",
       "            \n",
       "              })();\n",
       "        </script>"
      ]
     },
     "metadata": {},
     "output_type": "display_data"
    }
   ],
   "source": [
    "INFERENCE = False\n",
    "train_network(sim, PC_net, stab, learn, t)\n",
    "INFERENCE = True\n",
    "sim.run(4.)"
   ]
  },
  {
   "cell_type": "code",
   "execution_count": 33,
   "id": "295d1d8b",
   "metadata": {},
   "outputs": [
    {
     "name": "stdout",
     "output_type": "stream",
     "text": [
      "Inference starts at t=10.0\n"
     ]
    },
    {
     "data": {
      "image/png": "[encoded data removed]",
      "text/plain": [
       "<Figure size 1000x700 with 2 Axes>"
      ]
     },
     "metadata": {},
     "output_type": "display_data"
    }
   ],
   "source": [
    "fig, ax = plt.subplots(nrows=1, ncols=2, figsize=(10,7))\n",
    "\n",
    "ax[0].plot(sim.trange(), sim.data[p_pc1v]);\n",
    "ax[1].plot(sim.trange(), sim.data[p_pc1e]);\n",
    "ax[0].plot(sim.trange(), sim.data[p_pc_end_v]);\n",
    "ax[1].plot(sim.trange(), sim.data[p_pc_end_e]);\n",
    "ax[0].plot(sim.trange(), sim.data[p_stim], ':');\n",
    "ax[0].plot(sim.trange(), sim.data[p_pred], \"--\");\n",
    "ax[0].legend(['pc1_v[0]', 'pc1_v[1]', 'pc2_v[0]', 'pc2_v[1]', 'stim[0]', 'stim[1]', 'pred[0]', 'pred[1]'],\n",
    "             loc='upper right', bbox_to_anchor=(1, 1.5));\n",
    "ax[1].legend(['pc1_e[0]', 'pc1_e[1]', 'pc2_e[0]', 'pc2_e[1]'],\n",
    "             loc='upper left', bbox_to_anchor=(0.6, 1.2));\n",
    "\n",
    "print(f\"Inference starts at t={t}\")"
   ]
  },
  {
   "cell_type": "markdown",
   "id": "7914c503",
   "metadata": {},
   "source": [
    "### Copying Network Weights"
   ]
  },
  {
   "cell_type": "code",
   "execution_count": 78,
   "id": "f03c4378",
   "metadata": {},
   "outputs": [],
   "source": [
    "with nengo.Network() as net_inference:\n",
    "    tau = 0.01\n",
    "    #============== Run in Direct mode =======================\n",
    "    net.config[nengo.Ensemble].neuron_type = nengo.Direct()\n",
    "    #=========================================================\n",
    "    net.config[nengo.Connection].synapse = tau\n",
    "    net.config[nengo.Probe].synapse = 0.05\n",
    "    \n",
    "    # Inputs\n",
    "    stim = nengo.Node([1, 2])   # sensory (bottom layer)\n",
    "    pred = nengo.Node([0.5, 3])  # percept (top layer)\n",
    "\n",
    "    PC_net2 = PCNetwork(3, learn=False, tau_learn=100, n_nodes=[2, 5, 2], symmetric=True)\n",
    "    PC_net2.connect_input(stim=stim)\n",
    "\n",
    "    #copy connection weights over\n",
    "    for idx, connection in enumerate(PC_net2.connections):\n",
    "        connection.M = deepcopy(PC_net.connections[idx].M)\n",
    "        connection.W = deepcopy(PC_net.connections[idx].W)\n",
    "\n",
    "    p_stim = nengo.Probe(stim)\n",
    "    p_pred = nengo.Probe(pred)\n",
    "\n",
    "    val_probes, err_probes = PC_net2.get_probes()\n",
    "    "
   ]
  },
  {
   "cell_type": "code",
   "execution_count": 79,
   "id": "b5eef234",
   "metadata": {},
   "outputs": [
    {
     "name": "stdout",
     "output_type": "stream",
     "text": [
      "Build finished in 0:00:01.                                                      \n"
     ]
    }
   ],
   "source": [
    "sim = nengo.Simulator(net_inference)"
   ]
  },
  {
   "cell_type": "code",
   "execution_count": 80,
   "id": "0c53910d",
   "metadata": {},
   "outputs": [],
   "source": [
    "PC_net2.update_learning_rule(False)"
   ]
  },
  {
   "cell_type": "code",
   "execution_count": 81,
   "id": "b253373e",
   "metadata": {},
   "outputs": [
    {
     "name": "stdout",
     "output_type": "stream",
     "text": [
      "Simulation finished in 0:00:06.                                                 \n"
     ]
    }
   ],
   "source": [
    "sim.run(10.)"
   ]
  },
  {
   "cell_type": "code",
   "execution_count": 82,
   "id": "b6d194db",
   "metadata": {},
   "outputs": [
    {
     "data": {
      "image/png": "[encoded data removed]",
      "text/plain": [
       "<Figure size 640x480 with 2 Axes>"
      ]
     },
     "metadata": {},
     "output_type": "display_data"
    }
   ],
   "source": [
    "fig, ax = plt.subplots(nrows=1, ncols=2)\n",
    "\n",
    "ax[0].plot(sim.trange(), sim.data[val_probes[0]]);\n",
    "ax[1].plot(sim.trange(), sim.data[err_probes[0]]);\n",
    "ax[0].plot(sim.trange(), sim.data[val_probes[-1]]);\n",
    "ax[1].plot(sim.trange(), sim.data[err_probes[-1]]);\n",
    "\n",
    "ax[0].plot(sim.trange(), sim.data[p_stim], ':');\n",
    "ax[0].plot(sim.trange(), sim.data[p_pred], \"--\");\n",
    "\n",
    "labels = [val_probes[i].label for i in range(len(val_probes))]\n",
    "labels.extend(['stim[0]', 'stim[1]', 'pred[0]', 'pred[1]'])\n",
    "ax[0].legend(['1st layer[0]', '1st layer[1]', 'last layer[0]', 'last layer[1]', 'stim[0]', 'stim[1]', 'pred[0]', 'pred[1]'],\n",
    "             loc='upper right', bbox_to_anchor=(1, 1.5));\n",
    "ax[1].legend([err_probes[i].label for i in range(len(err_probes))],\n",
    "             loc='upper left', bbox_to_anchor=(0.6, 1.2));"
   ]
  },
  {
   "cell_type": "code",
   "execution_count": null,
   "id": "640fc676",
   "metadata": {},
   "outputs": [],
   "source": []
  }
 ],
 "metadata": {
  "kernelspec": {
   "display_name": "Python 3 (ipykernel)",
   "language": "python",
   "name": "python3"
  },
  "language_info": {
   "codemirror_mode": {
    "name": "ipython",
    "version": 3
   },
   "file_extension": ".py",
   "mimetype": "text/x-python",
   "name": "python",
   "nbconvert_exporter": "python",
   "pygments_lexer": "ipython3",
   "version": "3.9.6"
  },
  "varInspector": {
   "cols": {
    "lenName": 16,
    "lenType": 16,
    "lenVar": 40
   },
   "kernels_config": {
    "python": {
     "delete_cmd_postfix": "",
     "delete_cmd_prefix": "del ",
     "library": "var_list.py",
     "varRefreshCmd": "print(var_dic_list())"
    },
    "r": {
     "delete_cmd_postfix": ") ",
     "delete_cmd_prefix": "rm(",
     "library": "var_list.r",
     "varRefreshCmd": "cat(var_dic_list()) "
    }
   },
   "types_to_exclude": [
    "module",
    "function",
    "builtin_function_or_method",
    "instance",
    "_Feature"
   ],
   "window_display": false
  }
 },
 "nbformat": 4,
 "nbformat_minor": 5
}
